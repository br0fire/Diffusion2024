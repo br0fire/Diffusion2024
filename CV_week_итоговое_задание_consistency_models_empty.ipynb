{
 "cells": [
  {
   "cell_type": "markdown",
   "id": "c3bb8ead",
   "metadata": {
    "id": "c3bb8ead"
   },
   "source": [
    "# CV Week: Итоговое задание\n",
    "\n",
    "На лекции и семинаре мы разбирали как дистиллировать многошаговую диффузионную модель в малошагового студента, и тем самым будет работать на порядок быстрее учителя.\n",
    "\n",
    "Один из подходов, который мы разбирали *Consistency Distillation*. В этом задании, мы закрепим материал, который был на лекции и семинаре и реализуем этот фреймворк, затрагивая различные нюансы.\n",
    "\n",
    "В этом задании мы будем дистиллировать модель *Stable Diffusion 1.5 (SD1.5)* для генерации картинок по текстовому описанию.\n",
    "\n",
    "Вам предстоит выполнить 8 небольших заданий, которые приведут нас к неплохой модели для генерации картинок за 4 шага, работая в органиченных условиях колаба."
   ]
  },
  {
   "cell_type": "code",
   "execution_count": 1,
   "id": "585e5265",
   "metadata": {
    "id": "585e5265",
    "tags": []
   },
   "outputs": [],
   "source": [
    "# # torch 2.4.1+cu124\n",
    "# !pip install diffusers==0.30.3, peft==0.8.2 huggingface_hub==0.23.4"
   ]
  },
  {
   "cell_type": "markdown",
   "id": "67e4aafa",
   "metadata": {
    "id": "67e4aafa"
   },
   "source": [
    "## Теормин\n",
    "\n",
    "---\n",
    "##### Диффузионные модели\n",
    "\n",
    "Задан прямой диффузионный процесс, который переводит чистые картинки в шум с помощью распределения $q(\\mathbf{x}_t | \\mathbf{x}_0)= {N}(\\mathbf{x}_t | \\alpha_t \\mathbf{x}_0, \\sigma^2_t I)$\n",
    "\n",
    "Таким образом, мы можем получаться зашумленные картинки по следующей формуле: $\\mathbf{x}_t = \\alpha_t \\mathbf{x}_0 + \\sigma_t \\epsilon$, где $\\epsilon{\\sim} {N}(0, I)$ **(1)**\n",
    "\n",
    "$\\alpha_t, \\sigma_t$ задают процесс зашумления. Здесь мы будем иметь дело с *variance preserving (VP)* процессом, т. е., $\\alpha^2_t = 1 - \\sigma^2_t$.\n",
    "\n",
    "Диффузионная модель (ДМ) пытается решить обратную задачу: из шума порождать новые картинки.\n",
    "Важно, что диффузионный процесс можно описать следующим обыкновенным дифференциальным уравнением (ОДУ):\n",
    "\n",
    " $dx = \\left[ f(\\mathbf{x}, t) - \\frac{1}{2} \\nabla_{\\mathbf{x}_t} \\log p_t(\\mathbf{x}) \\right] dt$, **(2)**\n",
    "\n",
    "где $f(\\mathbf{x}, t)$ известен из заданного процесса зашумления, а $\\nabla_{\\mathbf{x}_t} \\log p_t(\\mathbf{x}_t)$ (*скор функцию*) оцениваем с помощью нейросети: $s_\\theta(\\mathbf{x}_t, t) \\approx \\nabla_{\\mathbf{x}_t} \\log p_t(\\mathbf{x}_t)$. Таким образом, имея оценку на $\\nabla_{\\mathbf{x}_t} \\log p_t(\\mathbf{x})$, мы можем решить это ОДУ, стартуя со случайного шума, и получить картинку.\n",
    "\n",
    "\n",
    "**SD1.5** использует *$\\epsilon$-параметризацию*, т.е., UNet пытается предсказать шум, который мы добавили на картинку по формуле **(1)**. Оценку скор функции можно получить, пользуясь результатом, вытекающим из формулы Твидди: $s_\\theta(\\mathbf{x}_t, t) = - \\frac{\\epsilon_\\theta(\\mathbf{x}_t, t)} { \\sigma_t}$\n",
    "\n",
    "Чтобы решить ОДУ **(2)**, нам нужно воспользоваться каким-то численным методом (солвером). В этом задании мы будем работать с не самым эффектным, но самым популярным солвером: **DDIM**, который является адаптированным методом Эйлера под диффузионный ОДУ.\n",
    "\n",
    "Для VP процесса переход с помощью DDIM с шага $t$ на $s$ можно сделать следующим образом:\n",
    "\n",
    "$\n",
    "x_s = DDIM(\\mathbf{x}_t, t, s) = \\alpha_s \\cdot \\left(\\frac{\\mathbf{x}_t - \\sigma_t \\epsilon_\\theta}{\\alpha_t} \\right) + \\sigma_s \\epsilon_\\theta\n",
    "$\n",
    "\n",
    "Этот переход можно интерпретировать так: получаем оценку на чистую картинку $\\mathbf{x}_0$ на шаге $t$, используя $\\frac{\\mathbf{x}_t - \\sigma_t \\epsilon_\\theta}{\\alpha_t}$, а потом снова зашумляем эту оценку на шаг $s$ по формуле **(1)**, но только используем не случайный шум, а шум предсказанный моделью $\\epsilon_\\theta$.\n",
    "\n",
    "*Используя DDIM для SD1.5, можем получать хорошие картинки за 50 шагов.*\n",
    "\n",
    "**SD1.5** - латентная ДМ, т.е. модель работает не в пиксельном пространстве, а в латентном пространстве **VAE**. Таким образом SD1.5 состоит из следующих компонент:\n",
    "\n",
    "1) **VAE** - переводит $3{\\times}512{\\times}512$ картинки в латенты $4{\\times}64{\\times}64$ и может декодировать их обратно в картинки.\n",
    "2) **Текстовый энкодер** - извлекает текстовые признаки из промпта. Эти признаки будут подаваться в диффузионную модель, чтобы дать модели информацию, что именно хотим сгенерировать\n",
    "3) **Диффузионная модель** - UNet, работающий на \"латентных картинках\" $4{\\times}64{\\times}64$.\n",
    "\n",
    "---\n",
    "#### Консистенси модели\n",
    "\n",
    "##### Общая идея\n",
    "\n",
    "Главная цель дистилляции диффузии - уменьшить количество шагов ДМ, при этом сохранив высокое качество картинок.\n",
    "\n",
    "**Консистенси модели (Consistency Models | CM)** - класс моделей, где мы хотим выучить \"консистенси функцию\" $f_\\theta(\\mathbf{x}_t)$ - с любой точки $\\mathbf{x}_{t}$ траектории диффузионного ОДУ **(2)** сразу предсказывать $\\mathbf{x}_{0}$ (чистые данные) за один шаг.\n",
    "Если мы идеально выучим консистенси функцию, то сможем шагать из чистого шума сразу в картинку, что супер эффективно в отличии от генерации ДМ.\n",
    "\n",
    "Отметим, что консистенси модель можно учить как независимую генеративную модель, без предобученной ДМ, и в *задании 3* вам предстоит подумать, как это можно сделать.\n",
    "\n",
    "<br>\n",
    "\n",
    "<div>\n",
    "\n",
    "<img src=\"https://i.postimg.cc/prgMVw6C/cd-idea.jpg\" width=\"600\"/>\n",
    "</div>\n",
    "\n",
    "\n",
    "**Консистенси дистилляция (Consistency Distillation | CD)** - подход, когда для обучения CM, мы используем предобученную ДМ. ДМ нам дает качественную инициализацию модели и уже обученную скор функцию, что сильно упрощает сходимость консистенси моделей.\n",
    "\n",
    "\n",
    "### Обучение CM\n",
    "\n",
    "<div>\n",
    "<img src=\"https://i.postimg.cc/2jnsnKMs/cd-training.jpg\" width=\"600\"/>\n",
    "</div>\n",
    "\n",
    "\n",
    "Главная принцип обучения консистенси моделей заключается в попытке удовлетворить *self-consistency* св-ву: выход CM на двух соседних точках траектории $\\mathbf{x}_{t}$ и $\\mathbf{x}_{t-1}$ должен совпадать по какой-то мере близости, например L2 расстояние: $\\lVert f_\\theta(\\mathbf{x}_{t-1}) - f_\\theta(\\mathbf{x}_{t}) \\rVert^2_2$.\n",
    "\n",
    "Заметим, что self-consistency св-во удовлетворить очень просто без какого-либо обучения, взяв, например $f_\\theta(\\mathbf{x}_{t}) \\equiv 0$.\n",
    "\n",
    "Поэтому, чтобы избежать вырожденных решений, нам необходимо выставить граничное условие (boundary condition), которое будет требовать, чтобы в самой левой точке траектории около 0, модель предсказывала картинку, которую получает на вход: $f_\\theta(\\mathbf{x}_{\\epsilon}) = \\mathbf{x}_{\\epsilon}$.\n",
    "\n",
    "**Практическое замечание:** Для обеих точек траектории мы применяем одну и ту же модель $f_\\theta(\\cdot)$. Но выход модели на шаге ${t-1}$ является \"таргетом\" для выхода модели на шаге $t$ и поэтому выполнение модели для шага $t-1$ выполняется в *torch.no_grad* режиме.\n",
    "\n",
    "**Как получаться две соседние точки на траектории ОДУ?**\n",
    "\n",
    "Берем случайную картинку $\\mathbf{x}_0$ из датасета.\n",
    "\n",
    "Точку $\\mathbf{x}_t$ получаем с помощью прямого процесса зашумления: $\\mathbf{x}_t = q(\\mathbf{x}_t | \\mathbf{x}_0)$\n",
    "\n",
    "Чтобы получить соседнюю точку $\\mathbf{x}_{t-1}$, нам нужно сделать шаг по траектории ОДУ, используя, например, DDIM солвер.\n",
    "\n",
    "В консистенси дистилляции, мы делаем шаг предобученной ДМ: $\\mathbf{x}_{t-1} = DDIM(\\epsilon_\\theta(\\mathbf{x}_t, t), \\mathbf{x}_t, t, t-1)$\n",
    "\n",
    "**Важно:** на практике мы можем брать не соседние шаги $t$ и $t-1$, а с некоторым интервалом, например 20 шагов.\n",
    "Размер интервала влияет на bias/variance trade-off в консистенси обучении: больше интервал между шагами - больше смещение, но меньше дисперсия, и наоборот.\n",
    "Для простоты в этом задании мы зафиксируем интервал - 20 шагов, но во многих работах размер интервала динамически меняют по ходу обучения."
   ]
  },
  {
   "cell_type": "code",
   "execution_count": 1,
   "id": "c18dffaf",
   "metadata": {
    "id": "c18dffaf",
    "tags": []
   },
   "outputs": [],
   "source": [
    "from tqdm.auto import tqdm\n",
    "\n",
    "import csv\n",
    "import os\n",
    "import torch\n",
    "from PIL import Image\n",
    "from diffusers import StableDiffusionPipeline, LCMScheduler, UNet2DConditionModel, DDIMScheduler\n",
    "\n",
    "from peft import LoraConfig, get_peft_model, get_peft_model_state_dict\n",
    "\n",
    "%matplotlib inline\n",
    "import matplotlib.pyplot as plt\n"
   ]
  },
  {
   "cell_type": "code",
   "execution_count": 2,
   "id": "669d0a3a",
   "metadata": {
    "id": "669d0a3a"
   },
   "outputs": [],
   "source": [
    "#---------------------\n",
    "# Visualization utils\n",
    "#---------------------\n",
    "\n",
    "def visualize_images(images):\n",
    "    assert len(images) == 4\n",
    "    plt.figure(figsize=(12, 3))\n",
    "    for i, image in enumerate(images):\n",
    "        plt.subplot(1, 4, i+1)\n",
    "        plt.imshow(image)\n",
    "        plt.axis('off')\n",
    "\n",
    "    plt.subplots_adjust(wspace=-0.01, hspace=-0.01)\n",
    "\n",
    "\n",
    "#--------------\n",
    "# Tensor utils\n",
    "#--------------\n",
    "\n",
    "def extract_into_tensor(a, t, x_shape):\n",
    "    b, *_ = t.shape\n",
    "    out = a.gather(-1, t)\n",
    "    return out.reshape(b, *((1,) * (len(x_shape) - 1)))\n",
    "\n",
    "#---------------\n",
    "# Dataset utils\n",
    "#---------------\n",
    "\n",
    "class COCODataset(torch.utils.data.Dataset):\n",
    "    def __init__(self, root_dir, subset_name=\"train2014_5k\", transform=None, max_cnt=None):\n",
    "        \"\"\"\n",
    "        Arguments:\n",
    "            root_dir (string): Directory with all the images.\n",
    "            transform (callable, optional): Optional transform to be applied\n",
    "                on a sample.\n",
    "        \"\"\"\n",
    "        self.root_dir = root_dir\n",
    "        self.transform = transform\n",
    "        self.extensions = (\n",
    "            \".jpg\",\n",
    "            \".jpeg\",\n",
    "            \".png\",\n",
    "            \".ppm\",\n",
    "            \".bmp\",\n",
    "            \".pgm\",\n",
    "            \".tif\",\n",
    "            \".tiff\",\n",
    "            \".webp\",\n",
    "        )\n",
    "        sample_dir = os.path.join(root_dir, subset_name)\n",
    "\n",
    "        # Collect sample paths\n",
    "        self.samples = sorted(\n",
    "            [\n",
    "                os.path.join(sample_dir, fname)\n",
    "                for fname in os.listdir(sample_dir)\n",
    "                if fname[-4:] in self.extensions\n",
    "            ],\n",
    "            key=lambda x: x.split(\"/\")[-1].split(\".\")[0],\n",
    "        )\n",
    "        self.samples = (\n",
    "            self.samples if max_cnt is None else self.samples[:max_cnt]\n",
    "        )  # restrict num samples\n",
    "\n",
    "        # Collect captions\n",
    "        self.captions = {}\n",
    "        with open(\n",
    "            os.path.join(root_dir, f\"{subset_name}.csv\"), newline=\"\\n\"\n",
    "        ) as csvfile:\n",
    "            spamreader = csv.reader(csvfile, delimiter=\",\")\n",
    "            for i, row in enumerate(spamreader):\n",
    "                if i == 0:\n",
    "                    continue\n",
    "                self.captions[row[1]] = row[2]\n",
    "\n",
    "    def __len__(self):\n",
    "        return len(self.samples)\n",
    "\n",
    "    def __getitem__(self, idx):\n",
    "        if torch.is_tensor(idx):\n",
    "            idx = idx.tolist()\n",
    "\n",
    "        sample_path = self.samples[idx]\n",
    "        sample = Image.open(sample_path).convert(\"RGB\")\n",
    "\n",
    "        if self.transform:\n",
    "            sample = self.transform(sample)\n",
    "\n",
    "        return {\n",
    "            \"image\": sample,\n",
    "            \"text\": self.captions[os.path.basename(sample_path)],\n",
    "            \"idxs\": idx, }"
   ]
  },
  {
   "cell_type": "markdown",
   "id": "62860269",
   "metadata": {
    "id": "62860269"
   },
   "source": [
    "# Модель учителя (SD1.5)"
   ]
  },
  {
   "cell_type": "markdown",
   "id": "8ce973eb",
   "metadata": {
    "id": "8ce973eb"
   },
   "source": [
    "## Задание №1\n",
    "\n",
    "Давайте для начала загрузим модель [StableDiffusion 1.5](https://huggingface.co/stable-diffusion-v1-5/stable-diffusion-v1-5) и сгенерируем ей картинки за 50 шагов.\n",
    "\n",
    "**Важно:** для экономии памяти, загружаем все компоненты модели в FP16. Не забываем положить модель на GPU."
   ]
  },
  {
   "cell_type": "code",
   "execution_count": 3,
   "id": "4e46016d",
   "metadata": {
    "colab": {
     "base_uri": "https://localhost:8080/",
     "height": 49,
     "referenced_widgets": [
      "9e6e5db9551840acb6cdf11309fb2974",
      "b889e8cf31eb4f819161439a35f2bb7e",
      "fee34c14a2bc4e92b6783c47185cda17",
      "bdd1e792f0ae45a8a770c72a2ef963f1",
      "276bed18dd4544309e866bc457797709",
      "64a3d28731b74c35b55170593fc4a400",
      "c7f8272fd1054334947dba562fc54cfe",
      "a1839b5fc8464ee8a975f9037599ae8c",
      "cb6b386ec4ac41519ae71b3e715d308f",
      "ce1ae26c29764b2bbf3a554cf5d9ad6c",
      "2c6447f7e4a8453882759fd99c0d217f"
     ]
    },
    "id": "4e46016d",
    "outputId": "59dea553-5efe-4e19-a5e5-2a9680380224",
    "tags": []
   },
   "outputs": [
    {
     "data": {
      "application/vnd.jupyter.widget-view+json": {
       "model_id": "490e3787b56146b790f74fff19c8122c",
       "version_major": 2,
       "version_minor": 0
      },
      "text/plain": [
       "Loading pipeline components...:   0%|          | 0/7 [00:00<?, ?it/s]"
      ]
     },
     "metadata": {},
     "output_type": "display_data"
    }
   ],
   "source": [
    "pipe = StableDiffusionPipeline.from_pretrained(\"sd-legacy/stable-diffusion-v1-5\", torch_dtype=torch.float16)\n",
    "pipe = pipe.to(\"cuda\")\n",
    "\n",
    "# Проверяем, что все компоненты модели в FP16 и на cuda\n",
    "assert pipe.unet.dtype == torch.float16 and pipe.unet.device.type == 'cuda'\n",
    "assert pipe.vae.dtype == torch.float16 and pipe.vae.device.type == 'cuda'\n",
    "assert pipe.text_encoder.dtype == torch.float16 and pipe.text_encoder.device.type == 'cuda'\n",
    "\n",
    "# Заменяем дефолтный сэмплер на DDIM\n",
    "pipe.scheduler = DDIMScheduler.from_config(pipe.scheduler.config, timestep_spacing=\"trailing\")\n",
    "pipe.scheduler.timesteps = pipe.scheduler.timesteps.cuda()\n",
    "pipe.scheduler.alphas_cumprod = pipe.scheduler.alphas_cumprod.cuda()\n",
    "\n",
    "# Отдельно извлечем модель учителя, которую потом будем дистиллировать\n",
    "teacher_unet = pipe.unet"
   ]
  },
  {
   "cell_type": "markdown",
   "id": "20cb66c9",
   "metadata": {
    "id": "20cb66c9"
   },
   "source": [
    "Теперь сгенерируем картинки за 50 шагов. Вам нужно написать вызов pipe и передать в него промпт, число шагов генерации, генератор случайных чисел, гайденс скейл и указать, чтобы сгенерировалось 4 картинки на промпт."
   ]
  },
  {
   "cell_type": "code",
   "execution_count": 4,
   "id": "d5bb382b",
   "metadata": {
    "id": "d5bb382b",
    "tags": []
   },
   "outputs": [],
   "source": [
    "# prompt = \"A sad puppy with large eyes\"\n",
    "# guidance_scale = 7.5\n",
    "# generator = torch.Generator('cuda').manual_seed(1)\n",
    "\n",
    "# images = pipe([prompt], generator=generator, num_inference_steps=50, guidance_scale=guidance_scale, num_images_per_prompt=4).images\n",
    "\n",
    "# visualize_images(images)"
   ]
  },
  {
   "cell_type": "markdown",
   "id": "09c8a547",
   "metadata": {
    "id": "09c8a547"
   },
   "source": [
    "Давайте посмотрим, что выдаст модель за 4 шага.\n",
    "Все то же самое, что и выше, просто поменяем число шагов."
   ]
  },
  {
   "cell_type": "code",
   "execution_count": 5,
   "id": "06e66279",
   "metadata": {
    "id": "06e66279"
   },
   "outputs": [],
   "source": [
    "# generator = torch.Generator('cuda').manual_seed(1)\n",
    "\n",
    "# images = pipe([prompt], generator=generator, num_inference_steps=4, guidance_scale=guidance_scale, num_images_per_prompt=4).images\n",
    "\n",
    "# visualize_images(images)"
   ]
  },
  {
   "cell_type": "markdown",
   "id": "b0cb5003",
   "metadata": {
    "id": "b0cb5003"
   },
   "source": [
    "На 4 шагах картинки получаются размазанными. Давайте постараемся починить их."
   ]
  },
  {
   "cell_type": "markdown",
   "id": "82774c59",
   "metadata": {
    "id": "82774c59"
   },
   "source": [
    "##  Создаем датасет\n",
    "\n",
    "Чтобы ДЗ было легко выполнимым на colab, мы будем учить консистенси модели на небольшой обучающей выборке из 5000 пар текст-картинка из COCO датасета.\n",
    "Интересное свойство консистенси моделей - они могут сходиться до адекватного качества за несколько сотен шагов. Качество все еще будет не идеальным, но фазовый переход уже должен быть заметен.\n",
    "\n",
    "Данные можно загрузить с помощью команд в ячейке ниже. В локальной текущей директории ./ должны появиться:\n",
    "* Папка train2014_5k с 5000 картинками\n",
    "* Файл train2014_5k.csv с 5000 промптами\n",
    "\n",
    "Данные парсятся корректным образом в уже реализованном классе COCODataset."
   ]
  },
  {
   "cell_type": "code",
   "execution_count": 6,
   "id": "2431a4e8",
   "metadata": {
    "id": "2431a4e8",
    "tags": []
   },
   "outputs": [],
   "source": [
    "# !wget https://storage.yandexcloud.net/yandex-research/train2014_5k.tar.gz\n",
    "# !tar -xzf train2014_5k.tar.gz"
   ]
  },
  {
   "cell_type": "markdown",
   "id": "bc010814",
   "metadata": {
    "id": "bc010814"
   },
   "source": [
    "**Замечание:** для более быстрого дебаггинга можете взять, например, 2500 картинок и прогнать на всей выборке только в самом конце. 2500 картинок должно быть достаточно для понимания корректно ли реализованы функции.\n",
    "Совсем для первичного дебаггинга можно взять еще меньше картинок."
   ]
  },
  {
   "cell_type": "code",
   "execution_count": 7,
   "id": "e1ba81fb",
   "metadata": {
    "id": "e1ba81fb"
   },
   "outputs": [],
   "source": [
    "from torchvision import transforms\n",
    "\n",
    "transform = transforms.Compose(\n",
    "    [\n",
    "        transforms.Resize(512),\n",
    "        transforms.CenterCrop(512),\n",
    "        transforms.ToTensor(),\n",
    "        lambda x: 2 * x - 1,\n",
    "    ]\n",
    ")\n",
    "dataset = COCODataset(\".\",\n",
    "    subset_name=\"train2014_5k\",\n",
    "    transform=transform,\n",
    "    max_cnt=2500\n",
    ")\n",
    "assert len(dataset) == 2500\n",
    "\n",
    "batch_size = 8 # Рекоммендуемы размер батча на Colab\n",
    "\n",
    "train_dataloader = torch.utils.data.DataLoader(\n",
    "    dataset=dataset, shuffle=True, batch_size=batch_size, drop_last=True\n",
    ")"
   ]
  },
  {
   "cell_type": "code",
   "execution_count": 8,
   "id": "cad222c2",
   "metadata": {
    "id": "cad222c2"
   },
   "outputs": [],
   "source": [
    "@torch.no_grad()\n",
    "def prepare_batch(batch, pipe):\n",
    "    \"\"\"\n",
    "    Предобработка батча картинок и текстовых промптов.\n",
    "    Маппим картинки в латентное пространство VAE.\n",
    "    Извлекаем эмбеды промптов с помощью текстового энкодера.\n",
    "\n",
    "    Params:\n",
    "\n",
    "    Return:\n",
    "        latents: torch.Tensor([B, 4, 64, 64], dtype=torch.float16)\n",
    "        prompt_embeds: torch.Tensor([B, 77, D], dtype=torch.float16)\n",
    "    \"\"\"\n",
    "\n",
    "    # Токенизируем промпты\n",
    "    text_inputs = pipe.tokenizer(\n",
    "        batch['text'],\n",
    "        padding=\"max_length\",\n",
    "        max_length=pipe.tokenizer.model_max_length,\n",
    "        truncation=True,\n",
    "        return_tensors=\"pt\",\n",
    "    )\n",
    "\n",
    "    # Извлекаем эмбеды промптов с помощью текстового энкодера\n",
    "    prompt_embeds = pipe.text_encoder(text_inputs.input_ids.cuda())[0]\n",
    "\n",
    "    # Переводим картинки в латентное пространство VAE\n",
    "    image = batch['image'].to(\"cuda\", dtype=torch.float16)\n",
    "    latents = pipe.vae.encode(image).latent_dist.sample()\n",
    "    latents = latents * pipe.vae.config.scaling_factor\n",
    "    return latents, prompt_embeds"
   ]
  },
  {
   "cell_type": "markdown",
   "id": "062a00a9",
   "metadata": {
    "id": "062a00a9"
   },
   "source": [
    "### Подготовка моделей и оптимизатора\n",
    "\n",
    "Для начала создаем обучаемую модель: UNet инициализируемый весами SD1.5.\n",
    "Вам нужно воспользоваться классом UNet2DConditionModel и загрузить отдельно только UNet модель из SD1.5.\n",
    "\n",
    "Отметим, что эта модель у нас будет храниться в полной точности FP32, потому что обучение параметров в FP16 может приводить к нестабильностям и низкому качеству."
   ]
  },
  {
   "cell_type": "code",
   "execution_count": 9,
   "id": "e2e73f1a",
   "metadata": {
    "id": "e2e73f1a",
    "tags": []
   },
   "outputs": [],
   "source": [
    "unet = UNet2DConditionModel.from_pretrained(\"sd-legacy/stable-diffusion-v1-5\", subfolder=\"unet\")\n",
    "unet = unet.to(\"cuda\")\n",
    "unet.train()\n",
    "\n",
    "assert unet.dtype == torch.float32\n",
    "assert unet.training"
   ]
  },
  {
   "cell_type": "markdown",
   "id": "cd4f56cb",
   "metadata": {
    "id": "cd4f56cb"
   },
   "source": [
    "Для экономии памяти во время обучения будем учить не параметры самой модели, а добавим в нее обучаемые LoRA адаптеры с малым числом параметров.\n",
    "\n",
    "LoRA представляет собой маленькую добавку к весам модели, где на одну матрицу весов $W \\in \\mathbb{R}^{m{\\times}n} $ обучаются две низкоранговые матрицы $W_A \\in \\mathbb{R}^{k{\\times}n}$ и $W_B \\in \\mathbb{R}^{k{\\times}m}$, где $k$ - ранг матрицы сильно меньше $m$ и $n$.\n",
    "\n",
    "Тем самым, новая обученная матрица весов может быть представлена как $\\hat{W} = W + \\Delta W = W + W^T_B W_A$.  \n",
    "Во время инференса $\\Delta W$ можно вмержить в $W$ и получить итоговую модель.\n",
    "Также частая практика оставлять адаптеры как есть, чтобы была возможность для одной базовой модели учить несколько адаптеров под разные задачи и переключаться между ними по необходимости.\n",
    "\n",
    "Если не мержить адаптеры, то вычисления для линейного слоя происходят как на картинке ниже.\n",
    "\n",
    "<img src=https://miro.medium.com/v2/resize:fit:680/format:webp/0*2meitaJ7pdUusbb5.png width=300>"
   ]
  },
  {
   "cell_type": "code",
   "execution_count": 10,
   "id": "020bb504",
   "metadata": {
    "id": "020bb504"
   },
   "outputs": [],
   "source": [
    "# Указываем к каким слоям модели мы будет добавлять адаптеры.\n",
    "lora_modules = [\n",
    "    \"to_q\", \"to_k\", \"to_v\", \"to_out.0\", \"proj_in\", \"proj_out\",\n",
    "    \"ff.net.0.proj\", \"ff.net.2\", \"conv1\", \"conv2\", \"conv_shortcut\",\n",
    "    \"downsamplers.0.conv\", \"upsamplers.0.conv\", \"time_emb_proj\"\n",
    "]\n",
    "lora_config = LoraConfig(\n",
    "    r=64, # задает ранг у матриц A и B в LoRA.\n",
    "    target_modules=lora_modules\n",
    ")\n",
    "\n",
    "# Создаем обертку исходной UNet модели с LoRA адаптерами, используя библиотеку PEFT\n",
    "cm_unet = get_peft_model(unet, lora_config, adapter_name=\"ct\")\n",
    "\n",
    "# Включаем gradient checkpointing - важная техника для экономии памяти во время обучения\n",
    "cm_unet.enable_gradient_checkpointing()\n",
    "\n",
    "# Создаем оптимизатор\n",
    "optimizer = torch.optim.AdamW(cm_unet.parameters(), lr=1e-4)\n",
    "\n",
    "# Задаем лосс функцию для CM обжектива. В базовом варианте разумно взять L2\n",
    "# По умолчанию, она уже выдает усредненное значение по всем размерностям\n",
    "mse_loss = torch.nn.functional.mse_loss"
   ]
  },
  {
   "cell_type": "markdown",
   "id": "52bf9615",
   "metadata": {
    "id": "52bf9615"
   },
   "source": [
    "## Задание №2 (0.5 балла, сдается в контесте)\n",
    "\n",
    "####  Реализация шага DDIM\n",
    "\n",
    "Шаг с помощью DDIM с $\\mathbf{x}_t$ на $\\mathbf{x}_s$ можно сделать следующим образом:\n",
    "\n",
    "$\n",
    "\\mathbf{x}_s = DDIM(\\epsilon_\\theta, \\mathbf{x}_t, t, s) = \\alpha_s \\cdot \\left(\\frac{\\mathbf{x}_t - \\sigma_t \\epsilon_\\theta}{\\alpha_t} \\right) + \\sigma_s \\epsilon_\\theta\n",
    "$\n",
    "\n",
    "Вам нужно реализовать эту формулу в уже готовом шаблоне ниже.\n",
    "Чтобы корректно выполнить задание, вам нужно задать $\\alpha_t$ и $\\sigma_t$ имея *DDIMScheduler*.\n",
    "**Обратите внимание на аттрибут *scheduler.alphas_cumprod***, который задает $\\bar\\alpha_{t} = \\prod^t_{i=1} (1-\\beta_i)$ в классической DDPM формулировке: [Denoising Diffusion Probabilistic Models](https://arxiv.org/pdf/2006.11239)."
   ]
  },
  {
   "cell_type": "code",
   "execution_count": 11,
   "id": "d743504b",
   "metadata": {
    "id": "d743504b"
   },
   "outputs": [],
   "source": [
    "def ddim_solver_step(model_output, x_t, t, s, scheduler):\n",
    "    \"\"\"\n",
    "    Шаг DDIM солвера для VP процесса зашумления и eps-prediction модели\n",
    "    params:\n",
    "        model_output: torch.Tensor[B, 4, 64, 64] - предсказание модели - шум eps\n",
    "        x_t: torch.Tensor[B, 4, 64, 64] - сэмплы на шаге t\n",
    "        t: torch.Tensor[B] - номер текущего шага\n",
    "        s: torch.Tensor[B] - номер следующего шага\n",
    "        scheduler: DDIMScheduler - расписание диффузионного процесса, чтобы получить alpha и sigma\n",
    "    \"\"\"\n",
    "    alphas = torch.sqrt(scheduler.alphas_cumprod)\n",
    "    sigmas = torch.sqrt(1- scheduler.alphas_cumprod)\n",
    "\n",
    "    sigmas_s = extract_into_tensor(sigmas, s, x_t.shape)\n",
    "    alphas_s = extract_into_tensor(alphas, s, x_t.shape)\n",
    "\n",
    "    sigmas_t = extract_into_tensor(sigmas, t, x_t.shape)\n",
    "    alphas_t = extract_into_tensor(alphas, t, x_t.shape)\n",
    "\n",
    "    # Выставляем крайние значения alpha и sigma, чтобы выполнялись граничные условия\n",
    "    alphas_s[s == 0] = 1.0\n",
    "    sigmas_s[s == 0] = 0.0\n",
    "\n",
    "    alphas_t[t == 0] = 1.0\n",
    "    sigmas_t[t == 0] = 0.0\n",
    "\n",
    "    x_0 = (x_t - sigmas_t*model_output) / alphas_t # x0 оценка на шаге t\n",
    "    x_s = alphas_s*x_0+sigmas_s*model_output # Переход на шаг s\n",
    "    return x_s"
   ]
  },
  {
   "cell_type": "markdown",
   "id": "c4013fc3",
   "metadata": {
    "id": "c4013fc3"
   },
   "source": [
    "####  Реализация процесса зашумления (q sample)\n",
    "\n",
    "Аналогично, нам нужен процесс зашумления $q(\\mathbf{x}_t | \\mathbf{x}_0)= {N}(\\mathbf{x}_t | \\alpha_t \\mathbf{x}_0, \\sigma^2_t I)$\n",
    "\n",
    "$\\mathbf{x}_t = \\alpha_t \\mathbf{x}_0 + \\sigma_t \\epsilon$, где $\\epsilon{\\sim} {N}(0, I)$"
   ]
  },
  {
   "cell_type": "code",
   "execution_count": 12,
   "id": "9fdb169c",
   "metadata": {
    "id": "9fdb169c"
   },
   "outputs": [],
   "source": [
    "def q_sample(x, t, scheduler, noise=None):\n",
    "    alphas = torch.sqrt(scheduler.alphas_cumprod)\n",
    "    sigmas = torch.sqrt(1- scheduler.alphas_cumprod)\n",
    "\n",
    "    if noise is None:\n",
    "        noise = torch.randn_like(x)\n",
    "\n",
    "    sigmas_t = extract_into_tensor(sigmas, t, x.shape)\n",
    "    alphas_t = extract_into_tensor(alphas, t, x.shape)\n",
    "\n",
    "    x_t = alphas_t*x+sigmas_t*noise\n",
    "    return x_t"
   ]
  },
  {
   "cell_type": "markdown",
   "id": "21c5893c",
   "metadata": {
    "id": "21c5893c"
   },
   "source": [
    "# Consistency Training\n",
    "\n",
    "Обучение консистенси моделей без учителя называется Consistency Training (CT).\n",
    "В таком случае CM можно рассматривать как отдельный вид генеративных моделей.\n",
    "Давайте начнем именно с этого подхода и обучим нашу первую консистенси модель на базе SD1.5."
   ]
  },
  {
   "cell_type": "markdown",
   "id": "6d5743b1",
   "metadata": {
    "id": "6d5743b1"
   },
   "source": [
    "## Задание №3\n",
    "\n",
    "#### Задание №3.1 (0.5 балла, сдается в контесте)\n",
    "\n",
    "В консиcтенси дистилляции модель учителя используется для получения второй точки на траектории ODE.\n",
    "Можем ли мы попробовать оценить соседнюю точку аналитически?\n",
    "\n",
    "Вам предлагается вывести это самим, используя формулу DDIM шага выше и вспомнив, как мы оцениваем скор функции в denoising score matching-e:\n",
    "\n",
    "$\\epsilon_\\theta(x_t, t) = - \\sigma_t s_\\theta(x_t, t)$\n",
    "\n",
    "$s_\\theta(x_t, t) \\approx \\nabla_{x_t} \\log q(x_t) = \\mathop{\\mathbb{E}}_{\\mathbf{x}\\sim p_{data}}\\left [ \\nabla_{\\mathbf{x}_t} \\log q(\\mathbf{x}_t | \\mathbf{x}) \\vert \\mathbf{x}_t \\right ] \\approx \\nabla_{\\mathbf{x}_t} \\log q(\\mathbf{x}_t \\vert \\mathbf{x})$\n",
    "\n",
    "---\n",
    "\n",
    "< YOUR DERIVATION HERE >\n",
    "    \n",
    "$x_s = ?$\n",
    "\n",
    "---\n",
    "    \n",
    "Если возникнут трудность, можно обратиться к оригинальной [статье](https://arxiv.org/pdf/2303.01469).\n"
   ]
  },
  {
   "cell_type": "markdown",
   "id": "6a321f6b",
   "metadata": {
    "id": "6a321f6b"
   },
   "source": [
    "Теперь реализуем то, что у вас получилось в функции ниже."
   ]
  },
  {
   "cell_type": "code",
   "execution_count": 13,
   "id": "ff58cba2",
   "metadata": {
    "id": "ff58cba2"
   },
   "outputs": [],
   "source": [
    "def get_xs_from_xt_naive(\n",
    "    x_0, x_t, t, s, # Не все эти аргументы могут быть вам нужны\n",
    "    scheduler,\n",
    "    noise=None,\n",
    "    **kwargs\n",
    "):\n",
    "    \"\"\"\n",
    "    Получение точки x_s в CT режиме, т.е., аналитически.\n",
    "    \"\"\"\n",
    "    \n",
    "    if x_t is not None:\n",
    "\n",
    "        alphas = torch.sqrt(scheduler.alphas_cumprod)\n",
    "        sigmas = torch.sqrt(1- scheduler.alphas_cumprod)\n",
    "\n",
    "        sigmas_t = extract_into_tensor(sigmas, t, x_t.shape)\n",
    "        alphas_t = extract_into_tensor(alphas, t, x_t.shape)\n",
    "        sigmas_s = extract_into_tensor(sigmas, s, x_t.shape)\n",
    "        alphas_s = extract_into_tensor(alphas, s, x_t.shape)\n",
    "        alphas_s[s == 0] = 1.0\n",
    "        sigmas_s[s == 0] = 0.0\n",
    "        alphas_t[t == 0] = 1.0\n",
    "        sigmas_t[t == 0] = 0.0\n",
    "        \n",
    "        noise = (x_t - alphas_t * x_0) / sigmas_t\n",
    "    \n",
    "    #x_0 = (x_t - sigmas_t * noise) / alphas_t\n",
    "    x_s = q_sample(x_0, s, scheduler, noise)\n",
    "    return x_s"
   ]
  },
  {
   "cell_type": "markdown",
   "id": "a967d0f5",
   "metadata": {
    "id": "a967d0f5"
   },
   "source": [
    "#### Задание №3.2\n",
    "\n",
    "Ниже предстален шаблон функции, которая считает лосс для консистенси моделей.\n",
    "Вам нужно правильно заполнить пропуски, чтобы получилась корректная функция."
   ]
  },
  {
   "cell_type": "code",
   "execution_count": 14,
   "id": "675acdd5",
   "metadata": {
    "id": "675acdd5"
   },
   "outputs": [],
   "source": [
    "def cm_loss_template(\n",
    "    latents, prompt_embeds, # батч латентов и текстовых эмбедов\n",
    "    unet, scheduler,\n",
    "\n",
    "    # Функции, которые будем постепенно менять из задания к заданию\n",
    "    loss_fn: callable,\n",
    "    get_boundary_timesteps: callable,\n",
    "    get_xs_from_xt: callable,\n",
    "\n",
    "    num_timesteps=1000,\n",
    "    step_size=20, # Указываем с каким интервалом берем шаги s и t.\n",
    "):\n",
    "    # Сэмплируем случайные шаги t для каждого элемента батча t ~ U[step_size-1, 999]\n",
    "    assert num_timesteps == 1000\n",
    "    num_intervals = num_timesteps // step_size\n",
    "\n",
    "    index = torch.randint(1, num_intervals, (len(latents),), device=latents.device).long() # [1, num_intervals]\n",
    "    t = step_size * index - 1\n",
    "    s = torch.clamp(t - step_size, min=0)\n",
    "    boundary_timesteps = get_boundary_timesteps(\n",
    "        s, num_timesteps=num_timesteps\n",
    "    )\n",
    "\n",
    "    # Сэмплируем x_t\n",
    "    noise = torch.randn_like(latents)\n",
    "    x_t = q_sample(latents, t, scheduler, noise)\n",
    "    # with <YOUR CODE HERE>: # для реализации mixed-precision обучения в задании №4\n",
    "    with torch.amp.autocast(\"cuda\", torch.float16):\n",
    "        noise_pred = unet(x_t.float(), t,\n",
    "            encoder_hidden_states=prompt_embeds.float(),\n",
    "        ).sample\n",
    "\n",
    "    # Получаем оценку в граничной точке для x_t\n",
    "    boundary_pred = ddim_solver_step(noise_pred, x_t, t, boundary_timesteps, scheduler)\n",
    "\n",
    "    # Получаем сэмпл x_s из x_t\n",
    "    x_s = get_xs_from_xt(\n",
    "        latents, x_t, t, s,\n",
    "        scheduler,\n",
    "        prompt_embeds=prompt_embeds,\n",
    "        noise=noise,\n",
    "    )\n",
    "\n",
    "    # Предсказание \"таргет моделью\"\n",
    "    with torch.no_grad(), torch.amp.autocast(\"cuda\", torch.float16):\n",
    "        target_noise_pred = unet(x_s, s, encoder_hidden_states=prompt_embeds).sample\n",
    "\n",
    "    # Получаем оценку в граничной точке для x_s\n",
    "    boundary_target = ddim_solver_step(target_noise_pred, x_s, s, boundary_timesteps, scheduler)\n",
    "    loss = loss_fn(boundary_pred, boundary_target)\n",
    "    return loss"
   ]
  },
  {
   "cell_type": "code",
   "execution_count": 15,
   "id": "63c0c60d",
   "metadata": {
    "id": "63c0c60d"
   },
   "outputs": [],
   "source": [
    "import functools\n",
    "def get_zero_boundary_timesteps(t, **kwargs):\n",
    "    \"\"\"\n",
    "    Определяем шаги где будут срабатывать граничные условия.\n",
    "    Для классических СM это t=0.\n",
    "    \"\"\"\n",
    "    return torch.zeros_like(t)\n",
    "\n",
    "\n",
    "ct_loss = functools.partial(\n",
    "    cm_loss_template,\n",
    "\n",
    "    loss_fn=mse_loss,\n",
    "    get_boundary_timesteps=get_zero_boundary_timesteps,\n",
    "    get_xs_from_xt=get_xs_from_xt_naive\n",
    ")\n",
    "assert cm_unet.active_adapter == 'ct'"
   ]
  },
  {
   "cell_type": "markdown",
   "id": "5c526cc4",
   "metadata": {
    "id": "5c526cc4"
   },
   "source": [
    "## Задание №4\n",
    "\n",
    "### Эффективное обучение\n",
    "Данное задание рассчитано на успешное выполнение на colab с бесплатной Tesla T4 c 15GB VRAM.\n",
    "Однако учить даже относительно небольшие T2I модели масштаба SD1.5 уже на коллабе в лоб проблематично.\n",
    "\n",
    "Для этого нам нужно применить ряд инженерных техник, чтобы уместиться в данный бюджет и учиться за разумное время.\n",
    "\n",
    "**Список техник**\n",
    "\n",
    "1) Включить gradient checkpointing для обучемой модели\n",
    "2) Добавить LoRA (Low Rank Adapters) адаптеры, чтобы учить не все веса, а только 10% добавочных весов\n",
    "3) Использовать gradient accumulation, чтобы делать итерацию обучения по бОльшему батчу, чем влезает по памяти\n",
    "4) Добавить mixed precision FP16/FP32 обучение модели для скорости. Обычно еще и память экономится, но в случае LoRA обучения + gradient checkpointing на память сильно влиять не должно, но зато станет быстрее.\n",
    "5) Мульти-GPU обучение - распределение вычислений по нескольким GPU.  \n",
    "\n",
    "1-2) Мы уже применили за вас выше\n",
    "\n",
    "3-4) Предстоит реализовать вам самим в соотвествующей секции ниже\n",
    "\n",
    "5 ) Недоступно, так как работаем на одной карточке"
   ]
  },
  {
   "cell_type": "markdown",
   "id": "81dbf465",
   "metadata": {
    "id": "81dbf465"
   },
   "source": [
    "### Обучающий цикл\n",
    "\n",
    "Вам дан код обучения модель в полной точности (FP32) c батчом 8.\n",
    "К сожалению, на Tesla T4 мы не влезем по памяти.\n",
    "Поэтому в ячейке ниже вам нужно модифицировать цикл, чтобы он работал в mixed precision FP16 и добавить gradient accumulation.\n",
    "\n",
    "Про реализацию mixed-precision в pytorch можно перейти по ссылке: [Mixed-precision обучение](https://pytorch.org/docs/stable/notes/amp_examples.html#typical-mixed-precision-training)\n",
    "\n",
    "**Обратите внимание**: вам еще нужно добавить одну строчку кода в *cm_loss_template* в соответствующем плейсхолдере.\n",
    "\n",
    "**Замечание:** В начале обучения значения лосса должны быть в окрестности 0.0007-0.001. Ничего страшного, что лосс не падает, для CM это нормально. В конце обучения лосс может доходить до 0.005-0.01"
   ]
  },
  {
   "cell_type": "code",
   "execution_count": 16,
   "id": "QoidXNBgZgkY",
   "metadata": {
    "id": "QoidXNBgZgkY"
   },
   "outputs": [],
   "source": [
    "def train_loop(model, pipe, train_dataloader, optimizer, loss_fn, num_grad_accum=1):\n",
    "    torch.cuda.empty_cache()\n",
    "    scaler = torch.cuda.amp.GradScaler()\n",
    "    for i, batch in enumerate(tqdm(train_dataloader)):\n",
    "\n",
    "        if (i + 1) % num_grad_accum == 0:\n",
    "            optimizer.zero_grad(set_to_none=True)\n",
    "\n",
    "        latents, prompt_embeds = prepare_batch(batch, pipe)\n",
    "        with torch.amp.autocast(device_type='cuda', dtype=torch.float16):\n",
    "            loss = loss_fn(latents, prompt_embeds, model, pipe.scheduler)\n",
    "            loss = loss / num_grad_accum\n",
    "        # Обновляем параметры\n",
    "        scaler.scale(loss).backward()\n",
    "        if (i + 1) % num_grad_accum == 0:\n",
    "            scaler.step(optimizer)\n",
    "            scaler.update()\n",
    "            # loss.backward()\n",
    "            # optimizer.step()\n",
    "\n",
    "        print(f\"Loss: {loss.detach().item()}\")"
   ]
  },
  {
   "cell_type": "code",
   "execution_count": null,
   "id": "XkbNoru5XiYE",
   "metadata": {
    "id": "XkbNoru5XiYE"
   },
   "outputs": [],
   "source": [
    "# from numba import cuda\n",
    "# device = cuda.get_current_device()\n",
    "# device.reset()\n",
    "# torch.cuda.empty_cache()"
   ]
  },
  {
   "cell_type": "code",
   "execution_count": null,
   "id": "411d490b-6887-4f70-a63f-9939e35ef611",
   "metadata": {},
   "outputs": [],
   "source": []
  },
  {
   "cell_type": "code",
   "execution_count": 19,
   "id": "79a5f675",
   "metadata": {
    "colab": {
     "base_uri": "https://localhost:8080/",
     "height": 1000,
     "referenced_widgets": [
      "e97445ae4577494d85bb924e58448b54",
      "bb773997f9cd43b9bea87393d8ec6354",
      "7c23f2433a754325b3705ea7f5ece5ac",
      "a6b4eb712cd14383bd71cb97cf47233b",
      "ef390eb1731a4631bb7b04c2569c0e37",
      "2e718c5e7886410cb9e4f902d9566d50",
      "2130f6b6fcb0417aa98f01cb49518d88",
      "4a1e7179c9154e6ab304825b9b0a6c62",
      "25cfe8f959444a09b91ff941290e9660",
      "35336c1418f84b1c9a1d83583189bf29",
      "127f920fbe3c4f14b92d88bd1650dd05"
     ]
    },
    "id": "79a5f675",
    "outputId": "1e7e14c3-d1f5-4315-ab56-feb6caf810c5",
    "scrolled": true
   },
   "outputs": [
    {
     "data": {
      "application/vnd.jupyter.widget-view+json": {
       "model_id": "937157e1e98c48dbb6c68e92d58a0956",
       "version_major": 2,
       "version_minor": 0
      },
      "text/plain": [
       "  0%|          | 0/312 [00:00<?, ?it/s]"
      ]
     },
     "metadata": {},
     "output_type": "display_data"
    },
    {
     "name": "stdout",
     "output_type": "stream",
     "text": [
      "Loss: 0.0005566491163335741\n",
      "Loss: 0.0005431733443401754\n",
      "Loss: 0.0004341118910815567\n",
      "Loss: 0.0007105483673512936\n",
      "Loss: 0.0008834510226733983\n",
      "Loss: 0.0004619073588401079\n",
      "Loss: 0.0007945334073156118\n",
      "Loss: 0.0005042373086325824\n",
      "Loss: 0.00045250810217112303\n",
      "Loss: 0.00047665214515291154\n",
      "Loss: 0.0007669676560908556\n",
      "Loss: 0.0005353973829187453\n",
      "Loss: 0.0010145907290279865\n",
      "Loss: 0.0009013191447593272\n",
      "Loss: 0.0008833660394884646\n",
      "Loss: 0.0007066828547976911\n",
      "Loss: 0.0009088554070331156\n",
      "Loss: 0.0005710588884539902\n",
      "Loss: 0.0007421554764732718\n",
      "Loss: 0.0008715782896615565\n",
      "Loss: 0.0005983744631521404\n",
      "Loss: 0.0003907154896296561\n",
      "Loss: 0.0006188828847371042\n",
      "Loss: 0.0005129510536789894\n",
      "Loss: 0.0007444645743817091\n",
      "Loss: 0.0006453247042372823\n",
      "Loss: 0.0003474137920420617\n",
      "Loss: 0.0012183034559711814\n",
      "Loss: 0.0003996778395958245\n",
      "Loss: 0.0005834060139022768\n",
      "Loss: 0.000483882671687752\n",
      "Loss: 0.0004670964553952217\n",
      "Loss: 0.0006713680922985077\n",
      "Loss: 0.0009068984072655439\n",
      "Loss: 0.0012229466810822487\n",
      "Loss: 0.0012164571089670062\n",
      "Loss: 0.0003835131064988673\n",
      "Loss: 0.0004558119981084019\n",
      "Loss: 0.0010083774104714394\n",
      "Loss: 0.0016424193745478988\n",
      "Loss: 0.0009039253345690668\n",
      "Loss: 0.0005958658875897527\n",
      "Loss: 0.00035829469561576843\n",
      "Loss: 0.0006794490618631244\n",
      "Loss: 0.0010846639052033424\n",
      "Loss: 0.0004555585328489542\n",
      "Loss: 0.0006718856748193502\n",
      "Loss: 0.00047856103628873825\n",
      "Loss: 0.0005704115028493106\n",
      "Loss: 0.001004390069283545\n",
      "Loss: 0.0009001199505291879\n",
      "Loss: 0.0007379469461739063\n",
      "Loss: 0.0006109570967964828\n",
      "Loss: 0.0005843982798978686\n",
      "Loss: 0.0013888709945604205\n",
      "Loss: 0.0018992484547197819\n",
      "Loss: 0.0007323042373172939\n",
      "Loss: 0.0004991943133063614\n",
      "Loss: 0.0005634451517835259\n",
      "Loss: 0.0005372446612454951\n",
      "Loss: 0.000903031905181706\n",
      "Loss: 0.0004431513953022659\n",
      "Loss: 0.0008527132449671626\n",
      "Loss: 0.0005446150898933411\n",
      "Loss: 0.0005907525774091482\n",
      "Loss: 0.0009539674501866102\n",
      "Loss: 0.00046777777606621385\n",
      "Loss: 0.000489196740090847\n",
      "Loss: 0.0007610839093104005\n",
      "Loss: 0.0009627036051824689\n",
      "Loss: 0.0005469018360599875\n",
      "Loss: 0.0005859570228494704\n",
      "Loss: 0.00041891104774549603\n",
      "Loss: 0.0008495565271005034\n",
      "Loss: 0.000562238332349807\n",
      "Loss: 0.0011224211193621159\n",
      "Loss: 0.0005429137381725013\n",
      "Loss: 0.0011574954260140657\n",
      "Loss: 0.0005861067329533398\n",
      "Loss: 0.0034955493174493313\n",
      "Loss: 0.0010253654327243567\n",
      "Loss: 0.0007541304221376777\n",
      "Loss: 0.0007788619259372354\n",
      "Loss: 0.001736250938847661\n",
      "Loss: 0.0009148643002845347\n",
      "Loss: 0.0009609726839698851\n",
      "Loss: 0.0011175514664500952\n",
      "Loss: 0.0005946721066720784\n",
      "Loss: 0.0035893884487450123\n",
      "Loss: 0.0009137700544670224\n",
      "Loss: 0.0011424173135310411\n",
      "Loss: 0.001197923207655549\n",
      "Loss: 0.0011720536276698112\n",
      "Loss: 0.0008501404081471264\n",
      "Loss: 0.0005618119612336159\n",
      "Loss: 0.001674808794632554\n",
      "Loss: 0.001468219212256372\n",
      "Loss: 0.0010305424220860004\n",
      "Loss: 0.0019843378104269505\n",
      "Loss: 0.002236604690551758\n",
      "Loss: 0.0006840464775450528\n",
      "Loss: 0.0008360069477930665\n",
      "Loss: 0.003076331689953804\n",
      "Loss: 0.0017831702716648579\n",
      "Loss: 0.0010058608604595065\n",
      "Loss: 0.0017783568473532796\n",
      "Loss: 0.0011690191458910704\n",
      "Loss: 0.0034757643006742\n",
      "Loss: 0.0012232697336003184\n",
      "Loss: 0.0013646436855196953\n",
      "Loss: 0.00528704933822155\n",
      "Loss: 0.0008217165595851839\n",
      "Loss: 0.0015597291057929397\n",
      "Loss: 0.0022000079043209553\n",
      "Loss: 0.002059927675873041\n",
      "Loss: 0.002952701412141323\n",
      "Loss: 0.001967727905139327\n",
      "Loss: 0.0029521016404032707\n",
      "Loss: 0.0003872215165756643\n",
      "Loss: 0.0007260509300976992\n",
      "Loss: 0.0026089544408023357\n",
      "Loss: 0.0027532638050615788\n",
      "Loss: 0.0013464768417179585\n",
      "Loss: 0.0018413037760183215\n",
      "Loss: 0.001833438640460372\n",
      "Loss: 0.0013274458469823003\n",
      "Loss: 0.0013796767452731729\n",
      "Loss: 0.0022132967133075\n",
      "Loss: 0.0097707100212574\n",
      "Loss: 0.004152670968323946\n",
      "Loss: 0.00441207317635417\n",
      "Loss: 0.002919399179518223\n",
      "Loss: 0.004312252625823021\n",
      "Loss: 0.0014575170353055\n",
      "Loss: 0.005743839778006077\n",
      "Loss: 0.0015439896378666162\n",
      "Loss: 0.0014238194562494755\n",
      "Loss: 0.0022356119006872177\n",
      "Loss: 0.0033772399183362722\n",
      "Loss: 0.002937798388302326\n",
      "Loss: 0.0024876941461116076\n",
      "Loss: 0.0016414109850302339\n",
      "Loss: 0.002892648335546255\n",
      "Loss: 0.0014677445869892836\n",
      "Loss: 0.004349872004240751\n",
      "Loss: 0.001669607125222683\n",
      "Loss: 0.0036595514975488186\n",
      "Loss: 0.003121746238321066\n",
      "Loss: 0.004033849574625492\n",
      "Loss: 0.0006818100810050964\n",
      "Loss: 0.002217846689745784\n",
      "Loss: 0.0012896998086944222\n",
      "Loss: 0.002420253586024046\n",
      "Loss: 0.002344245556741953\n",
      "Loss: 0.0017165075987577438\n",
      "Loss: 0.0014918961096554995\n",
      "Loss: 0.002217380329966545\n",
      "Loss: 0.002217089058831334\n",
      "Loss: 0.0009823153959587216\n",
      "Loss: 0.0020917830988764763\n",
      "Loss: 0.0009093328844755888\n",
      "Loss: 0.0019520658534020185\n",
      "Loss: 0.0019060054328292608\n",
      "Loss: 0.0013429239625111222\n",
      "Loss: 0.0010237613460049033\n",
      "Loss: 0.0013411277905106544\n",
      "Loss: 0.0019399069715291262\n",
      "Loss: 0.0011017541401088238\n",
      "Loss: 0.0015040715225040913\n",
      "Loss: 0.00122172012925148\n",
      "Loss: 0.0014331780839711428\n",
      "Loss: 0.0009624338708817959\n",
      "Loss: 0.0009233936434611678\n",
      "Loss: 0.0009920165175572038\n",
      "Loss: 0.0016810399247333407\n",
      "Loss: 0.0016935606254264712\n",
      "Loss: 0.0011413447791710496\n",
      "Loss: 0.0008281628834083676\n",
      "Loss: 0.0026335627771914005\n",
      "Loss: 0.0007174125639721751\n",
      "Loss: 0.0008131320355460048\n",
      "Loss: 0.0007472014985978603\n",
      "Loss: 0.0007447819225490093\n",
      "Loss: 0.0007476060418412089\n",
      "Loss: 0.001223600236698985\n",
      "Loss: 0.0008362116059288383\n",
      "Loss: 0.0009979850146919489\n",
      "Loss: 0.0006624188972637057\n",
      "Loss: 0.0006074851262383163\n",
      "Loss: 0.0009471077937632799\n",
      "Loss: 0.0007160515524446964\n",
      "Loss: 0.0009041859884746373\n",
      "Loss: 0.0006538231391459703\n",
      "Loss: 0.0008414190961048007\n",
      "Loss: 0.0012964773923158646\n",
      "Loss: 0.0008402187959291041\n",
      "Loss: 0.0008034309139475226\n",
      "Loss: 0.00035171915078535676\n",
      "Loss: 0.0006397807155735791\n",
      "Loss: 0.001112931640818715\n",
      "Loss: 0.0011947219027206302\n",
      "Loss: 0.0008455641800537705\n",
      "Loss: 0.00125715765170753\n",
      "Loss: 0.0008297041058540344\n",
      "Loss: 0.0007427830714732409\n",
      "Loss: 0.0005314616719260812\n",
      "Loss: 0.0006369234179146588\n",
      "Loss: 0.0013271162752062082\n",
      "Loss: 0.0008934515644796193\n",
      "Loss: 0.0013734879903495312\n",
      "Loss: 0.0008733410504646599\n",
      "Loss: 0.0008612260571680963\n",
      "Loss: 0.0009979077149182558\n",
      "Loss: 0.0007628181483596563\n",
      "Loss: 0.0024345661513507366\n",
      "Loss: 0.0006766449077986181\n",
      "Loss: 0.0007806378416717052\n",
      "Loss: 0.0007424395298585296\n",
      "Loss: 0.0004946227418258786\n",
      "Loss: 0.0013109357096254826\n",
      "Loss: 0.0007644511642865837\n",
      "Loss: 0.0009038452990353107\n",
      "Loss: 0.0010871973354369402\n",
      "Loss: 0.0011708908714354038\n",
      "Loss: 0.0012243428500369191\n",
      "Loss: 0.0015328038716688752\n",
      "Loss: 0.0006240025395527482\n",
      "Loss: 0.0005261944606900215\n",
      "Loss: 0.0006459459546022117\n",
      "Loss: 0.001667087897658348\n",
      "Loss: 0.0008566316100768745\n",
      "Loss: 0.0009248349815607071\n",
      "Loss: 0.0011003746185451746\n",
      "Loss: 0.0007428976241499186\n",
      "Loss: 0.0004981269012205303\n",
      "Loss: 0.0008295789593830705\n",
      "Loss: 0.000593279954046011\n",
      "Loss: 0.0016594281187281013\n",
      "Loss: 0.0014499658718705177\n",
      "Loss: 0.0007750350050628185\n",
      "Loss: 0.0011415960034355521\n",
      "Loss: 0.0011533212382346392\n",
      "Loss: 0.0008315140148624778\n",
      "Loss: 0.0006685280241072178\n",
      "Loss: 0.000884947890881449\n",
      "Loss: 0.0008331324788741767\n",
      "Loss: 0.00172222382389009\n",
      "Loss: 0.001217235461808741\n",
      "Loss: 0.0005205422639846802\n",
      "Loss: 0.0008934910874813795\n",
      "Loss: 0.0005394239560700953\n",
      "Loss: 0.0017964502330869436\n",
      "Loss: 0.0007503158412873745\n",
      "Loss: 0.0007012980058789253\n",
      "Loss: 0.0006020657019689679\n",
      "Loss: 0.0009792986093088984\n",
      "Loss: 0.00046968564856797457\n",
      "Loss: 0.0007487941766157746\n",
      "Loss: 0.000723712146282196\n",
      "Loss: 0.0007884359802119434\n",
      "Loss: 0.001638780813664198\n",
      "Loss: 0.001060575945302844\n",
      "Loss: 0.000917550758458674\n",
      "Loss: 0.0010850140824913979\n",
      "Loss: 0.0015314598567783833\n",
      "Loss: 0.0005161169683560729\n",
      "Loss: 0.0011844330001622438\n",
      "Loss: 0.001201755367219448\n",
      "Loss: 0.0007181079126894474\n",
      "Loss: 0.0011260865721851587\n",
      "Loss: 0.0006750885513611138\n",
      "Loss: 0.0015685877297073603\n",
      "Loss: 0.0008356056641787291\n",
      "Loss: 0.0021864010486751795\n",
      "Loss: 0.0009935364359989762\n",
      "Loss: 0.002177574671804905\n",
      "Loss: 0.0006125216605141759\n",
      "Loss: 0.0005902048433199525\n",
      "Loss: 0.0008961405837908387\n",
      "Loss: 0.0011531842174008489\n",
      "Loss: 0.0008730384288355708\n",
      "Loss: 0.0016260818811133504\n",
      "Loss: 0.0005723807844333351\n",
      "Loss: 0.0007740248693153262\n",
      "Loss: 0.0008142938604578376\n",
      "Loss: 0.0014314024010673165\n",
      "Loss: 0.0015902873128652573\n",
      "Loss: 0.0011737829772755504\n",
      "Loss: 0.0009271901799365878\n",
      "Loss: 0.0013467117678374052\n",
      "Loss: 0.000887915724888444\n",
      "Loss: 0.0007218889077194035\n",
      "Loss: 0.0012471092632040381\n",
      "Loss: 0.0008996015531010926\n",
      "Loss: 0.0005067112506367266\n",
      "Loss: 0.0010553111787885427\n",
      "Loss: 0.0011323638027533889\n",
      "Loss: 0.0007253219373524189\n",
      "Loss: 0.0009186858660541475\n",
      "Loss: 0.0009537097648717463\n",
      "Loss: 0.0006674311589449644\n",
      "Loss: 0.0010140837403014302\n",
      "Loss: 0.0019141852390021086\n",
      "Loss: 0.0008117926772683859\n",
      "Loss: 0.00090515345800668\n",
      "Loss: 0.0007290870998986065\n",
      "Loss: 0.0009205692913383245\n",
      "Loss: 0.00045262585626915097\n",
      "Loss: 0.0015443027950823307\n",
      "Loss: 0.0008233951521106064\n",
      "Loss: 0.0008343132212758064\n",
      "Loss: 0.0006153022404760122\n"
     ]
    }
   ],
   "source": [
    "num_grad_accum = 2 # обновляем параметры каждые 2 шага\n",
    "\n",
    "train_loop(cm_unet, pipe, train_dataloader, optimizer, ct_loss, num_grad_accum)"
   ]
  },
  {
   "cell_type": "code",
   "execution_count": 20,
   "id": "adc0a489-f295-4e91-b840-5c7f43392a69",
   "metadata": {},
   "outputs": [
    {
     "name": "stdout",
     "output_type": "stream",
     "text": [
      "Saved\n"
     ]
    }
   ],
   "source": [
    "#torch.save(cm_unet.state_dict(), 'cm.pt')\n",
    "print('Saved')"
   ]
  },
  {
   "cell_type": "markdown",
   "id": "8808dc13",
   "metadata": {
    "id": "8808dc13"
   },
   "source": [
    "## Задание 5\n",
    "\n",
    "### Генерация с помощью обученной консистенси модели\n",
    "\n",
    "Настало время погенерировать картинки с помощью нашей модели.\n",
    "Напомним, что мы не можем для консистенси моделей использовать DDIM и другие классические солверы для диффузии.\n",
    "Нам нужен специальный сэмплер для CM, который схематично изображен на картинке ниже:\n",
    "\n",
    "<div>\n",
    "<img src=\"https://i.postimg.cc/66bWLvnh/cd-sampling.jpg\" width=\"600\"/>\n",
    "</div>\n",
    "\n",
    "Чуть более формально:\n",
    "\n",
    "$x_{t_n} \\sim {N}(0, I)$\n",
    "\n",
    "$for\\ t_i \\in [t_n, ..., t_1]:$\n",
    "\n",
    "* $\\epsilon \\leftarrow unet(x_{t_i})$\n",
    "\n",
    "* $x_0 \\leftarrow DDIM(\\epsilon, x_{t_i}, t_i, 0)$\n",
    "\n",
    "* $x_{t_{i-1}} \\leftarrow q(x_{t_{i-1}} | x_0)$\n",
    "\n",
    "\n",
    "**Classifier-free guidance (CFG)**\n",
    "\n",
    "Также вам надо реализовать поддержку CFG в CM сэмплирование. Вспомним формулу:\n",
    "\n",
    "$\\epsilon_w = {\\color{blue}{\\epsilon_{uncond}}} + w \\cdot (\\epsilon_{cond} - \\epsilon_{uncond})$, где $w \\geq 1$\n",
    "\n",
    "**Обратим внимание**, что режим \"без гайденса\" соотвествует $w = 1$, что немного контринтуитивно, но в большинстве реализаций будет встречаться именно такой вид этой формулы."
   ]
  },
  {
   "cell_type": "code",
   "execution_count": 28,
   "id": "31f70b6b-4c98-4a32-b1c2-c0ff5d0fc75a",
   "metadata": {},
   "outputs": [],
   "source": [
    "#torch.save(cm_unet.state_dict(), 'cm.pt')"
   ]
  },
  {
   "cell_type": "code",
   "execution_count": 17,
   "id": "0a989300-c7b2-4240-a829-49eee759eba8",
   "metadata": {},
   "outputs": [
    {
     "data": {
      "text/plain": [
       "<All keys matched successfully>"
      ]
     },
     "execution_count": 17,
     "metadata": {},
     "output_type": "execute_result"
    }
   ],
   "source": [
    "cm_unet.load_state_dict(torch.load('cm.pt', weights_only=True))"
   ]
  },
  {
   "cell_type": "code",
   "execution_count": 21,
   "id": "6f1c47c2",
   "metadata": {
    "id": "6f1c47c2"
   },
   "outputs": [],
   "source": [
    "@torch.no_grad()\n",
    "def consistency_sampling(\n",
    "    pipe,\n",
    "    prompt,\n",
    "    num_inference_steps=4,\n",
    "    generator=None,\n",
    "    num_images_per_prompt=4,\n",
    "    guidance_scale=1,\n",
    "):\n",
    "    if prompt is not None and isinstance(prompt, str):\n",
    "        batch_size = 1\n",
    "    elif prompt is not None and isinstance(prompt, list):\n",
    "        batch_size = len(prompt)\n",
    "\n",
    "    device = pipe._execution_device\n",
    "\n",
    "    # Extract embeddings from text prompts. Implement the pipe.encode_prompt call\n",
    "    do_classifier_free_guidance = guidance_scale > 0\n",
    "    prompt_embeds, null_prompt_embeds = pipe.encode_prompt(\n",
    "        prompt,\n",
    "        num_images_per_prompt=num_images_per_prompt,\n",
    "        do_classifier_free_guidance=do_classifier_free_guidance,\n",
    "        device=device\n",
    "    )\n",
    "    assert prompt_embeds.dtype == null_prompt_embeds.dtype == torch.float16\n",
    "\n",
    "    # Configure scheduler parameters\n",
    "    assert pipe.scheduler.config['timestep_spacing'] == 'trailing'\n",
    "    pipe.scheduler.set_timesteps(num_inference_steps)\n",
    "\n",
    "    latents = torch.randn(batch_size*num_images_per_prompt,\n",
    "                          pipe.unet.in_channels,\n",
    "                          pipe.unet.sample_size, \n",
    "                          pipe.unet.sample_size, \n",
    "                          generator=generator, \n",
    "                          device=device, \n",
    "                          dtype=torch.float16)\n",
    "    #latents = torch.zeros(batch_size*num_images_per_prompt, 4, 64, 64, generator=generator, device=device, dtype=torch.float16)\n",
    "    for i, t in enumerate(tqdm(pipe.scheduler.timesteps)):\n",
    "        t = torch.tensor([t] * len(latents)).to(device)\n",
    "        zero_t = torch.tensor([0] * len(latents)).to(device)\n",
    "\n",
    "        cond_noise_pred = pipe.unet(latents, t, encoder_hidden_states=prompt_embeds).sample\n",
    "\n",
    "        if do_classifier_free_guidance:\n",
    "            uncond_noise_pred = pipe.unet(latents, t, encoder_hidden_states=null_prompt_embeds).sample\n",
    "            noise_pred = uncond_noise_pred + guidance_scale * (cond_noise_pred - uncond_noise_pred)\n",
    "        else:\n",
    "            noise_pred = cond_noise_pred\n",
    "\n",
    "        # Get x_0 estimate from x_t\n",
    "        x_0 = ddim_solver_step(noise_pred, latents, t, zero_t, pipe.scheduler)\n",
    "\n",
    "        if i + 1 < num_inference_steps:\n",
    "            # Transition to the next step\n",
    "            s = pipe.scheduler.timesteps[i + 1]\n",
    "            s = torch.tensor([s] * len(latents)).to(device)\n",
    "\n",
    "            latents = q_sample(x_0, s, pipe.scheduler)\n",
    "        else:\n",
    "            # Last step\n",
    "            latents = x_0\n",
    "\n",
    "        latents = latents.half()\n",
    "\n",
    "    image = pipe.vae.decode(latents / pipe.vae.config.scaling_factor, return_dict=False)[0]\n",
    "    do_denormalize = [True] * image.shape[0]\n",
    "    image = pipe.image_processor.postprocess(image, output_type=\"pil\", do_denormalize=do_denormalize)\n",
    "    return image"
   ]
  },
  {
   "cell_type": "markdown",
   "id": "57927112",
   "metadata": {
    "id": "57927112"
   },
   "source": [
    "Попробуем сгененировать что-то нашей моделью. Можно поиграться с разными сидами и гайденс скейлами.\n",
    "\n",
    "Референс, что примерно должно получиться на этом этапе для guidance_scale=2. Как видите, картинки стали почетче, но пока все еще так себе.\n",
    "\n",
    "![img](https://i.postimg.cc/2jctrptY/ct-images.png)\n"
   ]
  },
  {
   "cell_type": "code",
   "execution_count": 22,
   "id": "cf2dc5a8",
   "metadata": {
    "id": "cf2dc5a8"
   },
   "outputs": [
    {
     "name": "stderr",
     "output_type": "stream",
     "text": [
      "/home/zeus/miniconda3/envs/cloudspace/lib/python3.10/site-packages/peft/tuners/lora/model.py:269: FutureWarning: Accessing config attribute `in_channels` directly via 'UNet2DConditionModel' object attribute is deprecated. Please access 'in_channels' over 'UNet2DConditionModel's config object instead, e.g. 'unet.config.in_channels'.\n",
      "  return getattr(self.model, name)\n"
     ]
    },
    {
     "data": {
      "application/vnd.jupyter.widget-view+json": {
       "model_id": "3e5f80f656a242cf99057f90ec6b8043",
       "version_major": 2,
       "version_minor": 0
      },
      "text/plain": [
       "  0%|          | 0/4 [00:00<?, ?it/s]"
      ]
     },
     "metadata": {},
     "output_type": "display_data"
    },
    {
     "data": {
      "image/png": "[encoded data removed]",
      "text/plain": [
       "<Figure size 1200x300 with 4 Axes>"
      ]
     },
     "metadata": {},
     "output_type": "display_data"
    }
   ],
   "source": [
    "pipe.unet = cm_unet.eval().to(torch.float16)\n",
    "assert cm_unet.active_adapter == 'ct'\n",
    "\n",
    "generator = torch.Generator(device=\"cuda\").manual_seed(1)\n",
    "guidance_scale = 3\n",
    "prompt = \"A sad puppy with large eyes\"\n",
    "# Заменяем генерацию пайплайном на наше сэмплирование.\n",
    "images = consistency_sampling(\n",
    "    pipe,\n",
    "    prompt,\n",
    "    num_inference_steps=4,\n",
    "    generator=generator,\n",
    "    guidance_scale=guidance_scale,\n",
    "    num_images_per_prompt=4\n",
    ")\n",
    "\n",
    "visualize_images(images)"
   ]
  },
  {
   "cell_type": "markdown",
   "id": "11670976",
   "metadata": {
    "id": "11670976"
   },
   "source": [
    "# Consistency Distillation\n",
    "\n",
    "## Задание №6\n",
    "\n",
    "\n",
    "Теперь давайте попробуем перейти к постановке дистилляции, где шаг из $x_t$ в $x_s$ будет делаться не аналитически, а c помощью модели учителя.  \n",
    "\n",
    "$\\mathbf{x}_t = q(\\mathbf{x}_t | \\mathbf{x}_0)$\n",
    "\n",
    "$\\mathbf{x}_s = DDIM(\\epsilon_\\theta(\\mathbf{x}_t, t), \\mathbf{x}_t, t, s)$\n",
    "\n",
    "**Замечание:**\n",
    "В text-to-image генерации *classifier-free guidance (CFG)* играет очень важную роль для получения хорошего качества с помощью диффузии.\n",
    "CFG меняет траектории ODE и раз нам он важен, то давайте и дистиллировать траектории с CFG.\n",
    "\n",
    "Поэтому для получения точки $\\mathbf{x}_{s}$ мы будем использовать шаг учителя с CFG. Это важное отличие от CT сеттинга - там мы не можем моделировать гайденс."
   ]
  },
  {
   "cell_type": "code",
   "execution_count": null,
   "id": "98399cfb",
   "metadata": {
    "id": "98399cfb"
   },
   "outputs": [],
   "source": [
    "unet = unet.to(torch.float32)\n",
    "unet.train()\n",
    "assert unet.dtype == torch.float32\n",
    "\n",
    "# Добавляем новые LoRA адаптеры для CD модели\n",
    "cm_unet.add_adapter(\"cd\", lora_config)\n",
    "cm_unet.set_adapter(\"cd\")\n",
    "\n",
    "# Пересоздаем оптимизатор\n",
    "optimizer = torch.optim.AdamW(cm_unet.parameters(), lr=1e-4)"
   ]
  },
  {
   "cell_type": "code",
   "execution_count": null,
   "id": "67eda898",
   "metadata": {
    "colab": {
     "base_uri": "https://localhost:8080/",
     "height": 108
    },
    "id": "67eda898",
    "outputId": "cfe75bb0-2892-46c5-d746-b44772694f42"
   },
   "outputs": [],
   "source": [
    "@torch.no_grad()\n",
    "def get_xs_from_xt_with_teacher(\n",
    "    x_0, x_t, t, s, # Не все эти аргументы могут быть вам нужны\n",
    "    scheduler,\n",
    "    prompt_embeds,\n",
    "    teacher_unet,\n",
    "    guidance_scale,\n",
    "    **kwargs\n",
    "):\n",
    "    # Делаем предсказание учителем в кондишион случае: подаем эмбеды текста\n",
    "    cond_noise_pred = teacher_unet(x_t, t, encoder_hidden_states=prompt_embeds).sample\n",
    "\n",
    "    # Для CFG нам нужно делать предсказания в unconditional случае.\n",
    "    # Для T2I моделей, мы будем это моделировать предсказаниями для пустого промпта \"\"\n",
    "    # Извлечем эмбеды из пустого промпта и размножить их до размера батча\n",
    "    uncond_input_ids = pipe.tokenizer(\n",
    "        [\"\"], return_tensors=\"pt\", padding=\"max_length\", max_length=77\n",
    "    ).input_ids.to(\"cuda\")\n",
    "\n",
    "    uncond_prompt_embeds = pipe.text_encoder(uncond_input_ids)[0].expand(\n",
    "        *prompt_embeds.shape\n",
    "    )\n",
    "\n",
    "    # Затем прогоняем модель для пустых промптов\n",
    "    uncond_noise_pred = teacher_unet(x_t, t, encoder_hidden_states=uncond_prompt_embeds).sample\n",
    "\n",
    "    # Применяем CFG формулу и получаем итоговый предикт учителя\n",
    "    noise_pred = uncond_noise_pred + guidance_scale * (cond_noise_pred - uncond_noise_pred)\n",
    "\n",
    "    # Получаем x_s из x_t\n",
    "    x_s = ddim_solver_step(noise_pred, x_t, t, s, scheduler)\n",
    "    return x_s\n",
    "\n",
    "\n",
    "# Сразу зададим внутрь модель учителя и guidance_scale\n",
    "get_xs_from_xt_with_teacher = functools.partial(\n",
    "    get_xs_from_xt_with_teacher,\n",
    "    teacher_unet=teacher_unet,\n",
    "    guidance_scale=7.5\n",
    ")"
   ]
  },
  {
   "cell_type": "markdown",
   "id": "765f39be",
   "metadata": {
    "id": "765f39be"
   },
   "source": [
    "Еще, как показано в работе [Improved Techniques for Training Consistency Models](https://arxiv.org/pdf/2310.14189).\n",
    "L2 лосс не самый оптимальный выбор для консистенси моделей.\n",
    "Давайте в CD обучении также заменим MSE лосс на pseudo-huber лосс из статьи."
   ]
  },
  {
   "cell_type": "code",
   "execution_count": null,
   "id": "878a5bac",
   "metadata": {
    "colab": {
     "base_uri": "https://localhost:8080/",
     "height": 108
    },
    "id": "878a5bac",
    "outputId": "afaad365-e748-4b11-9ce0-a0e7a87b8046"
   },
   "outputs": [],
   "source": [
    "def pseudo_huber_loss(\n",
    "    x: torch.Tensor,\n",
    "    y: torch.Tensor,\n",
    "    c=0.001\n",
    "):\n",
    "    diff = x - y\n",
    "\n",
    "    squared_norm = torch.norm(diff, p=2) ** 2\n",
    "\n",
    "    loss = torch.sqrt(squared_norm + c**2) - c\n",
    "    return loss"
   ]
  },
  {
   "cell_type": "code",
   "execution_count": null,
   "id": "12855c88",
   "metadata": {
    "colab": {
     "base_uri": "https://localhost:8080/",
     "height": 216
    },
    "id": "12855c88",
    "outputId": "631f5654-d432-4526-c48e-bccd14158571"
   },
   "outputs": [],
   "source": [
    "cd_loss = functools.partial(\n",
    "    cm_loss_template,\n",
    "\n",
    "    loss_fn=pseudo_huber_loss,\n",
    "    get_boundary_timesteps=get_zero_boundary_timesteps,\n",
    "    get_xs_from_xt=get_xs_from_xt_with_teacher\n",
    ")\n",
    "\n",
    "assert cm_unet.active_adapter == 'cd'"
   ]
  },
  {
   "cell_type": "markdown",
   "id": "79db78ad",
   "metadata": {
    "id": "79db78ad"
   },
   "source": [
    "**Теперь обучим модель в CD режиме**"
   ]
  },
  {
   "cell_type": "code",
   "execution_count": null,
   "id": "a3035cf7",
   "metadata": {
    "id": "a3035cf7"
   },
   "outputs": [],
   "source": [
    "num_grad_accum = 2 # обновляем параметры каждые 2 шага\n",
    "\n",
    "train_loop(cm_unet, pipe, train_dataloader, optimizer, cd_loss, num_grad_accum)"
   ]
  },
  {
   "cell_type": "markdown",
   "id": "971622aa",
   "metadata": {
    "id": "971622aa"
   },
   "source": [
    "### Снова сэмплируем\n",
    "\n",
    "Обратим внимание, что тут мы сэмпилруем без гайденса, потому что мы его уже частично прокинули в модель, когда делали шаг учителя с CFG.\n",
    "\n",
    "Снова для референса приводим картинки на этом этапе:\n",
    "\n",
    "![img](https://i.postimg.cc/mgrsxVfW/download-1.png)\n",
    "\n",
    "**Ваши картинки не обязаны совпадать: у вас могут быть немного менее/более качественные. Небольшая разница по качеству на оценку не влиет.**"
   ]
  },
  {
   "cell_type": "code",
   "execution_count": null,
   "id": "46e13eb6",
   "metadata": {
    "colab": {
     "base_uri": "https://localhost:8080/",
     "height": 108
    },
    "id": "46e13eb6",
    "outputId": "e4fce173-19a6-4091-d602-b1ad4e9f36fa"
   },
   "outputs": [],
   "source": [
    "# Подставляем нашу новую обученную модель в пайплайн\n",
    "pipe.unet = cm_unet.eval().to(torch.float16)\n",
    "assert cm_unet.active_adapter == 'cd'\n",
    "\n",
    "generator = torch.Generator(device=\"cuda\").manual_seed(0)\n",
    "guidance_scale = 0\n",
    "\n",
    "images = <YOUR CODE HERE>\n",
    "\n",
    "visualize_images(images)"
   ]
  },
  {
   "cell_type": "markdown",
   "id": "30be7c1e",
   "metadata": {
    "id": "30be7c1e"
   },
   "source": [
    "#### Давайте посмотрим на картинки для других промптов\n"
   ]
  },
  {
   "cell_type": "code",
   "execution_count": null,
   "id": "4bae76af",
   "metadata": {
    "id": "4bae76af"
   },
   "outputs": [],
   "source": [
    "validation_prompts = [\n",
    "    \"A sad puppy with large eyes\",\n",
    "    \"Astronaut in a jungle, cold color palette, muted colors, detailed, 8k\",\n",
    "    \"A photo of beautiful mountain with realistic sunset and blue lake, highly detailed, masterpiece\",\n",
    "    \"A girl with pale blue hair and a cami tank top\",\n",
    "    \"A lighthouse in a giant wave, origami style\",\n",
    "    \"belle epoque, christmas, red house in the forest, photo realistic, 8k\",\n",
    "    \"A small cactus with a happy face in the Sahara desert\",\n",
    "    \"Green commercial building with refrigerator and refrigeration units outside\",\n",
    "]\n",
    "\n",
    "for prompt in validation_prompts:\n",
    "    generator = torch.Generator(device=\"cuda\").manual_seed(0)\n",
    "\n",
    "    images = <YOUR CODE HERE>\n",
    "\n",
    "    visualize_images(images)"
   ]
  },
  {
   "cell_type": "markdown",
   "id": "9294acc5",
   "metadata": {
    "id": "9294acc5"
   },
   "source": [
    "# Multi-boundary Сonsistency Distillation\n",
    "<div>\n",
    "<img src=https://i.postimg.cc/tTzCv476/multi-cd.jpg width=600>\n",
    "<div>\n",
    "\n",
    "   В конце мы рассмотрим недавнюю модификацию CD, *Multi-boundary CD*, где интегрируем не всю траекторию сразу и потом сэмплируем с возвращением назад, а разбиваем траектории на $K$ отрезков и применяет CD внутри каждого отрезка независимо. Например, на картинке выше у нас два отрезка: зеленым и красным выделены две граничные точки.\n",
    "Для классического CD, рассмотренного ранее, у нас только одна граничная точка в $t = 0$\n",
    "    \n",
    "**Обратим внимание**, что сэмплирование становится детерминистичным и можно снова использовать DDIM солвер, где число шагов равно числу интервалов $K$, на которые мы разбили траектории во время обучения.\n",
    "\n",
    "Этот метод гораздо лучше работает чем обычный CD, потому что решать задачу CD на отрезках, а не на всей траектории, гораздо проще. В текущем задании мы разобьем траекторию на $K=4$ отрезка.\n",
    "\n",
    "Подробнее почитать можно в этой [статье](https://arxiv.org/pdf/2403.06807)."
   ]
  },
  {
   "cell_type": "markdown",
   "id": "95f05839",
   "metadata": {
    "id": "95f05839"
   },
   "source": [
    "## Задание №7 (0.25 балла, сдается в контесте)\n",
    "\n",
    "Ниже реализуйте функцию, которая для $K=4$ отрезков будет сопоставлять таймстепам соответствующие граничные точки.\n",
    "\n",
    "Например, для $K=2$ отрезков граничные точки будут: [0, 499]\n",
    "\n",
    "$0 \\leq t < 499$ -> граничная точка - $0$\n",
    "\n",
    "$499 \\leq t < 999$ -> граничная точка - $499$\n",
    "\n",
    "**Замечание:** помним, что интервал между $t$ и $s$ - 20 шагов.\n"
   ]
  },
  {
   "cell_type": "code",
   "execution_count": null,
   "id": "c7d2dbb2",
   "metadata": {
    "id": "c7d2dbb2"
   },
   "outputs": [],
   "source": [
    "def get_multi_boundary_timesteps(\n",
    "    timesteps,\n",
    "    num_boundaries=4,\n",
    "    num_timesteps=1000,\n",
    "):\n",
    "    \"\"\"\n",
    "    Для батча таймстепов определяем соответствующие граничные точки.\n",
    "    params:\n",
    "        timesteps: torch.Tensor(batch_size, device='cuda')\n",
    "    returns:\n",
    "        boundary_timesteps: torch.Tensor(batch_size, device='cuda')\n",
    "    \"\"\"\n",
    "    # Здесь важно повыводить timesteps и boundary_timesteps перед обучением,\n",
    "    # чтобы не перелетать граничные точки и при этом иногда попадать в них.\n",
    "\n",
    "    <YOUR CODE HERE>\n",
    "    return boundary_timesteps"
   ]
  },
  {
   "cell_type": "code",
   "execution_count": null,
   "id": "c4c1c0eb",
   "metadata": {
    "id": "c4c1c0eb"
   },
   "outputs": [],
   "source": [
    "multi_cd_loss = functools.partial(\n",
    "    cm_loss_template,\n",
    "\n",
    "    loss_fn=pseudo_huber_loss,\n",
    "    get_boundary_timesteps=get_multi_boundary_timesteps,\n",
    "    get_xs_from_xt=get_xs_from_xt_with_teacher\n",
    ")\n",
    "assert cm_unet.active_adapter == 'multi-cd'"
   ]
  },
  {
   "cell_type": "markdown",
   "id": "3d86175a",
   "metadata": {
    "id": "3d86175a"
   },
   "source": [
    "**Теперь обучим  Multi-boundary CD модель**"
   ]
  },
  {
   "cell_type": "code",
   "execution_count": null,
   "id": "aded4086",
   "metadata": {
    "id": "aded4086"
   },
   "outputs": [],
   "source": [
    "num_grad_accum = 2 # обновляем параметры каждые 2 шага\n",
    "\n",
    "train_loop(cm_unet, pipe, train_dataloader, optimizer, multi_cd_loss, num_grad_accum)"
   ]
  },
  {
   "cell_type": "markdown",
   "id": "2e28f872",
   "metadata": {
    "id": "2e28f872"
   },
   "source": [
    "### И в последний раз сэмплируем\n",
    "\n",
    "**Важно:** теперь у нас появляется возможно сэмплировать детерминистично с помощью оригинального солвера DDIM за 4 шага. Так что возвращаем сэмплирование исходным pipe-ом.\n",
    "\n",
    "Ниже прикрепляем референс и напомним, что у вас картинки могут отличаться и быть чуть хуже/лучше.\n",
    "![img](https://i.postimg.cc/gjYzQ0n2/download-2.png)"
   ]
  },
  {
   "cell_type": "code",
   "execution_count": null,
   "id": "90aa9bcc",
   "metadata": {
    "id": "90aa9bcc"
   },
   "outputs": [],
   "source": [
    "pipe.unet = cm_unet.eval().to(torch.float16)\n",
    "assert cm_unet.active_adapter == 'multi-cd'\n",
    "\n",
    "guidance_scale = 1\n",
    "\n",
    "for prompt in validation_prompts:\n",
    "    generator = torch.Generator(device=\"cuda\").manual_seed(1)\n",
    "\n",
    "    images = <YOUR CODE HERE>\n",
    "\n",
    "    visualize_images(images)"
   ]
  },
  {
   "cell_type": "markdown",
   "id": "403e782d",
   "metadata": {
    "id": "403e782d"
   },
   "source": [
    "## Задание №8\n",
    "\n",
    "Все, что осталось сделать - это загрузить ваши обученные модельки на huggingface_hub.\n",
    "Это очень популярный и удобный способ для хранения моделей, которые легко можно загружать и подставлять в модель.\n",
    "Другими словами GitHub для моделей и датасетов.\n",
    "\n",
    "1) Создайте аккаунт на [huggingface.co](huggingface.co)\n",
    "\n",
    "2) Получите свой HF токен, который можно получить здесь: https://huggingface.co/settings/tokens\n",
    "\n",
    "3) Создайте репозиторий для ваших моделями https://huggingface.co/new\n",
    "\n",
    "**Важно: перед отправкой нотбука на проверку, не забудьте удалить свой HF токен!**"
   ]
  },
  {
   "cell_type": "code",
   "execution_count": null,
   "id": "7c8e08bf",
   "metadata": {
    "id": "7c8e08bf"
   },
   "outputs": [],
   "source": [
    "cm_unet.push_to_hub(\n",
    "    <YOUR REPO NAME HERE>, # \"<username>/<repo-name>\"\n",
    "    token=<YOUR HF TOKEN HERE>\n",
    ")"
   ]
  },
  {
   "cell_type": "markdown",
   "id": "214be7df",
   "metadata": {
    "id": "214be7df"
   },
   "source": [
    "Пример, как должен выглядеть результат выполнения команды: https://huggingface.co/dbaranchuk/cv-week-final-task-example\n",
    "\n",
    "Давайте проверим, что загрузка модели корректно работает."
   ]
  },
  {
   "cell_type": "code",
   "execution_count": null,
   "id": "b9caee95",
   "metadata": {
    "id": "b9caee95"
   },
   "outputs": [],
   "source": [
    "from peft import PeftModel\n",
    "\n",
    "loaded_cm_unet = PeftModel.from_pretrained(\n",
    "    unet,\n",
    "    <YOUR REPO NAME HERE>,\n",
    "    token=<YOUR HF TOKEN HERE>,\n",
    "    subfolder='multi-cd',\n",
    "    adapter_name=\"multi-cd\",\n",
    ")"
   ]
  },
  {
   "cell_type": "code",
   "execution_count": null,
   "id": "ad678713",
   "metadata": {
    "id": "ad678713"
   },
   "outputs": [],
   "source": [
    "pipe.unet = loaded_cm_unet.eval().to(torch.float16)\n",
    "assert loaded_cm_unet.active_adapter == 'multi-cd'\n",
    "\n",
    "guidance_scale = 1\n",
    "\n",
    "for prompt in validation_prompts:\n",
    "    generator = torch.Generator(device=\"cuda\").manual_seed(1)\n",
    "\n",
    "    images = <YOUR CODE HERE>\n",
    "кст\n",
    "    visualize_images(images)"
   ]
  },
  {
   "cell_type": "markdown",
   "id": "508112b9",
   "metadata": {
    "id": "508112b9"
   },
   "source": [
    "**На этом все! Ура!**\n",
    "\n",
    "<div>\n",
    "<img src=\"https://i.postimg.cc/jq8F6Yvk/photo-2024-11-27-21-57-13.jpg\" width=400>\n",
    "<div>"
   ]
  },
  {
   "cell_type": "markdown",
   "id": "7582f3d8",
   "metadata": {
    "id": "7582f3d8"
   },
   "source": [
    "### P.S. Некоторые примеры плохих генераций, которые могут возникать при выполнении задания\n",
    "\n",
    "#### Неправильный сэмплинг\n",
    "\n",
    "![img](https://i.postimg.cc/TYM2vR4M/photo-2024-11-29-02-14-50.jpg)\n",
    "\n",
    "![img](https://i.postimg.cc/XYnVXsWs/photo-2024-11-29-02-16-00.jpg)\n",
    "\n",
    "#### Ошибки в обучении\n",
    "\n",
    "![img](https://i.postimg.cc/XJfHZk4g/photo-2024-11-29-02-35-05.jpg)\n",
    "![img](https://i.postimg.cc/RF5pVD5F/photo-2024-11-29-02-24-38.jpg)\n",
    "\n",
    "#### Необученная модель\n",
    "\n",
    "![img](https://i.postimg.cc/8zwTvLPN/photo-2024-11-29-01-58-36.jpg)\n"
   ]
  },
  {
   "cell_type": "code",
   "execution_count": null,
   "id": "933b6b91",
   "metadata": {
    "id": "933b6b91"
   },
   "outputs": [],
   "source": []
  }
 ],
 "metadata": {
  "accelerator": "GPU",
  "colab": {
   "gpuType": "T4",
   "provenance": []
  },
  "kernelspec": {
   "display_name": "Python 3",
   "language": "python",
   "name": "python3"
  },
  "language_info": {
   "codemirror_mode": {
    "name": "ipython",
    "version": 3
   },
   "file_extension": ".py",
   "mimetype": "text/x-python",
   "name": "python",
   "nbconvert_exporter": "python",
   "pygments_lexer": "ipython3",
   "version": "3.10.10"
  },
  "widgets": {
   "application/vnd.jupyter.widget-state+json": {
    "127f920fbe3c4f14b92d88bd1650dd05": {
     "model_module": "@jupyter-widgets/controls",
     "model_module_version": "1.5.0",
     "model_name": "DescriptionStyleModel",
     "state": {
      "_model_module": "@jupyter-widgets/controls",
      "_model_module_version": "1.5.0",
      "_model_name": "DescriptionStyleModel",
      "_view_count": null,
      "_view_module": "@jupyter-widgets/base",
      "_view_module_version": "1.2.0",
      "_view_name": "StyleView",
      "description_width": ""
     }
    },
    "2130f6b6fcb0417aa98f01cb49518d88": {
     "model_module": "@jupyter-widgets/controls",
     "model_module_version": "1.5.0",
     "model_name": "DescriptionStyleModel",
     "state": {
      "_model_module": "@jupyter-widgets/controls",
      "_model_module_version": "1.5.0",
      "_model_name": "DescriptionStyleModel",
      "_view_count": null,
      "_view_module": "@jupyter-widgets/base",
      "_view_module_version": "1.2.0",
      "_view_name": "StyleView",
      "description_width": ""
     }
    },
    "25cfe8f959444a09b91ff941290e9660": {
     "model_module": "@jupyter-widgets/controls",
     "model_module_version": "1.5.0",
     "model_name": "ProgressStyleModel",
     "state": {
      "_model_module": "@jupyter-widgets/controls",
      "_model_module_version": "1.5.0",
      "_model_name": "ProgressStyleModel",
      "_view_count": null,
      "_view_module": "@jupyter-widgets/base",
      "_view_module_version": "1.2.0",
      "_view_name": "StyleView",
      "bar_color": null,
      "description_width": ""
     }
    },
    "276bed18dd4544309e866bc457797709": {
     "model_module": "@jupyter-widgets/base",
     "model_module_version": "1.2.0",
     "model_name": "LayoutModel",
     "state": {
      "_model_module": "@jupyter-widgets/base",
      "_model_module_version": "1.2.0",
      "_model_name": "LayoutModel",
      "_view_count": null,
      "_view_module": "@jupyter-widgets/base",
      "_view_module_version": "1.2.0",
      "_view_name": "LayoutView",
      "align_content": null,
      "align_items": null,
      "align_self": null,
      "border": null,
      "bottom": null,
      "display": null,
      "flex": null,
      "flex_flow": null,
      "grid_area": null,
      "grid_auto_columns": null,
      "grid_auto_flow": null,
      "grid_auto_rows": null,
      "grid_column": null,
      "grid_gap": null,
      "grid_row": null,
      "grid_template_areas": null,
      "grid_template_columns": null,
      "grid_template_rows": null,
      "height": null,
      "justify_content": null,
      "justify_items": null,
      "left": null,
      "margin": null,
      "max_height": null,
      "max_width": null,
      "min_height": null,
      "min_width": null,
      "object_fit": null,
      "object_position": null,
      "order": null,
      "overflow": null,
      "overflow_x": null,
      "overflow_y": null,
      "padding": null,
      "right": null,
      "top": null,
      "visibility": null,
      "width": null
     }
    },
    "2c6447f7e4a8453882759fd99c0d217f": {
     "model_module": "@jupyter-widgets/controls",
     "model_module_version": "1.5.0",
     "model_name": "DescriptionStyleModel",
     "state": {
      "_model_module": "@jupyter-widgets/controls",
      "_model_module_version": "1.5.0",
      "_model_name": "DescriptionStyleModel",
      "_view_count": null,
      "_view_module": "@jupyter-widgets/base",
      "_view_module_version": "1.2.0",
      "_view_name": "StyleView",
      "description_width": ""
     }
    },
    "2e718c5e7886410cb9e4f902d9566d50": {
     "model_module": "@jupyter-widgets/base",
     "model_module_version": "1.2.0",
     "model_name": "LayoutModel",
     "state": {
      "_model_module": "@jupyter-widgets/base",
      "_model_module_version": "1.2.0",
      "_model_name": "LayoutModel",
      "_view_count": null,
      "_view_module": "@jupyter-widgets/base",
      "_view_module_version": "1.2.0",
      "_view_name": "LayoutView",
      "align_content": null,
      "align_items": null,
      "align_self": null,
      "border": null,
      "bottom": null,
      "display": null,
      "flex": null,
      "flex_flow": null,
      "grid_area": null,
      "grid_auto_columns": null,
      "grid_auto_flow": null,
      "grid_auto_rows": null,
      "grid_column": null,
      "grid_gap": null,
      "grid_row": null,
      "grid_template_areas": null,
      "grid_template_columns": null,
      "grid_template_rows": null,
      "height": null,
      "justify_content": null,
      "justify_items": null,
      "left": null,
      "margin": null,
      "max_height": null,
      "max_width": null,
      "min_height": null,
      "min_width": null,
      "object_fit": null,
      "object_position": null,
      "order": null,
      "overflow": null,
      "overflow_x": null,
      "overflow_y": null,
      "padding": null,
      "right": null,
      "top": null,
      "visibility": null,
      "width": null
     }
    },
    "35336c1418f84b1c9a1d83583189bf29": {
     "model_module": "@jupyter-widgets/base",
     "model_module_version": "1.2.0",
     "model_name": "LayoutModel",
     "state": {
      "_model_module": "@jupyter-widgets/base",
      "_model_module_version": "1.2.0",
      "_model_name": "LayoutModel",
      "_view_count": null,
      "_view_module": "@jupyter-widgets/base",
      "_view_module_version": "1.2.0",
      "_view_name": "LayoutView",
      "align_content": null,
      "align_items": null,
      "align_self": null,
      "border": null,
      "bottom": null,
      "display": null,
      "flex": null,
      "flex_flow": null,
      "grid_area": null,
      "grid_auto_columns": null,
      "grid_auto_flow": null,
      "grid_auto_rows": null,
      "grid_column": null,
      "grid_gap": null,
      "grid_row": null,
      "grid_template_areas": null,
      "grid_template_columns": null,
      "grid_template_rows": null,
      "height": null,
      "justify_content": null,
      "justify_items": null,
      "left": null,
      "margin": null,
      "max_height": null,
      "max_width": null,
      "min_height": null,
      "min_width": null,
      "object_fit": null,
      "object_position": null,
      "order": null,
      "overflow": null,
      "overflow_x": null,
      "overflow_y": null,
      "padding": null,
      "right": null,
      "top": null,
      "visibility": null,
      "width": null
     }
    },
    "4a1e7179c9154e6ab304825b9b0a6c62": {
     "model_module": "@jupyter-widgets/base",
     "model_module_version": "1.2.0",
     "model_name": "LayoutModel",
     "state": {
      "_model_module": "@jupyter-widgets/base",
      "_model_module_version": "1.2.0",
      "_model_name": "LayoutModel",
      "_view_count": null,
      "_view_module": "@jupyter-widgets/base",
      "_view_module_version": "1.2.0",
      "_view_name": "LayoutView",
      "align_content": null,
      "align_items": null,
      "align_self": null,
      "border": null,
      "bottom": null,
      "display": null,
      "flex": null,
      "flex_flow": null,
      "grid_area": null,
      "grid_auto_columns": null,
      "grid_auto_flow": null,
      "grid_auto_rows": null,
      "grid_column": null,
      "grid_gap": null,
      "grid_row": null,
      "grid_template_areas": null,
      "grid_template_columns": null,
      "grid_template_rows": null,
      "height": null,
      "justify_content": null,
      "justify_items": null,
      "left": null,
      "margin": null,
      "max_height": null,
      "max_width": null,
      "min_height": null,
      "min_width": null,
      "object_fit": null,
      "object_position": null,
      "order": null,
      "overflow": null,
      "overflow_x": null,
      "overflow_y": null,
      "padding": null,
      "right": null,
      "top": null,
      "visibility": null,
      "width": null
     }
    },
    "64a3d28731b74c35b55170593fc4a400": {
     "model_module": "@jupyter-widgets/base",
     "model_module_version": "1.2.0",
     "model_name": "LayoutModel",
     "state": {
      "_model_module": "@jupyter-widgets/base",
      "_model_module_version": "1.2.0",
      "_model_name": "LayoutModel",
      "_view_count": null,
      "_view_module": "@jupyter-widgets/base",
      "_view_module_version": "1.2.0",
      "_view_name": "LayoutView",
      "align_content": null,
      "align_items": null,
      "align_self": null,
      "border": null,
      "bottom": null,
      "display": null,
      "flex": null,
      "flex_flow": null,
      "grid_area": null,
      "grid_auto_columns": null,
      "grid_auto_flow": null,
      "grid_auto_rows": null,
      "grid_column": null,
      "grid_gap": null,
      "grid_row": null,
      "grid_template_areas": null,
      "grid_template_columns": null,
      "grid_template_rows": null,
      "height": null,
      "justify_content": null,
      "justify_items": null,
      "left": null,
      "margin": null,
      "max_height": null,
      "max_width": null,
      "min_height": null,
      "min_width": null,
      "object_fit": null,
      "object_position": null,
      "order": null,
      "overflow": null,
      "overflow_x": null,
      "overflow_y": null,
      "padding": null,
      "right": null,
      "top": null,
      "visibility": null,
      "width": null
     }
    },
    "7c23f2433a754325b3705ea7f5ece5ac": {
     "model_module": "@jupyter-widgets/controls",
     "model_module_version": "1.5.0",
     "model_name": "FloatProgressModel",
     "state": {
      "_dom_classes": [],
      "_model_module": "@jupyter-widgets/controls",
      "_model_module_version": "1.5.0",
      "_model_name": "FloatProgressModel",
      "_view_count": null,
      "_view_module": "@jupyter-widgets/controls",
      "_view_module_version": "1.5.0",
      "_view_name": "ProgressView",
      "bar_style": "danger",
      "description": "",
      "description_tooltip": null,
      "layout": "IPY_MODEL_4a1e7179c9154e6ab304825b9b0a6c62",
      "max": 312,
      "min": 0,
      "orientation": "horizontal",
      "style": "IPY_MODEL_25cfe8f959444a09b91ff941290e9660",
      "value": 128
     }
    },
    "9e6e5db9551840acb6cdf11309fb2974": {
     "model_module": "@jupyter-widgets/controls",
     "model_module_version": "1.5.0",
     "model_name": "HBoxModel",
     "state": {
      "_dom_classes": [],
      "_model_module": "@jupyter-widgets/controls",
      "_model_module_version": "1.5.0",
      "_model_name": "HBoxModel",
      "_view_count": null,
      "_view_module": "@jupyter-widgets/controls",
      "_view_module_version": "1.5.0",
      "_view_name": "HBoxView",
      "box_style": "",
      "children": [
       "IPY_MODEL_b889e8cf31eb4f819161439a35f2bb7e",
       "IPY_MODEL_fee34c14a2bc4e92b6783c47185cda17",
       "IPY_MODEL_bdd1e792f0ae45a8a770c72a2ef963f1"
      ],
      "layout": "IPY_MODEL_276bed18dd4544309e866bc457797709"
     }
    },
    "a1839b5fc8464ee8a975f9037599ae8c": {
     "model_module": "@jupyter-widgets/base",
     "model_module_version": "1.2.0",
     "model_name": "LayoutModel",
     "state": {
      "_model_module": "@jupyter-widgets/base",
      "_model_module_version": "1.2.0",
      "_model_name": "LayoutModel",
      "_view_count": null,
      "_view_module": "@jupyter-widgets/base",
      "_view_module_version": "1.2.0",
      "_view_name": "LayoutView",
      "align_content": null,
      "align_items": null,
      "align_self": null,
      "border": null,
      "bottom": null,
      "display": null,
      "flex": null,
      "flex_flow": null,
      "grid_area": null,
      "grid_auto_columns": null,
      "grid_auto_flow": null,
      "grid_auto_rows": null,
      "grid_column": null,
      "grid_gap": null,
      "grid_row": null,
      "grid_template_areas": null,
      "grid_template_columns": null,
      "grid_template_rows": null,
      "height": null,
      "justify_content": null,
      "justify_items": null,
      "left": null,
      "margin": null,
      "max_height": null,
      "max_width": null,
      "min_height": null,
      "min_width": null,
      "object_fit": null,
      "object_position": null,
      "order": null,
      "overflow": null,
      "overflow_x": null,
      "overflow_y": null,
      "padding": null,
      "right": null,
      "top": null,
      "visibility": null,
      "width": null
     }
    },
    "a6b4eb712cd14383bd71cb97cf47233b": {
     "model_module": "@jupyter-widgets/controls",
     "model_module_version": "1.5.0",
     "model_name": "HTMLModel",
     "state": {
      "_dom_classes": [],
      "_model_module": "@jupyter-widgets/controls",
      "_model_module_version": "1.5.0",
      "_model_name": "HTMLModel",
      "_view_count": null,
      "_view_module": "@jupyter-widgets/controls",
      "_view_module_version": "1.5.0",
      "_view_name": "HTMLView",
      "description": "",
      "description_tooltip": null,
      "layout": "IPY_MODEL_35336c1418f84b1c9a1d83583189bf29",
      "placeholder": "​",
      "style": "IPY_MODEL_127f920fbe3c4f14b92d88bd1650dd05",
      "value": " 128/312 [07:46&lt;11:43,  3.82s/it]"
     }
    },
    "b889e8cf31eb4f819161439a35f2bb7e": {
     "model_module": "@jupyter-widgets/controls",
     "model_module_version": "1.5.0",
     "model_name": "HTMLModel",
     "state": {
      "_dom_classes": [],
      "_model_module": "@jupyter-widgets/controls",
      "_model_module_version": "1.5.0",
      "_model_name": "HTMLModel",
      "_view_count": null,
      "_view_module": "@jupyter-widgets/controls",
      "_view_module_version": "1.5.0",
      "_view_name": "HTMLView",
      "description": "",
      "description_tooltip": null,
      "layout": "IPY_MODEL_64a3d28731b74c35b55170593fc4a400",
      "placeholder": "​",
      "style": "IPY_MODEL_c7f8272fd1054334947dba562fc54cfe",
      "value": "Loading pipeline components...: 100%"
     }
    },
    "bb773997f9cd43b9bea87393d8ec6354": {
     "model_module": "@jupyter-widgets/controls",
     "model_module_version": "1.5.0",
     "model_name": "HTMLModel",
     "state": {
      "_dom_classes": [],
      "_model_module": "@jupyter-widgets/controls",
      "_model_module_version": "1.5.0",
      "_model_name": "HTMLModel",
      "_view_count": null,
      "_view_module": "@jupyter-widgets/controls",
      "_view_module_version": "1.5.0",
      "_view_name": "HTMLView",
      "description": "",
      "description_tooltip": null,
      "layout": "IPY_MODEL_2e718c5e7886410cb9e4f902d9566d50",
      "placeholder": "​",
      "style": "IPY_MODEL_2130f6b6fcb0417aa98f01cb49518d88",
      "value": " 41%"
     }
    },
    "bdd1e792f0ae45a8a770c72a2ef963f1": {
     "model_module": "@jupyter-widgets/controls",
     "model_module_version": "1.5.0",
     "model_name": "HTMLModel",
     "state": {
      "_dom_classes": [],
      "_model_module": "@jupyter-widgets/controls",
      "_model_module_version": "1.5.0",
      "_model_name": "HTMLModel",
      "_view_count": null,
      "_view_module": "@jupyter-widgets/controls",
      "_view_module_version": "1.5.0",
      "_view_name": "HTMLView",
      "description": "",
      "description_tooltip": null,
      "layout": "IPY_MODEL_ce1ae26c29764b2bbf3a554cf5d9ad6c",
      "placeholder": "​",
      "style": "IPY_MODEL_2c6447f7e4a8453882759fd99c0d217f",
      "value": " 7/7 [00:20&lt;00:00,  3.00s/it]"
     }
    },
    "c7f8272fd1054334947dba562fc54cfe": {
     "model_module": "@jupyter-widgets/controls",
     "model_module_version": "1.5.0",
     "model_name": "DescriptionStyleModel",
     "state": {
      "_model_module": "@jupyter-widgets/controls",
      "_model_module_version": "1.5.0",
      "_model_name": "DescriptionStyleModel",
      "_view_count": null,
      "_view_module": "@jupyter-widgets/base",
      "_view_module_version": "1.2.0",
      "_view_name": "StyleView",
      "description_width": ""
     }
    },
    "cb6b386ec4ac41519ae71b3e715d308f": {
     "model_module": "@jupyter-widgets/controls",
     "model_module_version": "1.5.0",
     "model_name": "ProgressStyleModel",
     "state": {
      "_model_module": "@jupyter-widgets/controls",
      "_model_module_version": "1.5.0",
      "_model_name": "ProgressStyleModel",
      "_view_count": null,
      "_view_module": "@jupyter-widgets/base",
      "_view_module_version": "1.2.0",
      "_view_name": "StyleView",
      "bar_color": null,
      "description_width": ""
     }
    },
    "ce1ae26c29764b2bbf3a554cf5d9ad6c": {
     "model_module": "@jupyter-widgets/base",
     "model_module_version": "1.2.0",
     "model_name": "LayoutModel",
     "state": {
      "_model_module": "@jupyter-widgets/base",
      "_model_module_version": "1.2.0",
      "_model_name": "LayoutModel",
      "_view_count": null,
      "_view_module": "@jupyter-widgets/base",
      "_view_module_version": "1.2.0",
      "_view_name": "LayoutView",
      "align_content": null,
      "align_items": null,
      "align_self": null,
      "border": null,
      "bottom": null,
      "display": null,
      "flex": null,
      "flex_flow": null,
      "grid_area": null,
      "grid_auto_columns": null,
      "grid_auto_flow": null,
      "grid_auto_rows": null,
      "grid_column": null,
      "grid_gap": null,
      "grid_row": null,
      "grid_template_areas": null,
      "grid_template_columns": null,
      "grid_template_rows": null,
      "height": null,
      "justify_content": null,
      "justify_items": null,
      "left": null,
      "margin": null,
      "max_height": null,
      "max_width": null,
      "min_height": null,
      "min_width": null,
      "object_fit": null,
      "object_position": null,
      "order": null,
      "overflow": null,
      "overflow_x": null,
      "overflow_y": null,
      "padding": null,
      "right": null,
      "top": null,
      "visibility": null,
      "width": null
     }
    },
    "e97445ae4577494d85bb924e58448b54": {
     "model_module": "@jupyter-widgets/controls",
     "model_module_version": "1.5.0",
     "model_name": "HBoxModel",
     "state": {
      "_dom_classes": [],
      "_model_module": "@jupyter-widgets/controls",
      "_model_module_version": "1.5.0",
      "_model_name": "HBoxModel",
      "_view_count": null,
      "_view_module": "@jupyter-widgets/controls",
      "_view_module_version": "1.5.0",
      "_view_name": "HBoxView",
      "box_style": "",
      "children": [
       "IPY_MODEL_bb773997f9cd43b9bea87393d8ec6354",
       "IPY_MODEL_7c23f2433a754325b3705ea7f5ece5ac",
       "IPY_MODEL_a6b4eb712cd14383bd71cb97cf47233b"
      ],
      "layout": "IPY_MODEL_ef390eb1731a4631bb7b04c2569c0e37"
     }
    },
    "ef390eb1731a4631bb7b04c2569c0e37": {
     "model_module": "@jupyter-widgets/base",
     "model_module_version": "1.2.0",
     "model_name": "LayoutModel",
     "state": {
      "_model_module": "@jupyter-widgets/base",
      "_model_module_version": "1.2.0",
      "_model_name": "LayoutModel",
      "_view_count": null,
      "_view_module": "@jupyter-widgets/base",
      "_view_module_version": "1.2.0",
      "_view_name": "LayoutView",
      "align_content": null,
      "align_items": null,
      "align_self": null,
      "border": null,
      "bottom": null,
      "display": null,
      "flex": null,
      "flex_flow": null,
      "grid_area": null,
      "grid_auto_columns": null,
      "grid_auto_flow": null,
      "grid_auto_rows": null,
      "grid_column": null,
      "grid_gap": null,
      "grid_row": null,
      "grid_template_areas": null,
      "grid_template_columns": null,
      "grid_template_rows": null,
      "height": null,
      "justify_content": null,
      "justify_items": null,
      "left": null,
      "margin": null,
      "max_height": null,
      "max_width": null,
      "min_height": null,
      "min_width": null,
      "object_fit": null,
      "object_position": null,
      "order": null,
      "overflow": null,
      "overflow_x": null,
      "overflow_y": null,
      "padding": null,
      "right": null,
      "top": null,
      "visibility": null,
      "width": null
     }
    },
    "fee34c14a2bc4e92b6783c47185cda17": {
     "model_module": "@jupyter-widgets/controls",
     "model_module_version": "1.5.0",
     "model_name": "FloatProgressModel",
     "state": {
      "_dom_classes": [],
      "_model_module": "@jupyter-widgets/controls",
      "_model_module_version": "1.5.0",
      "_model_name": "FloatProgressModel",
      "_view_count": null,
      "_view_module": "@jupyter-widgets/controls",
      "_view_module_version": "1.5.0",
      "_view_name": "ProgressView",
      "bar_style": "success",
      "description": "",
      "description_tooltip": null,
      "layout": "IPY_MODEL_a1839b5fc8464ee8a975f9037599ae8c",
      "max": 7,
      "min": 0,
      "orientation": "horizontal",
      "style": "IPY_MODEL_cb6b386ec4ac41519ae71b3e715d308f",
      "value": 7
     }
    }
   }
  }
 },
 "nbformat": 4,
 "nbformat_minor": 5
}
