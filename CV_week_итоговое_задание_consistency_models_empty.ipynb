{
  "cells": [
    {
      "cell_type": "markdown",
      "id": "c3bb8ead",
      "metadata": {
        "id": "c3bb8ead"
      },
      "source": [
        "# CV Week: Итоговое задание\n",
        "\n",
        "На лекции и семинаре мы разбирали как дистиллировать многошаговую диффузионную модель в малошагового студента, и тем самым будет работать на порядок быстрее учителя.\n",
        "\n",
        "Один из подходов, который мы разбирали *Consistency Distillation*. В этом задании, мы закрепим материал, который был на лекции и семинаре и реализуем этот фреймворк, затрагивая различные нюансы.\n",
        "\n",
        "В этом задании мы будем дистиллировать модель *Stable Diffusion 1.5 (SD1.5)* для генерации картинок по текстовому описанию.\n",
        "\n",
        "Вам предстоит выполнить 8 небольших заданий, которые приведут нас к неплохой модели для генерации картинок за 4 шага, работая в органиченных условиях колаба."
      ]
    },
    {
      "cell_type": "code",
      "execution_count": 20,
      "id": "585e5265",
      "metadata": {
        "id": "585e5265",
        "tags": []
      },
      "outputs": [],
      "source": [
        "# torch 2.4.1+cu124\n",
        "#!pip install diffusers==0.30.3, peft==0.8.2 huggingface_hub==0.23.4"
      ]
    },
    {
      "cell_type": "markdown",
      "id": "67e4aafa",
      "metadata": {
        "id": "67e4aafa"
      },
      "source": [
        "## Теормин\n",
        "\n",
        "---\n",
        "##### Диффузионные модели\n",
        "\n",
        "Задан прямой диффузионный процесс, который переводит чистые картинки в шум с помощью распределения $q(\\mathbf{x}_t | \\mathbf{x}_0)= {N}(\\mathbf{x}_t | \\alpha_t \\mathbf{x}_0, \\sigma^2_t I)$\n",
        "\n",
        "Таким образом, мы можем получаться зашумленные картинки по следующей формуле: $\\mathbf{x}_t = \\alpha_t \\mathbf{x}_0 + \\sigma_t \\epsilon$, где $\\epsilon{\\sim} {N}(0, I)$ **(1)**\n",
        "\n",
        "$\\alpha_t, \\sigma_t$ задают процесс зашумления. Здесь мы будем иметь дело с *variance preserving (VP)* процессом, т. е., $\\alpha^2_t = 1 - \\sigma^2_t$.\n",
        "\n",
        "Диффузионная модель (ДМ) пытается решить обратную задачу: из шума порождать новые картинки.\n",
        "Важно, что диффузионный процесс можно описать следующим обыкновенным дифференциальным уравнением (ОДУ):\n",
        "\n",
        " $dx = \\left[ f(\\mathbf{x}, t) - \\frac{1}{2} \\nabla_{\\mathbf{x}_t} \\log p_t(\\mathbf{x}) \\right] dt$, **(2)**\n",
        "\n",
        "где $f(\\mathbf{x}, t)$ известен из заданного процесса зашумления, а $\\nabla_{\\mathbf{x}_t} \\log p_t(\\mathbf{x}_t)$ (*скор функцию*) оцениваем с помощью нейросети: $s_\\theta(\\mathbf{x}_t, t) \\approx \\nabla_{\\mathbf{x}_t} \\log p_t(\\mathbf{x}_t)$. Таким образом, имея оценку на $\\nabla_{\\mathbf{x}_t} \\log p_t(\\mathbf{x})$, мы можем решить это ОДУ, стартуя со случайного шума, и получить картинку.\n",
        "\n",
        "\n",
        "**SD1.5** использует *$\\epsilon$-параметризацию*, т.е., UNet пытается предсказать шум, который мы добавили на картинку по формуле **(1)**. Оценку скор функции можно получить, пользуясь результатом, вытекающим из формулы Твидди: $s_\\theta(\\mathbf{x}_t, t) = - \\frac{\\epsilon_\\theta(\\mathbf{x}_t, t)} { \\sigma_t}$\n",
        "\n",
        "Чтобы решить ОДУ **(2)**, нам нужно воспользоваться каким-то численным методом (солвером). В этом задании мы будем работать с не самым эффектным, но самым популярным солвером: **DDIM**, который является адаптированным методом Эйлера под диффузионный ОДУ.\n",
        "\n",
        "Для VP процесса переход с помощью DDIM с шага $t$ на $s$ можно сделать следующим образом:\n",
        "\n",
        "$\n",
        "x_s = DDIM(\\mathbf{x}_t, t, s) = \\alpha_s \\cdot \\left(\\frac{\\mathbf{x}_t - \\sigma_t \\epsilon_\\theta}{\\alpha_t} \\right) + \\sigma_s \\epsilon_\\theta\n",
        "$\n",
        "\n",
        "Этот переход можно интерпретировать так: получаем оценку на чистую картинку $\\mathbf{x}_0$ на шаге $t$, используя $\\frac{\\mathbf{x}_t - \\sigma_t \\epsilon_\\theta}{\\alpha_t}$, а потом снова зашумляем эту оценку на шаг $s$ по формуле **(1)**, но только используем не случайный шум, а шум предсказанный моделью $\\epsilon_\\theta$.\n",
        "\n",
        "*Используя DDIM для SD1.5, можем получать хорошие картинки за 50 шагов.*\n",
        "\n",
        "**SD1.5** - латентная ДМ, т.е. модель работает не в пиксельном пространстве, а в латентном пространстве **VAE**. Таким образом SD1.5 состоит из следующих компонент:\n",
        "\n",
        "1) **VAE** - переводит $3{\\times}512{\\times}512$ картинки в латенты $4{\\times}64{\\times}64$ и может декодировать их обратно в картинки.\n",
        "2) **Текстовый энкодер** - извлекает текстовые признаки из промпта. Эти признаки будут подаваться в диффузионную модель, чтобы дать модели информацию, что именно хотим сгенерировать\n",
        "3) **Диффузионная модель** - UNet, работающий на \"латентных картинках\" $4{\\times}64{\\times}64$.\n",
        "\n",
        "---\n",
        "#### Консистенси модели\n",
        "\n",
        "##### Общая идея\n",
        "\n",
        "Главная цель дистилляции диффузии - уменьшить количество шагов ДМ, при этом сохранив высокое качество картинок.\n",
        "\n",
        "**Консистенси модели (Consistency Models | CM)** - класс моделей, где мы хотим выучить \"консистенси функцию\" $f_\\theta(\\mathbf{x}_t)$ - с любой точки $\\mathbf{x}_{t}$ траектории диффузионного ОДУ **(2)** сразу предсказывать $\\mathbf{x}_{0}$ (чистые данные) за один шаг.\n",
        "Если мы идеально выучим консистенси функцию, то сможем шагать из чистого шума сразу в картинку, что супер эффективно в отличии от генерации ДМ.\n",
        "\n",
        "Отметим, что консистенси модель можно учить как независимую генеративную модель, без предобученной ДМ, и в *задании 3* вам предстоит подумать, как это можно сделать.\n",
        "\n",
        "<br>\n",
        "\n",
        "<div>\n",
        "\n",
        "<img src=\"https://i.postimg.cc/prgMVw6C/cd-idea.jpg\" width=\"600\"/>\n",
        "</div>\n",
        "\n",
        "\n",
        "**Консистенси дистилляция (Consistency Distillation | CD)** - подход, когда для обучения CM, мы используем предобученную ДМ. ДМ нам дает качественную инициализацию модели и уже обученную скор функцию, что сильно упрощает сходимость консистенси моделей.\n",
        "\n",
        "\n",
        "### Обучение CM\n",
        "\n",
        "<div>\n",
        "<img src=\"https://i.postimg.cc/2jnsnKMs/cd-training.jpg\" width=\"600\"/>\n",
        "</div>\n",
        "\n",
        "\n",
        "Главная принцип обучения консистенси моделей заключается в попытке удовлетворить *self-consistency* св-ву: выход CM на двух соседних точках траектории $\\mathbf{x}_{t}$ и $\\mathbf{x}_{t-1}$ должен совпадать по какой-то мере близости, например L2 расстояние: $\\lVert f_\\theta(\\mathbf{x}_{t-1}) - f_\\theta(\\mathbf{x}_{t}) \\rVert^2_2$.\n",
        "\n",
        "Заметим, что self-consistency св-во удовлетворить очень просто без какого-либо обучения, взяв, например $f_\\theta(\\mathbf{x}_{t}) \\equiv 0$.\n",
        "\n",
        "Поэтому, чтобы избежать вырожденных решений, нам необходимо выставить граничное условие (boundary condition), которое будет требовать, чтобы в самой левой точке траектории около 0, модель предсказывала картинку, которую получает на вход: $f_\\theta(\\mathbf{x}_{\\epsilon}) = \\mathbf{x}_{\\epsilon}$.\n",
        "\n",
        "**Практическое замечание:** Для обеих точек траектории мы применяем одну и ту же модель $f_\\theta(\\cdot)$. Но выход модели на шаге ${t-1}$ является \"таргетом\" для выхода модели на шаге $t$ и поэтому выполнение модели для шага $t-1$ выполняется в *torch.no_grad* режиме.\n",
        "\n",
        "**Как получаться две соседние точки на траектории ОДУ?**\n",
        "\n",
        "Берем случайную картинку $\\mathbf{x}_0$ из датасета.\n",
        "\n",
        "Точку $\\mathbf{x}_t$ получаем с помощью прямого процесса зашумления: $\\mathbf{x}_t = q(\\mathbf{x}_t | \\mathbf{x}_0)$\n",
        "\n",
        "Чтобы получить соседнюю точку $\\mathbf{x}_{t-1}$, нам нужно сделать шаг по траектории ОДУ, используя, например, DDIM солвер.\n",
        "\n",
        "В консистенси дистилляции, мы делаем шаг предобученной ДМ: $\\mathbf{x}_{t-1} = DDIM(\\epsilon_\\theta(\\mathbf{x}_t, t), \\mathbf{x}_t, t, t-1)$\n",
        "\n",
        "**Важно:** на практике мы можем брать не соседние шаги $t$ и $t-1$, а с некоторым интервалом, например 20 шагов.\n",
        "Размер интервала влияет на bias/variance trade-off в консистенси обучении: больше интервал между шагами - больше смещение, но меньше дисперсия, и наоборот.\n",
        "Для простоты в этом задании мы зафиксируем интервал - 20 шагов, но во многих работах размер интервала динамически меняют по ходу обучения."
      ]
    },
    {
      "cell_type": "code",
      "execution_count": 21,
      "id": "c18dffaf",
      "metadata": {
        "id": "c18dffaf",
        "tags": []
      },
      "outputs": [],
      "source": [
        "from tqdm.auto import tqdm\n",
        "\n",
        "import csv\n",
        "import os\n",
        "import torch\n",
        "from PIL import Image\n",
        "from diffusers import StableDiffusionPipeline, LCMScheduler, UNet2DConditionModel, DDIMScheduler\n",
        "\n",
        "from peft import LoraConfig, get_peft_model, get_peft_model_state_dict\n",
        "\n",
        "%matplotlib inline\n",
        "import matplotlib.pyplot as plt\n"
      ]
    },
    {
      "cell_type": "code",
      "execution_count": 22,
      "id": "669d0a3a",
      "metadata": {
        "id": "669d0a3a"
      },
      "outputs": [],
      "source": [
        "#---------------------\n",
        "# Visualization utils\n",
        "#---------------------\n",
        "\n",
        "def visualize_images(images):\n",
        "    assert len(images) == 4\n",
        "    plt.figure(figsize=(12, 3))\n",
        "    for i, image in enumerate(images):\n",
        "        plt.subplot(1, 4, i+1)\n",
        "        plt.imshow(image)\n",
        "        plt.axis('off')\n",
        "\n",
        "    plt.subplots_adjust(wspace=-0.01, hspace=-0.01)\n",
        "\n",
        "\n",
        "#--------------\n",
        "# Tensor utils\n",
        "#--------------\n",
        "\n",
        "def extract_into_tensor(a, t, x_shape):\n",
        "    b, *_ = t.shape\n",
        "    out = a.gather(-1, t)\n",
        "    return out.reshape(b, *((1,) * (len(x_shape) - 1)))\n",
        "\n",
        "#---------------\n",
        "# Dataset utils\n",
        "#---------------\n",
        "\n",
        "class COCODataset(torch.utils.data.Dataset):\n",
        "    def __init__(self, root_dir, subset_name=\"train2014_5k\", transform=None, max_cnt=None):\n",
        "        \"\"\"\n",
        "        Arguments:\n",
        "            root_dir (string): Directory with all the images.\n",
        "            transform (callable, optional): Optional transform to be applied\n",
        "                on a sample.\n",
        "        \"\"\"\n",
        "        self.root_dir = root_dir\n",
        "        self.transform = transform\n",
        "        self.extensions = (\n",
        "            \".jpg\",\n",
        "            \".jpeg\",\n",
        "            \".png\",\n",
        "            \".ppm\",\n",
        "            \".bmp\",\n",
        "            \".pgm\",\n",
        "            \".tif\",\n",
        "            \".tiff\",\n",
        "            \".webp\",\n",
        "        )\n",
        "        sample_dir = os.path.join(root_dir, subset_name)\n",
        "\n",
        "        # Collect sample paths\n",
        "        self.samples = sorted(\n",
        "            [\n",
        "                os.path.join(sample_dir, fname)\n",
        "                for fname in os.listdir(sample_dir)\n",
        "                if fname[-4:] in self.extensions\n",
        "            ],\n",
        "            key=lambda x: x.split(\"/\")[-1].split(\".\")[0],\n",
        "        )\n",
        "        self.samples = (\n",
        "            self.samples if max_cnt is None else self.samples[:max_cnt]\n",
        "        )  # restrict num samples\n",
        "\n",
        "        # Collect captions\n",
        "        self.captions = {}\n",
        "        with open(\n",
        "            os.path.join(root_dir, f\"{subset_name}.csv\"), newline=\"\\n\"\n",
        "        ) as csvfile:\n",
        "            spamreader = csv.reader(csvfile, delimiter=\",\")\n",
        "            for i, row in enumerate(spamreader):\n",
        "                if i == 0:\n",
        "                    continue\n",
        "                self.captions[row[1]] = row[2]\n",
        "\n",
        "    def __len__(self):\n",
        "        return len(self.samples)\n",
        "\n",
        "    def __getitem__(self, idx):\n",
        "        if torch.is_tensor(idx):\n",
        "            idx = idx.tolist()\n",
        "\n",
        "        sample_path = self.samples[idx]\n",
        "        sample = Image.open(sample_path).convert(\"RGB\")\n",
        "\n",
        "        if self.transform:\n",
        "            sample = self.transform(sample)\n",
        "\n",
        "        return {\n",
        "            \"image\": sample,\n",
        "            \"text\": self.captions[os.path.basename(sample_path)],\n",
        "            \"idxs\": idx, }"
      ]
    },
    {
      "cell_type": "markdown",
      "id": "62860269",
      "metadata": {
        "id": "62860269"
      },
      "source": [
        "# Модель учителя (SD1.5)"
      ]
    },
    {
      "cell_type": "markdown",
      "id": "8ce973eb",
      "metadata": {
        "id": "8ce973eb"
      },
      "source": [
        "## Задание №1\n",
        "\n",
        "Давайте для начала загрузим модель [StableDiffusion 1.5](https://huggingface.co/stable-diffusion-v1-5/stable-diffusion-v1-5) и сгенерируем ей картинки за 50 шагов.\n",
        "\n",
        "**Важно:** для экономии памяти, загружаем все компоненты модели в FP16. Не забываем положить модель на GPU."
      ]
    },
    {
      "cell_type": "code",
      "execution_count": 23,
      "id": "4e46016d",
      "metadata": {
        "id": "4e46016d",
        "tags": [],
        "outputId": "59dea553-5efe-4e19-a5e5-2a9680380224",
        "colab": {
          "base_uri": "https://localhost:8080/",
          "height": 49,
          "referenced_widgets": [
            "9e6e5db9551840acb6cdf11309fb2974",
            "b889e8cf31eb4f819161439a35f2bb7e",
            "fee34c14a2bc4e92b6783c47185cda17",
            "bdd1e792f0ae45a8a770c72a2ef963f1",
            "276bed18dd4544309e866bc457797709",
            "64a3d28731b74c35b55170593fc4a400",
            "c7f8272fd1054334947dba562fc54cfe",
            "a1839b5fc8464ee8a975f9037599ae8c",
            "cb6b386ec4ac41519ae71b3e715d308f",
            "ce1ae26c29764b2bbf3a554cf5d9ad6c",
            "2c6447f7e4a8453882759fd99c0d217f"
          ]
        }
      },
      "outputs": [
        {
          "output_type": "display_data",
          "data": {
            "text/plain": [
              "Loading pipeline components...:   0%|          | 0/7 [00:00<?, ?it/s]"
            ],
            "application/vnd.jupyter.widget-view+json": {
              "version_major": 2,
              "version_minor": 0,
              "model_id": "9e6e5db9551840acb6cdf11309fb2974"
            }
          },
          "metadata": {}
        }
      ],
      "source": [
        "pipe = StableDiffusionPipeline.from_pretrained(\"sd-legacy/stable-diffusion-v1-5\", torch_dtype=torch.float16)\n",
        "pipe = pipe.to(\"cuda\")\n",
        "\n",
        "# Проверяем, что все компоненты модели в FP16 и на cuda\n",
        "assert pipe.unet.dtype == torch.float16 and pipe.unet.device.type == 'cuda'\n",
        "assert pipe.vae.dtype == torch.float16 and pipe.vae.device.type == 'cuda'\n",
        "assert pipe.text_encoder.dtype == torch.float16 and pipe.text_encoder.device.type == 'cuda'\n",
        "\n",
        "# Заменяем дефолтный сэмплер на DDIM\n",
        "pipe.scheduler = DDIMScheduler.from_config(pipe.scheduler.config, timestep_spacing=\"trailing\")\n",
        "pipe.scheduler.timesteps = pipe.scheduler.timesteps.cuda()\n",
        "pipe.scheduler.alphas_cumprod = pipe.scheduler.alphas_cumprod.cuda()\n",
        "\n",
        "# Отдельно извлечем модель учителя, которую потом будем дистиллировать\n",
        "teacher_unet = pipe.unet"
      ]
    },
    {
      "cell_type": "markdown",
      "id": "20cb66c9",
      "metadata": {
        "id": "20cb66c9"
      },
      "source": [
        "Теперь сгенерируем картинки за 50 шагов. Вам нужно написать вызов pipe и передать в него промпт, число шагов генерации, генератор случайных чисел, гайденс скейл и указать, чтобы сгенерировалось 4 картинки на промпт."
      ]
    },
    {
      "cell_type": "code",
      "execution_count": 24,
      "id": "d5bb382b",
      "metadata": {
        "id": "d5bb382b",
        "tags": []
      },
      "outputs": [],
      "source": [
        "# prompt = \"A sad puppy with large eyes\"\n",
        "# guidance_scale = 7.5\n",
        "# generator = torch.Generator('cuda').manual_seed(1)\n",
        "\n",
        "# images = pipe([prompt], generator=generator, num_inference_steps=50, guidance_scale=guidance_scale, num_images_per_prompt=4).images\n",
        "\n",
        "# visualize_images(images)"
      ]
    },
    {
      "cell_type": "markdown",
      "id": "09c8a547",
      "metadata": {
        "id": "09c8a547"
      },
      "source": [
        "Давайте посмотрим, что выдаст модель за 4 шага.\n",
        "Все то же самое, что и выше, просто поменяем число шагов."
      ]
    },
    {
      "cell_type": "code",
      "execution_count": 25,
      "id": "06e66279",
      "metadata": {
        "id": "06e66279"
      },
      "outputs": [],
      "source": [
        "# generator = torch.Generator('cuda').manual_seed(1)\n",
        "\n",
        "# images = pipe([prompt], generator=generator, num_inference_steps=4, guidance_scale=guidance_scale, num_images_per_prompt=4).images\n",
        "\n",
        "# visualize_images(images)"
      ]
    },
    {
      "cell_type": "markdown",
      "id": "b0cb5003",
      "metadata": {
        "id": "b0cb5003"
      },
      "source": [
        "На 4 шагах картинки получаются размазанными. Давайте постараемся починить их."
      ]
    },
    {
      "cell_type": "markdown",
      "id": "82774c59",
      "metadata": {
        "id": "82774c59"
      },
      "source": [
        "##  Создаем датасет\n",
        "\n",
        "Чтобы ДЗ было легко выполнимым на colab, мы будем учить консистенси модели на небольшой обучающей выборке из 5000 пар текст-картинка из COCO датасета.\n",
        "Интересное свойство консистенси моделей - они могут сходиться до адекватного качества за несколько сотен шагов. Качество все еще будет не идеальным, но фазовый переход уже должен быть заметен.\n",
        "\n",
        "Данные можно загрузить с помощью команд в ячейке ниже. В локальной текущей директории ./ должны появиться:\n",
        "* Папка train2014_5k с 5000 картинками\n",
        "* Файл train2014_5k.csv с 5000 промптами\n",
        "\n",
        "Данные парсятся корректным образом в уже реализованном классе COCODataset."
      ]
    },
    {
      "cell_type": "code",
      "execution_count": 26,
      "id": "2431a4e8",
      "metadata": {
        "id": "2431a4e8",
        "tags": []
      },
      "outputs": [],
      "source": [
        "# !wget https://storage.yandexcloud.net/yandex-research/train2014_5k.tar.gz\n",
        "# !tar -xzf train2014_5k.tar.gz"
      ]
    },
    {
      "cell_type": "markdown",
      "id": "bc010814",
      "metadata": {
        "id": "bc010814"
      },
      "source": [
        "**Замечание:** для более быстрого дебаггинга можете взять, например, 2500 картинок и прогнать на всей выборке только в самом конце. 2500 картинок должно быть достаточно для понимания корректно ли реализованы функции.\n",
        "Совсем для первичного дебаггинга можно взять еще меньше картинок."
      ]
    },
    {
      "cell_type": "code",
      "execution_count": 27,
      "id": "e1ba81fb",
      "metadata": {
        "id": "e1ba81fb"
      },
      "outputs": [],
      "source": [
        "from torchvision import transforms\n",
        "\n",
        "transform = transforms.Compose(\n",
        "    [\n",
        "        transforms.Resize(512),\n",
        "        transforms.CenterCrop(512),\n",
        "        transforms.ToTensor(),\n",
        "        lambda x: 2 * x - 1,\n",
        "    ]\n",
        ")\n",
        "dataset = COCODataset(\".\",\n",
        "    subset_name=\"train2014_5k\",\n",
        "    transform=transform,\n",
        "    max_cnt=5000\n",
        ")\n",
        "assert len(dataset) == 5000\n",
        "\n",
        "batch_size = 8 # Рекоммендуемы размер батча на Colab\n",
        "\n",
        "train_dataloader = torch.utils.data.DataLoader(\n",
        "    dataset=dataset, shuffle=True, batch_size=batch_size, drop_last=True\n",
        ")"
      ]
    },
    {
      "cell_type": "code",
      "execution_count": 28,
      "id": "cad222c2",
      "metadata": {
        "id": "cad222c2"
      },
      "outputs": [],
      "source": [
        "@torch.no_grad()\n",
        "def prepare_batch(batch, pipe):\n",
        "    \"\"\"\n",
        "    Предобработка батча картинок и текстовых промптов.\n",
        "    Маппим картинки в латентное пространство VAE.\n",
        "    Извлекаем эмбеды промптов с помощью текстового энкодера.\n",
        "\n",
        "    Params:\n",
        "\n",
        "    Return:\n",
        "        latents: torch.Tensor([B, 4, 64, 64], dtype=torch.float16)\n",
        "        prompt_embeds: torch.Tensor([B, 77, D], dtype=torch.float16)\n",
        "    \"\"\"\n",
        "\n",
        "    # Токенизируем промпты\n",
        "    text_inputs = pipe.tokenizer(\n",
        "        batch['text'],\n",
        "        padding=\"max_length\",\n",
        "        max_length=pipe.tokenizer.model_max_length,\n",
        "        truncation=True,\n",
        "        return_tensors=\"pt\",\n",
        "    )\n",
        "\n",
        "    # Извлекаем эмбеды промптов с помощью текстового энкодера\n",
        "    prompt_embeds = pipe.text_encoder(text_inputs.input_ids.cuda())[0]\n",
        "\n",
        "    # Переводим картинки в латентное пространство VAE\n",
        "    image = batch['image'].to(\"cuda\", dtype=torch.float16)\n",
        "    latents = pipe.vae.encode(image).latent_dist.sample()\n",
        "    latents = latents * pipe.vae.config.scaling_factor\n",
        "    return latents, prompt_embeds"
      ]
    },
    {
      "cell_type": "markdown",
      "id": "062a00a9",
      "metadata": {
        "id": "062a00a9"
      },
      "source": [
        "### Подготовка моделей и оптимизатора\n",
        "\n",
        "Для начала создаем обучаемую модель: UNet инициализируемый весами SD1.5.\n",
        "Вам нужно воспользоваться классом UNet2DConditionModel и загрузить отдельно только UNet модель из SD1.5.\n",
        "\n",
        "Отметим, что эта модель у нас будет храниться в полной точности FP32, потому что обучение параметров в FP16 может приводить к нестабильностям и низкому качеству."
      ]
    },
    {
      "cell_type": "code",
      "execution_count": 29,
      "id": "e2e73f1a",
      "metadata": {
        "id": "e2e73f1a",
        "tags": []
      },
      "outputs": [],
      "source": [
        "unet = UNet2DConditionModel.from_pretrained(\"sd-legacy/stable-diffusion-v1-5\", subfolder=\"unet\")\n",
        "unet = unet.to(\"cuda\")\n",
        "unet.train()\n",
        "\n",
        "assert unet.dtype == torch.float32\n",
        "assert unet.training"
      ]
    },
    {
      "cell_type": "markdown",
      "id": "cd4f56cb",
      "metadata": {
        "id": "cd4f56cb"
      },
      "source": [
        "Для экономии памяти во время обучения будем учить не параметры самой модели, а добавим в нее обучаемые LoRA адаптеры с малым числом параметров.\n",
        "\n",
        "LoRA представляет собой маленькую добавку к весам модели, где на одну матрицу весов $W \\in \\mathbb{R}^{m{\\times}n} $ обучаются две низкоранговые матрицы $W_A \\in \\mathbb{R}^{k{\\times}n}$ и $W_B \\in \\mathbb{R}^{k{\\times}m}$, где $k$ - ранг матрицы сильно меньше $m$ и $n$.\n",
        "\n",
        "Тем самым, новая обученная матрица весов может быть представлена как $\\hat{W} = W + \\Delta W = W + W^T_B W_A$.  \n",
        "Во время инференса $\\Delta W$ можно вмержить в $W$ и получить итоговую модель.\n",
        "Также частая практика оставлять адаптеры как есть, чтобы была возможность для одной базовой модели учить несколько адаптеров под разные задачи и переключаться между ними по необходимости.\n",
        "\n",
        "Если не мержить адаптеры, то вычисления для линейного слоя происходят как на картинке ниже.\n",
        "\n",
        "<img src=https://miro.medium.com/v2/resize:fit:680/format:webp/0*2meitaJ7pdUusbb5.png width=300>"
      ]
    },
    {
      "cell_type": "code",
      "execution_count": 30,
      "id": "020bb504",
      "metadata": {
        "id": "020bb504"
      },
      "outputs": [],
      "source": [
        "# Указываем к каким слоям модели мы будет добавлять адаптеры.\n",
        "lora_modules = [\n",
        "    \"to_q\", \"to_k\", \"to_v\", \"to_out.0\", \"proj_in\", \"proj_out\",\n",
        "    \"ff.net.0.proj\", \"ff.net.2\", \"conv1\", \"conv2\", \"conv_shortcut\",\n",
        "    \"downsamplers.0.conv\", \"upsamplers.0.conv\", \"time_emb_proj\"\n",
        "]\n",
        "lora_config = LoraConfig(\n",
        "    r=64, # задает ранг у матриц A и B в LoRA.\n",
        "    target_modules=lora_modules\n",
        ")\n",
        "\n",
        "# Создаем обертку исходной UNet модели с LoRA адаптерами, используя библиотеку PEFT\n",
        "cm_unet = get_peft_model(unet, lora_config, adapter_name=\"ct\")\n",
        "\n",
        "# Включаем gradient checkpointing - важная техника для экономии памяти во время обучения\n",
        "cm_unet.enable_gradient_checkpointing()\n",
        "\n",
        "# Создаем оптимизатор\n",
        "optimizer = torch.optim.AdamW(cm_unet.parameters(), lr=1e-4)\n",
        "\n",
        "# Задаем лосс функцию для CM обжектива. В базовом варианте разумно взять L2\n",
        "# По умолчанию, она уже выдает усредненное значение по всем размерностям\n",
        "mse_loss = torch.nn.functional.mse_loss"
      ]
    },
    {
      "cell_type": "markdown",
      "id": "52bf9615",
      "metadata": {
        "id": "52bf9615"
      },
      "source": [
        "## Задание №2 (0.5 балла, сдается в контесте)\n",
        "\n",
        "####  Реализация шага DDIM\n",
        "\n",
        "Шаг с помощью DDIM с $\\mathbf{x}_t$ на $\\mathbf{x}_s$ можно сделать следующим образом:\n",
        "\n",
        "$\n",
        "\\mathbf{x}_s = DDIM(\\epsilon_\\theta, \\mathbf{x}_t, t, s) = \\alpha_s \\cdot \\left(\\frac{\\mathbf{x}_t - \\sigma_t \\epsilon_\\theta}{\\alpha_t} \\right) + \\sigma_s \\epsilon_\\theta\n",
        "$\n",
        "\n",
        "Вам нужно реализовать эту формулу в уже готовом шаблоне ниже.\n",
        "Чтобы корректно выполнить задание, вам нужно задать $\\alpha_t$ и $\\sigma_t$ имея *DDIMScheduler*.\n",
        "**Обратите внимание на аттрибут *scheduler.alphas_cumprod***, который задает $\\bar\\alpha_{t} = \\prod^t_{i=1} (1-\\beta_i)$ в классической DDPM формулировке: [Denoising Diffusion Probabilistic Models](https://arxiv.org/pdf/2006.11239)."
      ]
    },
    {
      "cell_type": "code",
      "execution_count": 31,
      "id": "d743504b",
      "metadata": {
        "id": "d743504b"
      },
      "outputs": [],
      "source": [
        "def ddim_solver_step(model_output, x_t, t, s, scheduler):\n",
        "    \"\"\"\n",
        "    Шаг DDIM солвера для VP процесса зашумления и eps-prediction модели\n",
        "    params:\n",
        "        model_output: torch.Tensor[B, 4, 64, 64] - предсказание модели - шум eps\n",
        "        x_t: torch.Tensor[B, 4, 64, 64] - сэмплы на шаге t\n",
        "        t: torch.Tensor[B] - номер текущего шага\n",
        "        s: torch.Tensor[B] - номер следующего шага\n",
        "        scheduler: DDIMScheduler - расписание диффузионного процесса, чтобы получить alpha и sigma\n",
        "    \"\"\"\n",
        "    alphas = torch.sqrt(scheduler.alphas_cumprod)\n",
        "    sigmas = torch.sqrt(1- alphas)\n",
        "\n",
        "    sigmas_s = extract_into_tensor(sigmas, s, x_t.shape)\n",
        "    alphas_s = extract_into_tensor(alphas, s, x_t.shape)\n",
        "\n",
        "    sigmas_t = extract_into_tensor(sigmas, t, x_t.shape)\n",
        "    alphas_t = extract_into_tensor(alphas, t, x_t.shape)\n",
        "\n",
        "    # Выставляем крайние значения alpha и sigma, чтобы выполнялись граничные условия\n",
        "    alphas_s[s == 0] = 1.0\n",
        "    sigmas_s[s == 0] = 0.0\n",
        "\n",
        "    alphas_t[t == 0] = 1.0\n",
        "    sigmas_t[t == 0] = 0.0\n",
        "\n",
        "    x_0 = (x_t - sigmas_t*model_output) / alphas_t # x0 оценка на шаге t\n",
        "    x_s = alphas_s*x_0+sigmas_s*model_output # Переход на шаг s\n",
        "    return x_s"
      ]
    },
    {
      "cell_type": "markdown",
      "id": "c4013fc3",
      "metadata": {
        "id": "c4013fc3"
      },
      "source": [
        "####  Реализация процесса зашумления (q sample)\n",
        "\n",
        "Аналогично, нам нужен процесс зашумления $q(\\mathbf{x}_t | \\mathbf{x}_0)= {N}(\\mathbf{x}_t | \\alpha_t \\mathbf{x}_0, \\sigma^2_t I)$\n",
        "\n",
        "$\\mathbf{x}_t = \\alpha_t \\mathbf{x}_0 + \\sigma_t \\epsilon$, где $\\epsilon{\\sim} {N}(0, I)$"
      ]
    },
    {
      "cell_type": "code",
      "execution_count": 32,
      "id": "9fdb169c",
      "metadata": {
        "id": "9fdb169c"
      },
      "outputs": [],
      "source": [
        "def q_sample(x, t, scheduler, noise=None):\n",
        "    alphas = torch.sqrt(scheduler.alphas_cumprod)\n",
        "    sigmas = torch.sqrt(1- alphas)\n",
        "\n",
        "    if noise is None:\n",
        "        noise = torch.randn_like(x)\n",
        "\n",
        "    sigmas_t = extract_into_tensor(sigmas, t, x.shape)\n",
        "    alphas_t = extract_into_tensor(alphas, t, x.shape)\n",
        "\n",
        "    x_t = alphas_t*x+sigmas_t*noise\n",
        "    return x_t"
      ]
    },
    {
      "cell_type": "markdown",
      "id": "21c5893c",
      "metadata": {
        "id": "21c5893c"
      },
      "source": [
        "# Consistency Training\n",
        "\n",
        "Обучение консистенси моделей без учителя называется Consistency Training (CT).\n",
        "В таком случае CM можно рассматривать как отдельный вид генеративных моделей.\n",
        "Давайте начнем именно с этого подхода и обучим нашу первую консистенси модель на базе SD1.5."
      ]
    },
    {
      "cell_type": "markdown",
      "id": "6d5743b1",
      "metadata": {
        "id": "6d5743b1"
      },
      "source": [
        "## Задание №3\n",
        "\n",
        "#### Задание №3.1 (0.5 балла, сдается в контесте)\n",
        "\n",
        "В консиcтенси дистилляции модель учителя используется для получения второй точки на траектории ODE.\n",
        "Можем ли мы попробовать оценить соседнюю точку аналитически?\n",
        "\n",
        "Вам предлагается вывести это самим, используя формулу DDIM шага выше и вспомнив, как мы оцениваем скор функции в denoising score matching-e:\n",
        "\n",
        "$\\epsilon_\\theta(x_t, t) = - \\sigma_t s_\\theta(x_t, t)$\n",
        "\n",
        "$s_\\theta(x_t, t) \\approx \\nabla_{x_t} \\log q(x_t) = \\mathop{\\mathbb{E}}_{\\mathbf{x}\\sim p_{data}}\\left [ \\nabla_{\\mathbf{x}_t} \\log q(\\mathbf{x}_t | \\mathbf{x}) \\vert \\mathbf{x}_t \\right ] \\approx \\nabla_{\\mathbf{x}_t} \\log q(\\mathbf{x}_t \\vert \\mathbf{x})$\n",
        "\n",
        "---\n",
        "\n",
        "< YOUR DERIVATION HERE >\n",
        "    \n",
        "$x_s = ?$\n",
        "\n",
        "---\n",
        "    \n",
        "Если возникнут трудность, можно обратиться к оригинальной [статье](https://arxiv.org/pdf/2303.01469).\n"
      ]
    },
    {
      "cell_type": "markdown",
      "id": "6a321f6b",
      "metadata": {
        "id": "6a321f6b"
      },
      "source": [
        "Теперь реализуем то, что у вас получилось в функции ниже."
      ]
    },
    {
      "cell_type": "code",
      "execution_count": 33,
      "id": "ff58cba2",
      "metadata": {
        "id": "ff58cba2"
      },
      "outputs": [],
      "source": [
        "def get_xs_from_xt_naive(\n",
        "    x_0, x_t, t, s, # Не все эти аргументы могут быть вам нужны\n",
        "    scheduler,\n",
        "    noise=None,\n",
        "    **kwargs\n",
        "):\n",
        "    \"\"\"\n",
        "    Получение точки x_s в CT режиме, т.е., аналитически.\n",
        "    \"\"\"\n",
        "    # alphas = torch.sqrt(scheduler.alphas_cumprod)\n",
        "    # sigmas = torch.sqrt(1- alphas)\n",
        "\n",
        "    # if noise is None:\n",
        "    #     noise = torch.randn_like(x_0)\n",
        "\n",
        "    # if x_t is None:\n",
        "    #     x_t = q_sample(x_0, t, scheduler, noise=noise)\n",
        "\n",
        "    # sigmas_s = extract_into_tensor(sigmas, s, x_t.shape)\n",
        "    # alphas_s = extract_into_tensor(alphas, s, x_t.shape)\n",
        "\n",
        "    # sigmas_t = extract_into_tensor(sigmas, t, x_t.shape)\n",
        "    # alphas_t = extract_into_tensor(alphas, t, x_t.shape)\n",
        "\n",
        "    # # Выставляем крайние значения alpha и sigma, чтобы выполнялись граничные условия\n",
        "    # alphas_s[s == 0] = 1.0\n",
        "    # sigmas_s[s == 0] = 0.0\n",
        "\n",
        "    # alphas_t[t == 0] = 1.0\n",
        "    # sigmas_t[t == 0] = 0.0\n",
        "\n",
        "\n",
        "    # s_theta = (x_0-x_t)/(t*t)[..., None, None, None]\n",
        "\n",
        "    # x_0 = (x_t - sigmas_t*model_output) / alphas_t # x0 оценка на шаге t\n",
        "    # x_s = alphas_s*x_0+sigmas_s*model_output # Переход на шаг s\n",
        "    alphas = torch.sqrt(scheduler.alphas_cumprod)\n",
        "    sigmas = torch.sqrt(1 - alphas)\n",
        "\n",
        "    if noise is None:\n",
        "        noise = torch.randn_like(x_0)\n",
        "\n",
        "    if x_t is None:\n",
        "        x_t = q_sample(x_0, t, scheduler, noise=noise)\n",
        "\n",
        "    sigmas_t = extract_into_tensor(sigmas, t, x_t.shape)\n",
        "    alphas_t = extract_into_tensor(alphas, t, x_t.shape)\n",
        "    sigmas_s = extract_into_tensor(sigmas, s, x_t.shape)\n",
        "    alphas_s = extract_into_tensor(alphas, s, x_t.shape)\n",
        "\n",
        "    alphas_s[s == 0] = 1.0\n",
        "    sigmas_s[s == 0] = 0.0\n",
        "    alphas_t[t == 0] = 1.0\n",
        "    sigmas_t[t == 0] = 0.0\n",
        "    x_0 = (x_t - sigmas_t * noise) / alphas_t\n",
        "    x_s = alphas_s * x_0 + sigmas_s * noise\n",
        "    return x_s"
      ]
    },
    {
      "cell_type": "markdown",
      "id": "a967d0f5",
      "metadata": {
        "id": "a967d0f5"
      },
      "source": [
        "#### Задание №3.2\n",
        "\n",
        "Ниже предстален шаблон функции, которая считает лосс для консистенси моделей.\n",
        "Вам нужно правильно заполнить пропуски, чтобы получилась корректная функция."
      ]
    },
    {
      "cell_type": "code",
      "execution_count": 34,
      "id": "675acdd5",
      "metadata": {
        "id": "675acdd5"
      },
      "outputs": [],
      "source": [
        "def cm_loss_template(\n",
        "    latents, prompt_embeds, # батч латентов и текстовых эмбедов\n",
        "    unet, scheduler,\n",
        "\n",
        "    # Функции, которые будем постепенно менять из задания к заданию\n",
        "    loss_fn: callable,\n",
        "    get_boundary_timesteps: callable,\n",
        "    get_xs_from_xt: callable,\n",
        "\n",
        "    num_timesteps=1000,\n",
        "    step_size=20, # Указываем с каким интервалом берем шаги s и t.\n",
        "):\n",
        "    # Сэмплируем случайные шаги t для каждого элемента батча t ~ U[step_size-1, 999]\n",
        "    assert num_timesteps == 1000\n",
        "    num_intervals = num_timesteps // step_size\n",
        "\n",
        "    index = torch.randint(1, num_intervals, (len(latents),), device=latents.device).long() # [1, num_intervals]\n",
        "    t = step_size * index - 1\n",
        "    s = torch.clamp(t - step_size, min=0)\n",
        "    boundary_timesteps = get_boundary_timesteps(\n",
        "        s, num_timesteps=num_timesteps\n",
        "    )\n",
        "\n",
        "    # Сэмплируем x_t\n",
        "    noise = torch.randn_like(latents)\n",
        "    x_t = q_sample(latents, t, scheduler, noise)\n",
        "    # with <YOUR CODE HERE>: # для реализации mixed-precision обучения в задании №4\n",
        "    with torch.amp.autocast(\"cuda\", torch.float16):\n",
        "        noise_pred = unet(x_t.float(), t,\n",
        "            encoder_hidden_states=prompt_embeds.float(),\n",
        "        ).sample\n",
        "\n",
        "    # Получаем оценку в граничной точке для x_t\n",
        "    boundary_pred = ddim_solver_step(noise_pred, x_t, t, boundary_timesteps, scheduler)\n",
        "\n",
        "    # Получаем сэмпл x_s из x_t\n",
        "    x_s = get_xs_from_xt(\n",
        "        latents, x_t, t, s,\n",
        "        scheduler,\n",
        "        prompt_embeds=prompt_embeds,\n",
        "        noise=noise,\n",
        "    )\n",
        "\n",
        "    # Предсказание \"таргет моделью\"\n",
        "    with torch.no_grad(), torch.amp.autocast(\"cuda\", torch.float16):\n",
        "        target_noise_pred = unet(x_s, s, encoder_hidden_states=prompt_embeds).sample\n",
        "\n",
        "    # Получаем оценку в граничной точке для x_s\n",
        "    boundary_target = ddim_solver_step(target_noise_pred, x_s, s, boundary_timesteps, scheduler)\n",
        "    loss = loss_fn(boundary_pred, boundary_target)\n",
        "    return loss"
      ]
    },
    {
      "cell_type": "code",
      "execution_count": 35,
      "id": "63c0c60d",
      "metadata": {
        "id": "63c0c60d"
      },
      "outputs": [],
      "source": [
        "import functools\n",
        "def get_zero_boundary_timesteps(t, **kwargs):\n",
        "    \"\"\"\n",
        "    Определяем шаги где будут срабатывать граничные условия.\n",
        "    Для классических СM это t=0.\n",
        "    \"\"\"\n",
        "    return torch.zeros_like(t)\n",
        "\n",
        "\n",
        "ct_loss = functools.partial(\n",
        "    cm_loss_template,\n",
        "\n",
        "    loss_fn=mse_loss,\n",
        "    get_boundary_timesteps=get_zero_boundary_timesteps,\n",
        "    get_xs_from_xt=get_xs_from_xt_naive\n",
        ")\n",
        "assert cm_unet.active_adapter == 'ct'"
      ]
    },
    {
      "cell_type": "markdown",
      "id": "5c526cc4",
      "metadata": {
        "id": "5c526cc4"
      },
      "source": [
        "## Задание №4\n",
        "\n",
        "### Эффективное обучение\n",
        "Данное задание рассчитано на успешное выполнение на colab с бесплатной Tesla T4 c 15GB VRAM.\n",
        "Однако учить даже относительно небольшие T2I модели масштаба SD1.5 уже на коллабе в лоб проблематично.\n",
        "\n",
        "Для этого нам нужно применить ряд инженерных техник, чтобы уместиться в данный бюджет и учиться за разумное время.\n",
        "\n",
        "**Список техник**\n",
        "\n",
        "1) Включить gradient checkpointing для обучемой модели\n",
        "2) Добавить LoRA (Low Rank Adapters) адаптеры, чтобы учить не все веса, а только 10% добавочных весов\n",
        "3) Использовать gradient accumulation, чтобы делать итерацию обучения по бОльшему батчу, чем влезает по памяти\n",
        "4) Добавить mixed precision FP16/FP32 обучение модели для скорости. Обычно еще и память экономится, но в случае LoRA обучения + gradient checkpointing на память сильно влиять не должно, но зато станет быстрее.\n",
        "5) Мульти-GPU обучение - распределение вычислений по нескольким GPU.  \n",
        "\n",
        "1-2) Мы уже применили за вас выше\n",
        "\n",
        "3-4) Предстоит реализовать вам самим в соотвествующей секции ниже\n",
        "\n",
        "5 ) Недоступно, так как работаем на одной карточке"
      ]
    },
    {
      "cell_type": "markdown",
      "id": "81dbf465",
      "metadata": {
        "id": "81dbf465"
      },
      "source": [
        "### Обучающий цикл\n",
        "\n",
        "Вам дан код обучения модель в полной точности (FP32) c батчом 8.\n",
        "К сожалению, на Tesla T4 мы не влезем по памяти.\n",
        "Поэтому в ячейке ниже вам нужно модифицировать цикл, чтобы он работал в mixed precision FP16 и добавить gradient accumulation.\n",
        "\n",
        "Про реализацию mixed-precision в pytorch можно перейти по ссылке: [Mixed-precision обучение](https://pytorch.org/docs/stable/notes/amp_examples.html#typical-mixed-precision-training)\n",
        "\n",
        "**Обратите внимание**: вам еще нужно добавить одну строчку кода в *cm_loss_template* в соответствующем плейсхолдере.\n",
        "\n",
        "**Замечание:** В начале обучения значения лосса должны быть в окрестности 0.0007-0.001. Ничего страшного, что лосс не падает, для CM это нормально. В конце обучения лосс может доходить до 0.005-0.01"
      ]
    },
    {
      "cell_type": "code",
      "execution_count": 36,
      "id": "QoidXNBgZgkY",
      "metadata": {
        "id": "QoidXNBgZgkY"
      },
      "outputs": [],
      "source": [
        "def train_loop(model, pipe, train_dataloader, optimizer, loss_fn, num_grad_accum=1):\n",
        "    #torch.cuda.empty_cache()\n",
        "\n",
        "    for i, batch in enumerate(tqdm(train_dataloader)):\n",
        "\n",
        "        if (i + 1) % num_grad_accum == 0:\n",
        "            optimizer.zero_grad(set_to_none=True)\n",
        "\n",
        "        latents, prompt_embeds = prepare_batch(batch, pipe)\n",
        "        with torch.amp.autocast(device_type='cuda', dtype=torch.float16, enabled=True):\n",
        "            loss = loss_fn(latents, prompt_embeds, model, pipe.scheduler)\n",
        "            loss = loss / num_grad_accum\n",
        "        # Обновляем параметры\n",
        "        if (i + 1) % num_grad_accum == 0:\n",
        "            loss.backward()\n",
        "            optimizer.step()\n",
        "\n",
        "        print(f\"Loss: {loss.detach().item()}\")"
      ]
    },
    {
      "cell_type": "code",
      "source": [
        "# from numba import cuda\n",
        "# device = cuda.get_current_device()\n",
        "# device.reset()\n",
        "# torch.cuda.empty_cache()"
      ],
      "metadata": {
        "id": "XkbNoru5XiYE"
      },
      "id": "XkbNoru5XiYE",
      "execution_count": 37,
      "outputs": []
    },
    {
      "cell_type": "code",
      "execution_count": 38,
      "id": "79a5f675",
      "metadata": {
        "id": "79a5f675",
        "outputId": "1e7e14c3-d1f5-4315-ab56-feb6caf810c5",
        "colab": {
          "base_uri": "https://localhost:8080/",
          "height": 1000,
          "referenced_widgets": [
            "e97445ae4577494d85bb924e58448b54",
            "bb773997f9cd43b9bea87393d8ec6354",
            "7c23f2433a754325b3705ea7f5ece5ac",
            "a6b4eb712cd14383bd71cb97cf47233b",
            "ef390eb1731a4631bb7b04c2569c0e37",
            "2e718c5e7886410cb9e4f902d9566d50",
            "2130f6b6fcb0417aa98f01cb49518d88",
            "4a1e7179c9154e6ab304825b9b0a6c62",
            "25cfe8f959444a09b91ff941290e9660",
            "35336c1418f84b1c9a1d83583189bf29",
            "127f920fbe3c4f14b92d88bd1650dd05"
          ]
        }
      },
      "outputs": [
        {
          "output_type": "display_data",
          "data": {
            "text/plain": [
              "  0%|          | 0/312 [00:00<?, ?it/s]"
            ],
            "application/vnd.jupyter.widget-view+json": {
              "version_major": 2,
              "version_minor": 0,
              "model_id": "e97445ae4577494d85bb924e58448b54"
            }
          },
          "metadata": {}
        },
        {
          "output_type": "stream",
          "name": "stdout",
          "text": [
            "Loss: 0.0005173434037715197\n",
            "Loss: 0.000493439903948456\n",
            "Loss: 0.00032198906410485506\n",
            "Loss: 0.0003311929467599839\n",
            "Loss: 0.0005786264082416892\n",
            "Loss: 0.00041881288052536547\n",
            "Loss: 0.000401469471398741\n",
            "Loss: 0.0004644417203962803\n",
            "Loss: 0.0006876590196043253\n",
            "Loss: 0.0003684546099975705\n",
            "Loss: 0.0004892160650342703\n",
            "Loss: 0.0007405576179735363\n",
            "Loss: 0.0003047094214707613\n",
            "Loss: 0.0007746954215690494\n",
            "Loss: 0.0004356674908194691\n",
            "Loss: 0.00033796997740864754\n",
            "Loss: 0.0003560385084711015\n",
            "Loss: 0.00035845604725182056\n",
            "Loss: 0.0004081051447428763\n",
            "Loss: 0.00035542191471904516\n",
            "Loss: 0.00033586611971259117\n",
            "Loss: 0.0009502787725068629\n",
            "Loss: 0.0005494887009263039\n",
            "Loss: 0.0007203202694654465\n",
            "Loss: 0.0004583139962051064\n",
            "Loss: 0.0004365631612017751\n",
            "Loss: 0.0007166537106968462\n",
            "Loss: 0.0008265062351711094\n",
            "Loss: 0.00039973194361664355\n",
            "Loss: 0.0006772029446437955\n",
            "Loss: 0.00038407224928960204\n",
            "Loss: 0.0004052532895002514\n",
            "Loss: 0.0007564660627394915\n",
            "Loss: 0.00030026945751160383\n",
            "Loss: 0.000543129863217473\n",
            "Loss: 0.0004542976967059076\n",
            "Loss: 0.0003795160446316004\n",
            "Loss: 0.0004035740566905588\n",
            "Loss: 0.0006553048733621836\n",
            "Loss: 0.0009515503188595176\n",
            "Loss: 0.0005653807893395424\n",
            "Loss: 0.0010518670314922929\n",
            "Loss: 0.0010331406956538558\n",
            "Loss: 0.0008660853491164744\n",
            "Loss: 0.00042409059824422\n",
            "Loss: 0.0008454170310869813\n",
            "Loss: 0.00023062847321853042\n",
            "Loss: 0.00029604509472846985\n",
            "Loss: 0.0005819625221192837\n",
            "Loss: 0.0005890373140573502\n",
            "Loss: 0.0007187352166511118\n",
            "Loss: 0.0011008367873728275\n",
            "Loss: 0.0005360077484510839\n",
            "Loss: 0.0003642734372988343\n",
            "Loss: 0.0003546541556715965\n",
            "Loss: 0.000508307886775583\n",
            "Loss: 0.00042262623901478946\n",
            "Loss: 0.0007730264915153384\n",
            "Loss: 0.0006092406110838056\n",
            "Loss: 0.00036243110662326217\n",
            "Loss: 0.00037236663047224283\n",
            "Loss: 0.00046429119538515806\n",
            "Loss: 0.0009172353893518448\n",
            "Loss: 0.0006920203450135887\n",
            "Loss: 0.00044885766692459583\n",
            "Loss: 0.0007997852517291903\n",
            "Loss: 0.0006181070348247886\n",
            "Loss: 0.0006955389981158078\n",
            "Loss: 0.0008187951752915978\n",
            "Loss: 0.00043952782289125025\n",
            "Loss: 0.0012428173795342445\n",
            "Loss: 0.00037754769437015057\n",
            "Loss: 0.00035210122587159276\n",
            "Loss: 0.0007736885454505682\n",
            "Loss: 0.00044272129889577627\n",
            "Loss: 0.00038579327519983053\n",
            "Loss: 0.000785778509452939\n",
            "Loss: 0.00044478269410319626\n",
            "Loss: 0.0005494202487170696\n",
            "Loss: 0.00036150316009297967\n",
            "Loss: 0.0004906512331217527\n",
            "Loss: 0.000554283382371068\n",
            "Loss: 0.000795033760368824\n",
            "Loss: 0.0006622888031415641\n",
            "Loss: 0.0007470420096069574\n",
            "Loss: 0.0003409819910302758\n",
            "Loss: 0.0005544606829062104\n",
            "Loss: 0.00040700839599594474\n",
            "Loss: 0.0003325437428429723\n",
            "Loss: 0.0008128909976221621\n",
            "Loss: 0.0002754435990937054\n",
            "Loss: 0.0009285160340368748\n",
            "Loss: 0.0005384354735724628\n",
            "Loss: 0.00031401909654960036\n",
            "Loss: 0.0006127253291197121\n",
            "Loss: 0.0003636724431999028\n",
            "Loss: 0.00045195280108600855\n",
            "Loss: 0.00034685106948018074\n",
            "Loss: 0.0008634633268229663\n",
            "Loss: 0.0004816432483494282\n",
            "Loss: 0.0003812300565186888\n",
            "Loss: 0.0008390801958739758\n",
            "Loss: 0.0007258548866957426\n",
            "Loss: 0.0014294188003987074\n",
            "Loss: 0.00042725022649392486\n",
            "Loss: 0.0005241869366727769\n",
            "Loss: 0.0005492754280567169\n",
            "Loss: 0.000623976462520659\n",
            "Loss: 0.0004016229650005698\n",
            "Loss: 0.001195243326947093\n",
            "Loss: 0.000359924859367311\n",
            "Loss: 0.00027190434047952294\n",
            "Loss: 0.0002942369319498539\n",
            "Loss: 0.0003154542646370828\n",
            "Loss: 0.00036359066143631935\n",
            "Loss: 0.0007830261602066457\n",
            "Loss: 0.0006932051037438214\n",
            "Loss: 0.0005952358478680253\n",
            "Loss: 0.00030023709405213594\n",
            "Loss: 0.0004343011823948473\n",
            "Loss: 0.000479190144687891\n",
            "Loss: 0.00036158045986667275\n",
            "Loss: 0.0006758749950677156\n",
            "Loss: 0.0005469090538099408\n",
            "Loss: 0.0012858860427513719\n",
            "Loss: 0.00043184583773836493\n",
            "Loss: 0.0006587021052837372\n",
            "Loss: 0.000514327606651932\n"
          ]
        },
        {
          "output_type": "error",
          "ename": "KeyboardInterrupt",
          "evalue": "",
          "traceback": [
            "\u001b[0;31m---------------------------------------------------------------------------\u001b[0m",
            "\u001b[0;31mKeyboardInterrupt\u001b[0m                         Traceback (most recent call last)",
            "\u001b[0;32m<ipython-input-38-6c46a21f3a94>\u001b[0m in \u001b[0;36m<cell line: 3>\u001b[0;34m()\u001b[0m\n\u001b[1;32m      1\u001b[0m \u001b[0mnum_grad_accum\u001b[0m \u001b[0;34m=\u001b[0m \u001b[0;36m2\u001b[0m \u001b[0;31m# обновляем параметры каждые 2 шага\u001b[0m\u001b[0;34m\u001b[0m\u001b[0;34m\u001b[0m\u001b[0m\n\u001b[1;32m      2\u001b[0m \u001b[0;34m\u001b[0m\u001b[0m\n\u001b[0;32m----> 3\u001b[0;31m \u001b[0mtrain_loop\u001b[0m\u001b[0;34m(\u001b[0m\u001b[0mcm_unet\u001b[0m\u001b[0;34m,\u001b[0m \u001b[0mpipe\u001b[0m\u001b[0;34m,\u001b[0m \u001b[0mtrain_dataloader\u001b[0m\u001b[0;34m,\u001b[0m \u001b[0moptimizer\u001b[0m\u001b[0;34m,\u001b[0m \u001b[0mct_loss\u001b[0m\u001b[0;34m,\u001b[0m \u001b[0mnum_grad_accum\u001b[0m\u001b[0;34m)\u001b[0m\u001b[0;34m\u001b[0m\u001b[0;34m\u001b[0m\u001b[0m\n\u001b[0m",
            "\u001b[0;32m<ipython-input-36-3f439609c51f>\u001b[0m in \u001b[0;36mtrain_loop\u001b[0;34m(model, pipe, train_dataloader, optimizer, loss_fn, num_grad_accum)\u001b[0m\n\u001b[1;32m      9\u001b[0m         \u001b[0mlatents\u001b[0m\u001b[0;34m,\u001b[0m \u001b[0mprompt_embeds\u001b[0m \u001b[0;34m=\u001b[0m \u001b[0mprepare_batch\u001b[0m\u001b[0;34m(\u001b[0m\u001b[0mbatch\u001b[0m\u001b[0;34m,\u001b[0m \u001b[0mpipe\u001b[0m\u001b[0;34m)\u001b[0m\u001b[0;34m\u001b[0m\u001b[0;34m\u001b[0m\u001b[0m\n\u001b[1;32m     10\u001b[0m         \u001b[0;32mwith\u001b[0m \u001b[0mtorch\u001b[0m\u001b[0;34m.\u001b[0m\u001b[0mamp\u001b[0m\u001b[0;34m.\u001b[0m\u001b[0mautocast\u001b[0m\u001b[0;34m(\u001b[0m\u001b[0mdevice_type\u001b[0m\u001b[0;34m=\u001b[0m\u001b[0;34m'cuda'\u001b[0m\u001b[0;34m,\u001b[0m \u001b[0mdtype\u001b[0m\u001b[0;34m=\u001b[0m\u001b[0mtorch\u001b[0m\u001b[0;34m.\u001b[0m\u001b[0mfloat16\u001b[0m\u001b[0;34m,\u001b[0m \u001b[0menabled\u001b[0m\u001b[0;34m=\u001b[0m\u001b[0;32mTrue\u001b[0m\u001b[0;34m)\u001b[0m\u001b[0;34m:\u001b[0m\u001b[0;34m\u001b[0m\u001b[0;34m\u001b[0m\u001b[0m\n\u001b[0;32m---> 11\u001b[0;31m             \u001b[0mloss\u001b[0m \u001b[0;34m=\u001b[0m \u001b[0mloss_fn\u001b[0m\u001b[0;34m(\u001b[0m\u001b[0mlatents\u001b[0m\u001b[0;34m,\u001b[0m \u001b[0mprompt_embeds\u001b[0m\u001b[0;34m,\u001b[0m \u001b[0mmodel\u001b[0m\u001b[0;34m,\u001b[0m \u001b[0mpipe\u001b[0m\u001b[0;34m.\u001b[0m\u001b[0mscheduler\u001b[0m\u001b[0;34m)\u001b[0m\u001b[0;34m\u001b[0m\u001b[0;34m\u001b[0m\u001b[0m\n\u001b[0m\u001b[1;32m     12\u001b[0m             \u001b[0mloss\u001b[0m \u001b[0;34m=\u001b[0m \u001b[0mloss\u001b[0m \u001b[0;34m/\u001b[0m \u001b[0mnum_grad_accum\u001b[0m\u001b[0;34m\u001b[0m\u001b[0;34m\u001b[0m\u001b[0m\n\u001b[1;32m     13\u001b[0m         \u001b[0;31m# Обновляем параметры\u001b[0m\u001b[0;34m\u001b[0m\u001b[0;34m\u001b[0m\u001b[0m\n",
            "\u001b[0;32m<ipython-input-34-cfab14a0846b>\u001b[0m in \u001b[0;36mcm_loss_template\u001b[0;34m(latents, prompt_embeds, unet, scheduler, loss_fn, get_boundary_timesteps, get_xs_from_xt, num_timesteps, step_size)\u001b[0m\n\u001b[1;32m     27\u001b[0m     \u001b[0;31m# with <YOUR CODE HERE>: # для реализации mixed-precision обучения в задании №4\u001b[0m\u001b[0;34m\u001b[0m\u001b[0;34m\u001b[0m\u001b[0m\n\u001b[1;32m     28\u001b[0m     \u001b[0;32mwith\u001b[0m \u001b[0mtorch\u001b[0m\u001b[0;34m.\u001b[0m\u001b[0mamp\u001b[0m\u001b[0;34m.\u001b[0m\u001b[0mautocast\u001b[0m\u001b[0;34m(\u001b[0m\u001b[0;34m\"cuda\"\u001b[0m\u001b[0;34m,\u001b[0m \u001b[0mtorch\u001b[0m\u001b[0;34m.\u001b[0m\u001b[0mfloat16\u001b[0m\u001b[0;34m)\u001b[0m\u001b[0;34m:\u001b[0m\u001b[0;34m\u001b[0m\u001b[0;34m\u001b[0m\u001b[0m\n\u001b[0;32m---> 29\u001b[0;31m         noise_pred = unet(x_t.float(), t,\n\u001b[0m\u001b[1;32m     30\u001b[0m             \u001b[0mencoder_hidden_states\u001b[0m\u001b[0;34m=\u001b[0m\u001b[0mprompt_embeds\u001b[0m\u001b[0;34m.\u001b[0m\u001b[0mfloat\u001b[0m\u001b[0;34m(\u001b[0m\u001b[0;34m)\u001b[0m\u001b[0;34m,\u001b[0m\u001b[0;34m\u001b[0m\u001b[0;34m\u001b[0m\u001b[0m\n\u001b[1;32m     31\u001b[0m         ).sample\n",
            "\u001b[0;32m/usr/local/lib/python3.10/dist-packages/torch/nn/modules/module.py\u001b[0m in \u001b[0;36m_wrapped_call_impl\u001b[0;34m(self, *args, **kwargs)\u001b[0m\n\u001b[1;32m   1734\u001b[0m             \u001b[0;32mreturn\u001b[0m \u001b[0mself\u001b[0m\u001b[0;34m.\u001b[0m\u001b[0m_compiled_call_impl\u001b[0m\u001b[0;34m(\u001b[0m\u001b[0;34m*\u001b[0m\u001b[0margs\u001b[0m\u001b[0;34m,\u001b[0m \u001b[0;34m**\u001b[0m\u001b[0mkwargs\u001b[0m\u001b[0;34m)\u001b[0m  \u001b[0;31m# type: ignore[misc]\u001b[0m\u001b[0;34m\u001b[0m\u001b[0;34m\u001b[0m\u001b[0m\n\u001b[1;32m   1735\u001b[0m         \u001b[0;32melse\u001b[0m\u001b[0;34m:\u001b[0m\u001b[0;34m\u001b[0m\u001b[0;34m\u001b[0m\u001b[0m\n\u001b[0;32m-> 1736\u001b[0;31m             \u001b[0;32mreturn\u001b[0m \u001b[0mself\u001b[0m\u001b[0;34m.\u001b[0m\u001b[0m_call_impl\u001b[0m\u001b[0;34m(\u001b[0m\u001b[0;34m*\u001b[0m\u001b[0margs\u001b[0m\u001b[0;34m,\u001b[0m \u001b[0;34m**\u001b[0m\u001b[0mkwargs\u001b[0m\u001b[0;34m)\u001b[0m\u001b[0;34m\u001b[0m\u001b[0;34m\u001b[0m\u001b[0m\n\u001b[0m\u001b[1;32m   1737\u001b[0m \u001b[0;34m\u001b[0m\u001b[0m\n\u001b[1;32m   1738\u001b[0m     \u001b[0;31m# torchrec tests the code consistency with the following code\u001b[0m\u001b[0;34m\u001b[0m\u001b[0;34m\u001b[0m\u001b[0m\n",
            "\u001b[0;32m/usr/local/lib/python3.10/dist-packages/torch/nn/modules/module.py\u001b[0m in \u001b[0;36m_call_impl\u001b[0;34m(self, *args, **kwargs)\u001b[0m\n\u001b[1;32m   1745\u001b[0m                 \u001b[0;32mor\u001b[0m \u001b[0m_global_backward_pre_hooks\u001b[0m \u001b[0;32mor\u001b[0m \u001b[0m_global_backward_hooks\u001b[0m\u001b[0;34m\u001b[0m\u001b[0;34m\u001b[0m\u001b[0m\n\u001b[1;32m   1746\u001b[0m                 or _global_forward_hooks or _global_forward_pre_hooks):\n\u001b[0;32m-> 1747\u001b[0;31m             \u001b[0;32mreturn\u001b[0m \u001b[0mforward_call\u001b[0m\u001b[0;34m(\u001b[0m\u001b[0;34m*\u001b[0m\u001b[0margs\u001b[0m\u001b[0;34m,\u001b[0m \u001b[0;34m**\u001b[0m\u001b[0mkwargs\u001b[0m\u001b[0;34m)\u001b[0m\u001b[0;34m\u001b[0m\u001b[0;34m\u001b[0m\u001b[0m\n\u001b[0m\u001b[1;32m   1748\u001b[0m \u001b[0;34m\u001b[0m\u001b[0m\n\u001b[1;32m   1749\u001b[0m         \u001b[0mresult\u001b[0m \u001b[0;34m=\u001b[0m \u001b[0;32mNone\u001b[0m\u001b[0;34m\u001b[0m\u001b[0;34m\u001b[0m\u001b[0m\n",
            "\u001b[0;32m/usr/local/lib/python3.10/dist-packages/peft/peft_model.py\u001b[0m in \u001b[0;36mforward\u001b[0;34m(self, *args, **kwargs)\u001b[0m\n\u001b[1;32m    536\u001b[0m         \u001b[0mForward\u001b[0m \u001b[0;32mpass\u001b[0m \u001b[0mof\u001b[0m \u001b[0mthe\u001b[0m \u001b[0mmodel\u001b[0m\u001b[0;34m.\u001b[0m\u001b[0;34m\u001b[0m\u001b[0;34m\u001b[0m\u001b[0m\n\u001b[1;32m    537\u001b[0m         \"\"\"\n\u001b[0;32m--> 538\u001b[0;31m         \u001b[0;32mreturn\u001b[0m \u001b[0mself\u001b[0m\u001b[0;34m.\u001b[0m\u001b[0mget_base_model\u001b[0m\u001b[0;34m(\u001b[0m\u001b[0;34m)\u001b[0m\u001b[0;34m(\u001b[0m\u001b[0;34m*\u001b[0m\u001b[0margs\u001b[0m\u001b[0;34m,\u001b[0m \u001b[0;34m**\u001b[0m\u001b[0mkwargs\u001b[0m\u001b[0;34m)\u001b[0m\u001b[0;34m\u001b[0m\u001b[0;34m\u001b[0m\u001b[0m\n\u001b[0m\u001b[1;32m    539\u001b[0m \u001b[0;34m\u001b[0m\u001b[0m\n\u001b[1;32m    540\u001b[0m     \u001b[0;32mdef\u001b[0m \u001b[0m_get_base_model_class\u001b[0m\u001b[0;34m(\u001b[0m\u001b[0mself\u001b[0m\u001b[0;34m,\u001b[0m \u001b[0mis_prompt_tuning\u001b[0m\u001b[0;34m=\u001b[0m\u001b[0;32mFalse\u001b[0m\u001b[0;34m)\u001b[0m\u001b[0;34m:\u001b[0m\u001b[0;34m\u001b[0m\u001b[0;34m\u001b[0m\u001b[0m\n",
            "\u001b[0;32m/usr/local/lib/python3.10/dist-packages/torch/nn/modules/module.py\u001b[0m in \u001b[0;36m_wrapped_call_impl\u001b[0;34m(self, *args, **kwargs)\u001b[0m\n\u001b[1;32m   1734\u001b[0m             \u001b[0;32mreturn\u001b[0m \u001b[0mself\u001b[0m\u001b[0;34m.\u001b[0m\u001b[0m_compiled_call_impl\u001b[0m\u001b[0;34m(\u001b[0m\u001b[0;34m*\u001b[0m\u001b[0margs\u001b[0m\u001b[0;34m,\u001b[0m \u001b[0;34m**\u001b[0m\u001b[0mkwargs\u001b[0m\u001b[0;34m)\u001b[0m  \u001b[0;31m# type: ignore[misc]\u001b[0m\u001b[0;34m\u001b[0m\u001b[0;34m\u001b[0m\u001b[0m\n\u001b[1;32m   1735\u001b[0m         \u001b[0;32melse\u001b[0m\u001b[0;34m:\u001b[0m\u001b[0;34m\u001b[0m\u001b[0;34m\u001b[0m\u001b[0m\n\u001b[0;32m-> 1736\u001b[0;31m             \u001b[0;32mreturn\u001b[0m \u001b[0mself\u001b[0m\u001b[0;34m.\u001b[0m\u001b[0m_call_impl\u001b[0m\u001b[0;34m(\u001b[0m\u001b[0;34m*\u001b[0m\u001b[0margs\u001b[0m\u001b[0;34m,\u001b[0m \u001b[0;34m**\u001b[0m\u001b[0mkwargs\u001b[0m\u001b[0;34m)\u001b[0m\u001b[0;34m\u001b[0m\u001b[0;34m\u001b[0m\u001b[0m\n\u001b[0m\u001b[1;32m   1737\u001b[0m \u001b[0;34m\u001b[0m\u001b[0m\n\u001b[1;32m   1738\u001b[0m     \u001b[0;31m# torchrec tests the code consistency with the following code\u001b[0m\u001b[0;34m\u001b[0m\u001b[0;34m\u001b[0m\u001b[0m\n",
            "\u001b[0;32m/usr/local/lib/python3.10/dist-packages/torch/nn/modules/module.py\u001b[0m in \u001b[0;36m_call_impl\u001b[0;34m(self, *args, **kwargs)\u001b[0m\n\u001b[1;32m   1745\u001b[0m                 \u001b[0;32mor\u001b[0m \u001b[0m_global_backward_pre_hooks\u001b[0m \u001b[0;32mor\u001b[0m \u001b[0m_global_backward_hooks\u001b[0m\u001b[0;34m\u001b[0m\u001b[0;34m\u001b[0m\u001b[0m\n\u001b[1;32m   1746\u001b[0m                 or _global_forward_hooks or _global_forward_pre_hooks):\n\u001b[0;32m-> 1747\u001b[0;31m             \u001b[0;32mreturn\u001b[0m \u001b[0mforward_call\u001b[0m\u001b[0;34m(\u001b[0m\u001b[0;34m*\u001b[0m\u001b[0margs\u001b[0m\u001b[0;34m,\u001b[0m \u001b[0;34m**\u001b[0m\u001b[0mkwargs\u001b[0m\u001b[0;34m)\u001b[0m\u001b[0;34m\u001b[0m\u001b[0;34m\u001b[0m\u001b[0m\n\u001b[0m\u001b[1;32m   1748\u001b[0m \u001b[0;34m\u001b[0m\u001b[0m\n\u001b[1;32m   1749\u001b[0m         \u001b[0mresult\u001b[0m \u001b[0;34m=\u001b[0m \u001b[0;32mNone\u001b[0m\u001b[0;34m\u001b[0m\u001b[0;34m\u001b[0m\u001b[0m\n",
            "\u001b[0;32m/usr/local/lib/python3.10/dist-packages/diffusers/models/unets/unet_2d_condition.py\u001b[0m in \u001b[0;36mforward\u001b[0;34m(self, sample, timestep, encoder_hidden_states, class_labels, timestep_cond, attention_mask, cross_attention_kwargs, added_cond_kwargs, down_block_additional_residuals, mid_block_additional_residual, down_intrablock_additional_residuals, encoder_attention_mask, return_dict)\u001b[0m\n\u001b[1;32m   1214\u001b[0m                     \u001b[0madditional_residuals\u001b[0m\u001b[0;34m[\u001b[0m\u001b[0;34m\"additional_residuals\"\u001b[0m\u001b[0;34m]\u001b[0m \u001b[0;34m=\u001b[0m \u001b[0mdown_intrablock_additional_residuals\u001b[0m\u001b[0;34m.\u001b[0m\u001b[0mpop\u001b[0m\u001b[0;34m(\u001b[0m\u001b[0;36m0\u001b[0m\u001b[0;34m)\u001b[0m\u001b[0;34m\u001b[0m\u001b[0;34m\u001b[0m\u001b[0m\n\u001b[1;32m   1215\u001b[0m \u001b[0;34m\u001b[0m\u001b[0m\n\u001b[0;32m-> 1216\u001b[0;31m                 sample, res_samples = downsample_block(\n\u001b[0m\u001b[1;32m   1217\u001b[0m                     \u001b[0mhidden_states\u001b[0m\u001b[0;34m=\u001b[0m\u001b[0msample\u001b[0m\u001b[0;34m,\u001b[0m\u001b[0;34m\u001b[0m\u001b[0;34m\u001b[0m\u001b[0m\n\u001b[1;32m   1218\u001b[0m                     \u001b[0mtemb\u001b[0m\u001b[0;34m=\u001b[0m\u001b[0memb\u001b[0m\u001b[0;34m,\u001b[0m\u001b[0;34m\u001b[0m\u001b[0;34m\u001b[0m\u001b[0m\n",
            "\u001b[0;32m/usr/local/lib/python3.10/dist-packages/torch/nn/modules/module.py\u001b[0m in \u001b[0;36m_wrapped_call_impl\u001b[0;34m(self, *args, **kwargs)\u001b[0m\n\u001b[1;32m   1734\u001b[0m             \u001b[0;32mreturn\u001b[0m \u001b[0mself\u001b[0m\u001b[0;34m.\u001b[0m\u001b[0m_compiled_call_impl\u001b[0m\u001b[0;34m(\u001b[0m\u001b[0;34m*\u001b[0m\u001b[0margs\u001b[0m\u001b[0;34m,\u001b[0m \u001b[0;34m**\u001b[0m\u001b[0mkwargs\u001b[0m\u001b[0;34m)\u001b[0m  \u001b[0;31m# type: ignore[misc]\u001b[0m\u001b[0;34m\u001b[0m\u001b[0;34m\u001b[0m\u001b[0m\n\u001b[1;32m   1735\u001b[0m         \u001b[0;32melse\u001b[0m\u001b[0;34m:\u001b[0m\u001b[0;34m\u001b[0m\u001b[0;34m\u001b[0m\u001b[0m\n\u001b[0;32m-> 1736\u001b[0;31m             \u001b[0;32mreturn\u001b[0m \u001b[0mself\u001b[0m\u001b[0;34m.\u001b[0m\u001b[0m_call_impl\u001b[0m\u001b[0;34m(\u001b[0m\u001b[0;34m*\u001b[0m\u001b[0margs\u001b[0m\u001b[0;34m,\u001b[0m \u001b[0;34m**\u001b[0m\u001b[0mkwargs\u001b[0m\u001b[0;34m)\u001b[0m\u001b[0;34m\u001b[0m\u001b[0;34m\u001b[0m\u001b[0m\n\u001b[0m\u001b[1;32m   1737\u001b[0m \u001b[0;34m\u001b[0m\u001b[0m\n\u001b[1;32m   1738\u001b[0m     \u001b[0;31m# torchrec tests the code consistency with the following code\u001b[0m\u001b[0;34m\u001b[0m\u001b[0;34m\u001b[0m\u001b[0m\n",
            "\u001b[0;32m/usr/local/lib/python3.10/dist-packages/torch/nn/modules/module.py\u001b[0m in \u001b[0;36m_call_impl\u001b[0;34m(self, *args, **kwargs)\u001b[0m\n\u001b[1;32m   1745\u001b[0m                 \u001b[0;32mor\u001b[0m \u001b[0m_global_backward_pre_hooks\u001b[0m \u001b[0;32mor\u001b[0m \u001b[0m_global_backward_hooks\u001b[0m\u001b[0;34m\u001b[0m\u001b[0;34m\u001b[0m\u001b[0m\n\u001b[1;32m   1746\u001b[0m                 or _global_forward_hooks or _global_forward_pre_hooks):\n\u001b[0;32m-> 1747\u001b[0;31m             \u001b[0;32mreturn\u001b[0m \u001b[0mforward_call\u001b[0m\u001b[0;34m(\u001b[0m\u001b[0;34m*\u001b[0m\u001b[0margs\u001b[0m\u001b[0;34m,\u001b[0m \u001b[0;34m**\u001b[0m\u001b[0mkwargs\u001b[0m\u001b[0;34m)\u001b[0m\u001b[0;34m\u001b[0m\u001b[0;34m\u001b[0m\u001b[0m\n\u001b[0m\u001b[1;32m   1748\u001b[0m \u001b[0;34m\u001b[0m\u001b[0m\n\u001b[1;32m   1749\u001b[0m         \u001b[0mresult\u001b[0m \u001b[0;34m=\u001b[0m \u001b[0;32mNone\u001b[0m\u001b[0;34m\u001b[0m\u001b[0;34m\u001b[0m\u001b[0m\n",
            "\u001b[0;32m/usr/local/lib/python3.10/dist-packages/diffusers/models/unets/unet_2d_blocks.py\u001b[0m in \u001b[0;36mforward\u001b[0;34m(self, hidden_states, temb, encoder_hidden_states, attention_mask, cross_attention_kwargs, encoder_attention_mask, additional_residuals)\u001b[0m\n\u001b[1;32m   1270\u001b[0m \u001b[0;34m\u001b[0m\u001b[0m\n\u001b[1;32m   1271\u001b[0m                 \u001b[0mckpt_kwargs\u001b[0m\u001b[0;34m:\u001b[0m \u001b[0mDict\u001b[0m\u001b[0;34m[\u001b[0m\u001b[0mstr\u001b[0m\u001b[0;34m,\u001b[0m \u001b[0mAny\u001b[0m\u001b[0;34m]\u001b[0m \u001b[0;34m=\u001b[0m \u001b[0;34m{\u001b[0m\u001b[0;34m\"use_reentrant\"\u001b[0m\u001b[0;34m:\u001b[0m \u001b[0;32mFalse\u001b[0m\u001b[0;34m}\u001b[0m \u001b[0;32mif\u001b[0m \u001b[0mis_torch_version\u001b[0m\u001b[0;34m(\u001b[0m\u001b[0;34m\">=\"\u001b[0m\u001b[0;34m,\u001b[0m \u001b[0;34m\"1.11.0\"\u001b[0m\u001b[0;34m)\u001b[0m \u001b[0;32melse\u001b[0m \u001b[0;34m{\u001b[0m\u001b[0;34m}\u001b[0m\u001b[0;34m\u001b[0m\u001b[0;34m\u001b[0m\u001b[0m\n\u001b[0;32m-> 1272\u001b[0;31m                 hidden_states = torch.utils.checkpoint.checkpoint(\n\u001b[0m\u001b[1;32m   1273\u001b[0m                     \u001b[0mcreate_custom_forward\u001b[0m\u001b[0;34m(\u001b[0m\u001b[0mresnet\u001b[0m\u001b[0;34m)\u001b[0m\u001b[0;34m,\u001b[0m\u001b[0;34m\u001b[0m\u001b[0;34m\u001b[0m\u001b[0m\n\u001b[1;32m   1274\u001b[0m                     \u001b[0mhidden_states\u001b[0m\u001b[0;34m,\u001b[0m\u001b[0;34m\u001b[0m\u001b[0;34m\u001b[0m\u001b[0m\n",
            "\u001b[0;32m/usr/local/lib/python3.10/dist-packages/torch/_compile.py\u001b[0m in \u001b[0;36minner\u001b[0;34m(*args, **kwargs)\u001b[0m\n\u001b[1;32m     30\u001b[0m                 \u001b[0mfn\u001b[0m\u001b[0;34m.\u001b[0m\u001b[0m__dynamo_disable\u001b[0m \u001b[0;34m=\u001b[0m \u001b[0mdisable_fn\u001b[0m\u001b[0;34m\u001b[0m\u001b[0;34m\u001b[0m\u001b[0m\n\u001b[1;32m     31\u001b[0m \u001b[0;34m\u001b[0m\u001b[0m\n\u001b[0;32m---> 32\u001b[0;31m             \u001b[0;32mreturn\u001b[0m \u001b[0mdisable_fn\u001b[0m\u001b[0;34m(\u001b[0m\u001b[0;34m*\u001b[0m\u001b[0margs\u001b[0m\u001b[0;34m,\u001b[0m \u001b[0;34m**\u001b[0m\u001b[0mkwargs\u001b[0m\u001b[0;34m)\u001b[0m\u001b[0;34m\u001b[0m\u001b[0;34m\u001b[0m\u001b[0m\n\u001b[0m\u001b[1;32m     33\u001b[0m \u001b[0;34m\u001b[0m\u001b[0m\n\u001b[1;32m     34\u001b[0m         \u001b[0;32mreturn\u001b[0m \u001b[0minner\u001b[0m\u001b[0;34m\u001b[0m\u001b[0;34m\u001b[0m\u001b[0m\n",
            "\u001b[0;32m/usr/local/lib/python3.10/dist-packages/torch/_dynamo/eval_frame.py\u001b[0m in \u001b[0;36m_fn\u001b[0;34m(*args, **kwargs)\u001b[0m\n\u001b[1;32m    630\u001b[0m             \u001b[0mprior\u001b[0m \u001b[0;34m=\u001b[0m \u001b[0m_maybe_set_eval_frame\u001b[0m\u001b[0;34m(\u001b[0m\u001b[0mcallback\u001b[0m\u001b[0;34m)\u001b[0m\u001b[0;34m\u001b[0m\u001b[0;34m\u001b[0m\u001b[0m\n\u001b[1;32m    631\u001b[0m             \u001b[0;32mtry\u001b[0m\u001b[0;34m:\u001b[0m\u001b[0;34m\u001b[0m\u001b[0;34m\u001b[0m\u001b[0m\n\u001b[0;32m--> 632\u001b[0;31m                 \u001b[0;32mreturn\u001b[0m \u001b[0mfn\u001b[0m\u001b[0;34m(\u001b[0m\u001b[0;34m*\u001b[0m\u001b[0margs\u001b[0m\u001b[0;34m,\u001b[0m \u001b[0;34m**\u001b[0m\u001b[0mkwargs\u001b[0m\u001b[0;34m)\u001b[0m\u001b[0;34m\u001b[0m\u001b[0;34m\u001b[0m\u001b[0m\n\u001b[0m\u001b[1;32m    633\u001b[0m             \u001b[0;32mfinally\u001b[0m\u001b[0;34m:\u001b[0m\u001b[0;34m\u001b[0m\u001b[0;34m\u001b[0m\u001b[0m\n\u001b[1;32m    634\u001b[0m                 \u001b[0m_maybe_set_eval_frame\u001b[0m\u001b[0;34m(\u001b[0m\u001b[0mprior\u001b[0m\u001b[0;34m)\u001b[0m\u001b[0;34m\u001b[0m\u001b[0;34m\u001b[0m\u001b[0m\n",
            "\u001b[0;32m/usr/local/lib/python3.10/dist-packages/torch/utils/checkpoint.py\u001b[0m in \u001b[0;36mcheckpoint\u001b[0;34m(function, use_reentrant, context_fn, determinism_check, debug, *args, **kwargs)\u001b[0m\n\u001b[1;32m    494\u001b[0m         \u001b[0;31m# Runs pre-forward logic\u001b[0m\u001b[0;34m\u001b[0m\u001b[0;34m\u001b[0m\u001b[0m\n\u001b[1;32m    495\u001b[0m         \u001b[0mnext\u001b[0m\u001b[0;34m(\u001b[0m\u001b[0mgen\u001b[0m\u001b[0;34m)\u001b[0m\u001b[0;34m\u001b[0m\u001b[0;34m\u001b[0m\u001b[0m\n\u001b[0;32m--> 496\u001b[0;31m         \u001b[0mret\u001b[0m \u001b[0;34m=\u001b[0m \u001b[0mfunction\u001b[0m\u001b[0;34m(\u001b[0m\u001b[0;34m*\u001b[0m\u001b[0margs\u001b[0m\u001b[0;34m,\u001b[0m \u001b[0;34m**\u001b[0m\u001b[0mkwargs\u001b[0m\u001b[0;34m)\u001b[0m\u001b[0;34m\u001b[0m\u001b[0;34m\u001b[0m\u001b[0m\n\u001b[0m\u001b[1;32m    497\u001b[0m         \u001b[0;31m# Runs post-forward logic\u001b[0m\u001b[0;34m\u001b[0m\u001b[0;34m\u001b[0m\u001b[0m\n\u001b[1;32m    498\u001b[0m         \u001b[0;32mtry\u001b[0m\u001b[0;34m:\u001b[0m\u001b[0;34m\u001b[0m\u001b[0;34m\u001b[0m\u001b[0m\n",
            "\u001b[0;32m/usr/local/lib/python3.10/dist-packages/diffusers/models/unets/unet_2d_blocks.py\u001b[0m in \u001b[0;36mcustom_forward\u001b[0;34m(*inputs)\u001b[0m\n\u001b[1;32m   1265\u001b[0m                             \u001b[0;32mreturn\u001b[0m \u001b[0mmodule\u001b[0m\u001b[0;34m(\u001b[0m\u001b[0;34m*\u001b[0m\u001b[0minputs\u001b[0m\u001b[0;34m,\u001b[0m \u001b[0mreturn_dict\u001b[0m\u001b[0;34m=\u001b[0m\u001b[0mreturn_dict\u001b[0m\u001b[0;34m)\u001b[0m\u001b[0;34m\u001b[0m\u001b[0;34m\u001b[0m\u001b[0m\n\u001b[1;32m   1266\u001b[0m                         \u001b[0;32melse\u001b[0m\u001b[0;34m:\u001b[0m\u001b[0;34m\u001b[0m\u001b[0;34m\u001b[0m\u001b[0m\n\u001b[0;32m-> 1267\u001b[0;31m                             \u001b[0;32mreturn\u001b[0m \u001b[0mmodule\u001b[0m\u001b[0;34m(\u001b[0m\u001b[0;34m*\u001b[0m\u001b[0minputs\u001b[0m\u001b[0;34m)\u001b[0m\u001b[0;34m\u001b[0m\u001b[0;34m\u001b[0m\u001b[0m\n\u001b[0m\u001b[1;32m   1268\u001b[0m \u001b[0;34m\u001b[0m\u001b[0m\n\u001b[1;32m   1269\u001b[0m                     \u001b[0;32mreturn\u001b[0m \u001b[0mcustom_forward\u001b[0m\u001b[0;34m\u001b[0m\u001b[0;34m\u001b[0m\u001b[0m\n",
            "\u001b[0;32m/usr/local/lib/python3.10/dist-packages/torch/nn/modules/module.py\u001b[0m in \u001b[0;36m_wrapped_call_impl\u001b[0;34m(self, *args, **kwargs)\u001b[0m\n\u001b[1;32m   1734\u001b[0m             \u001b[0;32mreturn\u001b[0m \u001b[0mself\u001b[0m\u001b[0;34m.\u001b[0m\u001b[0m_compiled_call_impl\u001b[0m\u001b[0;34m(\u001b[0m\u001b[0;34m*\u001b[0m\u001b[0margs\u001b[0m\u001b[0;34m,\u001b[0m \u001b[0;34m**\u001b[0m\u001b[0mkwargs\u001b[0m\u001b[0;34m)\u001b[0m  \u001b[0;31m# type: ignore[misc]\u001b[0m\u001b[0;34m\u001b[0m\u001b[0;34m\u001b[0m\u001b[0m\n\u001b[1;32m   1735\u001b[0m         \u001b[0;32melse\u001b[0m\u001b[0;34m:\u001b[0m\u001b[0;34m\u001b[0m\u001b[0;34m\u001b[0m\u001b[0m\n\u001b[0;32m-> 1736\u001b[0;31m             \u001b[0;32mreturn\u001b[0m \u001b[0mself\u001b[0m\u001b[0;34m.\u001b[0m\u001b[0m_call_impl\u001b[0m\u001b[0;34m(\u001b[0m\u001b[0;34m*\u001b[0m\u001b[0margs\u001b[0m\u001b[0;34m,\u001b[0m \u001b[0;34m**\u001b[0m\u001b[0mkwargs\u001b[0m\u001b[0;34m)\u001b[0m\u001b[0;34m\u001b[0m\u001b[0;34m\u001b[0m\u001b[0m\n\u001b[0m\u001b[1;32m   1737\u001b[0m \u001b[0;34m\u001b[0m\u001b[0m\n\u001b[1;32m   1738\u001b[0m     \u001b[0;31m# torchrec tests the code consistency with the following code\u001b[0m\u001b[0;34m\u001b[0m\u001b[0;34m\u001b[0m\u001b[0m\n",
            "\u001b[0;32m/usr/local/lib/python3.10/dist-packages/torch/nn/modules/module.py\u001b[0m in \u001b[0;36m_call_impl\u001b[0;34m(self, *args, **kwargs)\u001b[0m\n\u001b[1;32m   1745\u001b[0m                 \u001b[0;32mor\u001b[0m \u001b[0m_global_backward_pre_hooks\u001b[0m \u001b[0;32mor\u001b[0m \u001b[0m_global_backward_hooks\u001b[0m\u001b[0;34m\u001b[0m\u001b[0;34m\u001b[0m\u001b[0m\n\u001b[1;32m   1746\u001b[0m                 or _global_forward_hooks or _global_forward_pre_hooks):\n\u001b[0;32m-> 1747\u001b[0;31m             \u001b[0;32mreturn\u001b[0m \u001b[0mforward_call\u001b[0m\u001b[0;34m(\u001b[0m\u001b[0;34m*\u001b[0m\u001b[0margs\u001b[0m\u001b[0;34m,\u001b[0m \u001b[0;34m**\u001b[0m\u001b[0mkwargs\u001b[0m\u001b[0;34m)\u001b[0m\u001b[0;34m\u001b[0m\u001b[0;34m\u001b[0m\u001b[0m\n\u001b[0m\u001b[1;32m   1748\u001b[0m \u001b[0;34m\u001b[0m\u001b[0m\n\u001b[1;32m   1749\u001b[0m         \u001b[0mresult\u001b[0m \u001b[0;34m=\u001b[0m \u001b[0;32mNone\u001b[0m\u001b[0;34m\u001b[0m\u001b[0;34m\u001b[0m\u001b[0m\n",
            "\u001b[0;32m/usr/local/lib/python3.10/dist-packages/diffusers/models/resnet.py\u001b[0m in \u001b[0;36mforward\u001b[0;34m(self, input_tensor, temb, *args, **kwargs)\u001b[0m\n\u001b[1;32m    364\u001b[0m \u001b[0;34m\u001b[0m\u001b[0m\n\u001b[1;32m    365\u001b[0m         \u001b[0mhidden_states\u001b[0m \u001b[0;34m=\u001b[0m \u001b[0mself\u001b[0m\u001b[0;34m.\u001b[0m\u001b[0mdropout\u001b[0m\u001b[0;34m(\u001b[0m\u001b[0mhidden_states\u001b[0m\u001b[0;34m)\u001b[0m\u001b[0;34m\u001b[0m\u001b[0;34m\u001b[0m\u001b[0m\n\u001b[0;32m--> 366\u001b[0;31m         \u001b[0mhidden_states\u001b[0m \u001b[0;34m=\u001b[0m \u001b[0mself\u001b[0m\u001b[0;34m.\u001b[0m\u001b[0mconv2\u001b[0m\u001b[0;34m(\u001b[0m\u001b[0mhidden_states\u001b[0m\u001b[0;34m)\u001b[0m\u001b[0;34m\u001b[0m\u001b[0;34m\u001b[0m\u001b[0m\n\u001b[0m\u001b[1;32m    367\u001b[0m \u001b[0;34m\u001b[0m\u001b[0m\n\u001b[1;32m    368\u001b[0m         \u001b[0;32mif\u001b[0m \u001b[0mself\u001b[0m\u001b[0;34m.\u001b[0m\u001b[0mconv_shortcut\u001b[0m \u001b[0;32mis\u001b[0m \u001b[0;32mnot\u001b[0m \u001b[0;32mNone\u001b[0m\u001b[0;34m:\u001b[0m\u001b[0;34m\u001b[0m\u001b[0;34m\u001b[0m\u001b[0m\n",
            "\u001b[0;32m/usr/local/lib/python3.10/dist-packages/torch/nn/modules/module.py\u001b[0m in \u001b[0;36m_wrapped_call_impl\u001b[0;34m(self, *args, **kwargs)\u001b[0m\n\u001b[1;32m   1734\u001b[0m             \u001b[0;32mreturn\u001b[0m \u001b[0mself\u001b[0m\u001b[0;34m.\u001b[0m\u001b[0m_compiled_call_impl\u001b[0m\u001b[0;34m(\u001b[0m\u001b[0;34m*\u001b[0m\u001b[0margs\u001b[0m\u001b[0;34m,\u001b[0m \u001b[0;34m**\u001b[0m\u001b[0mkwargs\u001b[0m\u001b[0;34m)\u001b[0m  \u001b[0;31m# type: ignore[misc]\u001b[0m\u001b[0;34m\u001b[0m\u001b[0;34m\u001b[0m\u001b[0m\n\u001b[1;32m   1735\u001b[0m         \u001b[0;32melse\u001b[0m\u001b[0;34m:\u001b[0m\u001b[0;34m\u001b[0m\u001b[0;34m\u001b[0m\u001b[0m\n\u001b[0;32m-> 1736\u001b[0;31m             \u001b[0;32mreturn\u001b[0m \u001b[0mself\u001b[0m\u001b[0;34m.\u001b[0m\u001b[0m_call_impl\u001b[0m\u001b[0;34m(\u001b[0m\u001b[0;34m*\u001b[0m\u001b[0margs\u001b[0m\u001b[0;34m,\u001b[0m \u001b[0;34m**\u001b[0m\u001b[0mkwargs\u001b[0m\u001b[0;34m)\u001b[0m\u001b[0;34m\u001b[0m\u001b[0;34m\u001b[0m\u001b[0m\n\u001b[0m\u001b[1;32m   1737\u001b[0m \u001b[0;34m\u001b[0m\u001b[0m\n\u001b[1;32m   1738\u001b[0m     \u001b[0;31m# torchrec tests the code consistency with the following code\u001b[0m\u001b[0;34m\u001b[0m\u001b[0;34m\u001b[0m\u001b[0m\n",
            "\u001b[0;32m/usr/local/lib/python3.10/dist-packages/torch/nn/modules/module.py\u001b[0m in \u001b[0;36m_call_impl\u001b[0;34m(self, *args, **kwargs)\u001b[0m\n\u001b[1;32m   1745\u001b[0m                 \u001b[0;32mor\u001b[0m \u001b[0m_global_backward_pre_hooks\u001b[0m \u001b[0;32mor\u001b[0m \u001b[0m_global_backward_hooks\u001b[0m\u001b[0;34m\u001b[0m\u001b[0;34m\u001b[0m\u001b[0m\n\u001b[1;32m   1746\u001b[0m                 or _global_forward_hooks or _global_forward_pre_hooks):\n\u001b[0;32m-> 1747\u001b[0;31m             \u001b[0;32mreturn\u001b[0m \u001b[0mforward_call\u001b[0m\u001b[0;34m(\u001b[0m\u001b[0;34m*\u001b[0m\u001b[0margs\u001b[0m\u001b[0;34m,\u001b[0m \u001b[0;34m**\u001b[0m\u001b[0mkwargs\u001b[0m\u001b[0;34m)\u001b[0m\u001b[0;34m\u001b[0m\u001b[0;34m\u001b[0m\u001b[0m\n\u001b[0m\u001b[1;32m   1748\u001b[0m \u001b[0;34m\u001b[0m\u001b[0m\n\u001b[1;32m   1749\u001b[0m         \u001b[0mresult\u001b[0m \u001b[0;34m=\u001b[0m \u001b[0;32mNone\u001b[0m\u001b[0;34m\u001b[0m\u001b[0;34m\u001b[0m\u001b[0m\n",
            "\u001b[0;32m/usr/local/lib/python3.10/dist-packages/peft/tuners/lora/layer.py\u001b[0m in \u001b[0;36mforward\u001b[0;34m(self, x, *args, **kwargs)\u001b[0m\n\u001b[1;32m    667\u001b[0m                 \u001b[0mscaling\u001b[0m \u001b[0;34m=\u001b[0m \u001b[0mself\u001b[0m\u001b[0;34m.\u001b[0m\u001b[0mscaling\u001b[0m\u001b[0;34m[\u001b[0m\u001b[0mactive_adapter\u001b[0m\u001b[0;34m]\u001b[0m\u001b[0;34m\u001b[0m\u001b[0;34m\u001b[0m\u001b[0m\n\u001b[1;32m    668\u001b[0m                 \u001b[0mx\u001b[0m \u001b[0;34m=\u001b[0m \u001b[0mx\u001b[0m\u001b[0;34m.\u001b[0m\u001b[0mto\u001b[0m\u001b[0;34m(\u001b[0m\u001b[0mlora_A\u001b[0m\u001b[0;34m.\u001b[0m\u001b[0mweight\u001b[0m\u001b[0;34m.\u001b[0m\u001b[0mdtype\u001b[0m\u001b[0;34m)\u001b[0m\u001b[0;34m\u001b[0m\u001b[0;34m\u001b[0m\u001b[0m\n\u001b[0;32m--> 669\u001b[0;31m                 \u001b[0mresult\u001b[0m \u001b[0;34m+=\u001b[0m \u001b[0mlora_B\u001b[0m\u001b[0;34m(\u001b[0m\u001b[0mlora_A\u001b[0m\u001b[0;34m(\u001b[0m\u001b[0mdropout\u001b[0m\u001b[0;34m(\u001b[0m\u001b[0mx\u001b[0m\u001b[0;34m)\u001b[0m\u001b[0;34m)\u001b[0m\u001b[0;34m)\u001b[0m \u001b[0;34m*\u001b[0m \u001b[0mscaling\u001b[0m\u001b[0;34m\u001b[0m\u001b[0;34m\u001b[0m\u001b[0m\n\u001b[0m\u001b[1;32m    670\u001b[0m \u001b[0;34m\u001b[0m\u001b[0m\n\u001b[1;32m    671\u001b[0m         \u001b[0mresult\u001b[0m \u001b[0;34m=\u001b[0m \u001b[0mresult\u001b[0m\u001b[0;34m.\u001b[0m\u001b[0mto\u001b[0m\u001b[0;34m(\u001b[0m\u001b[0mprevious_dtype\u001b[0m\u001b[0;34m)\u001b[0m\u001b[0;34m\u001b[0m\u001b[0;34m\u001b[0m\u001b[0m\n",
            "\u001b[0;32m/usr/local/lib/python3.10/dist-packages/torch/nn/modules/module.py\u001b[0m in \u001b[0;36m_wrapped_call_impl\u001b[0;34m(self, *args, **kwargs)\u001b[0m\n\u001b[1;32m   1734\u001b[0m             \u001b[0;32mreturn\u001b[0m \u001b[0mself\u001b[0m\u001b[0;34m.\u001b[0m\u001b[0m_compiled_call_impl\u001b[0m\u001b[0;34m(\u001b[0m\u001b[0;34m*\u001b[0m\u001b[0margs\u001b[0m\u001b[0;34m,\u001b[0m \u001b[0;34m**\u001b[0m\u001b[0mkwargs\u001b[0m\u001b[0;34m)\u001b[0m  \u001b[0;31m# type: ignore[misc]\u001b[0m\u001b[0;34m\u001b[0m\u001b[0;34m\u001b[0m\u001b[0m\n\u001b[1;32m   1735\u001b[0m         \u001b[0;32melse\u001b[0m\u001b[0;34m:\u001b[0m\u001b[0;34m\u001b[0m\u001b[0;34m\u001b[0m\u001b[0m\n\u001b[0;32m-> 1736\u001b[0;31m             \u001b[0;32mreturn\u001b[0m \u001b[0mself\u001b[0m\u001b[0;34m.\u001b[0m\u001b[0m_call_impl\u001b[0m\u001b[0;34m(\u001b[0m\u001b[0;34m*\u001b[0m\u001b[0margs\u001b[0m\u001b[0;34m,\u001b[0m \u001b[0;34m**\u001b[0m\u001b[0mkwargs\u001b[0m\u001b[0;34m)\u001b[0m\u001b[0;34m\u001b[0m\u001b[0;34m\u001b[0m\u001b[0m\n\u001b[0m\u001b[1;32m   1737\u001b[0m \u001b[0;34m\u001b[0m\u001b[0m\n\u001b[1;32m   1738\u001b[0m     \u001b[0;31m# torchrec tests the code consistency with the following code\u001b[0m\u001b[0;34m\u001b[0m\u001b[0;34m\u001b[0m\u001b[0m\n",
            "\u001b[0;32m/usr/local/lib/python3.10/dist-packages/torch/nn/modules/module.py\u001b[0m in \u001b[0;36m_call_impl\u001b[0;34m(self, *args, **kwargs)\u001b[0m\n\u001b[1;32m   1745\u001b[0m                 \u001b[0;32mor\u001b[0m \u001b[0m_global_backward_pre_hooks\u001b[0m \u001b[0;32mor\u001b[0m \u001b[0m_global_backward_hooks\u001b[0m\u001b[0;34m\u001b[0m\u001b[0;34m\u001b[0m\u001b[0m\n\u001b[1;32m   1746\u001b[0m                 or _global_forward_hooks or _global_forward_pre_hooks):\n\u001b[0;32m-> 1747\u001b[0;31m             \u001b[0;32mreturn\u001b[0m \u001b[0mforward_call\u001b[0m\u001b[0;34m(\u001b[0m\u001b[0;34m*\u001b[0m\u001b[0margs\u001b[0m\u001b[0;34m,\u001b[0m \u001b[0;34m**\u001b[0m\u001b[0mkwargs\u001b[0m\u001b[0;34m)\u001b[0m\u001b[0;34m\u001b[0m\u001b[0;34m\u001b[0m\u001b[0m\n\u001b[0m\u001b[1;32m   1748\u001b[0m \u001b[0;34m\u001b[0m\u001b[0m\n\u001b[1;32m   1749\u001b[0m         \u001b[0mresult\u001b[0m \u001b[0;34m=\u001b[0m \u001b[0;32mNone\u001b[0m\u001b[0;34m\u001b[0m\u001b[0;34m\u001b[0m\u001b[0m\n",
            "\u001b[0;32m/usr/local/lib/python3.10/dist-packages/torch/nn/modules/conv.py\u001b[0m in \u001b[0;36mforward\u001b[0;34m(self, input)\u001b[0m\n\u001b[1;32m    552\u001b[0m \u001b[0;34m\u001b[0m\u001b[0m\n\u001b[1;32m    553\u001b[0m     \u001b[0;32mdef\u001b[0m \u001b[0mforward\u001b[0m\u001b[0;34m(\u001b[0m\u001b[0mself\u001b[0m\u001b[0;34m,\u001b[0m \u001b[0minput\u001b[0m\u001b[0;34m:\u001b[0m \u001b[0mTensor\u001b[0m\u001b[0;34m)\u001b[0m \u001b[0;34m->\u001b[0m \u001b[0mTensor\u001b[0m\u001b[0;34m:\u001b[0m\u001b[0;34m\u001b[0m\u001b[0;34m\u001b[0m\u001b[0m\n\u001b[0;32m--> 554\u001b[0;31m         \u001b[0;32mreturn\u001b[0m \u001b[0mself\u001b[0m\u001b[0;34m.\u001b[0m\u001b[0m_conv_forward\u001b[0m\u001b[0;34m(\u001b[0m\u001b[0minput\u001b[0m\u001b[0;34m,\u001b[0m \u001b[0mself\u001b[0m\u001b[0;34m.\u001b[0m\u001b[0mweight\u001b[0m\u001b[0;34m,\u001b[0m \u001b[0mself\u001b[0m\u001b[0;34m.\u001b[0m\u001b[0mbias\u001b[0m\u001b[0;34m)\u001b[0m\u001b[0;34m\u001b[0m\u001b[0;34m\u001b[0m\u001b[0m\n\u001b[0m\u001b[1;32m    555\u001b[0m \u001b[0;34m\u001b[0m\u001b[0m\n\u001b[1;32m    556\u001b[0m \u001b[0;34m\u001b[0m\u001b[0m\n",
            "\u001b[0;32m/usr/local/lib/python3.10/dist-packages/torch/nn/modules/conv.py\u001b[0m in \u001b[0;36m_conv_forward\u001b[0;34m(self, input, weight, bias)\u001b[0m\n\u001b[1;32m    547\u001b[0m                 \u001b[0mself\u001b[0m\u001b[0;34m.\u001b[0m\u001b[0mgroups\u001b[0m\u001b[0;34m,\u001b[0m\u001b[0;34m\u001b[0m\u001b[0;34m\u001b[0m\u001b[0m\n\u001b[1;32m    548\u001b[0m             )\n\u001b[0;32m--> 549\u001b[0;31m         return F.conv2d(\n\u001b[0m\u001b[1;32m    550\u001b[0m             \u001b[0minput\u001b[0m\u001b[0;34m,\u001b[0m \u001b[0mweight\u001b[0m\u001b[0;34m,\u001b[0m \u001b[0mbias\u001b[0m\u001b[0;34m,\u001b[0m \u001b[0mself\u001b[0m\u001b[0;34m.\u001b[0m\u001b[0mstride\u001b[0m\u001b[0;34m,\u001b[0m \u001b[0mself\u001b[0m\u001b[0;34m.\u001b[0m\u001b[0mpadding\u001b[0m\u001b[0;34m,\u001b[0m \u001b[0mself\u001b[0m\u001b[0;34m.\u001b[0m\u001b[0mdilation\u001b[0m\u001b[0;34m,\u001b[0m \u001b[0mself\u001b[0m\u001b[0;34m.\u001b[0m\u001b[0mgroups\u001b[0m\u001b[0;34m\u001b[0m\u001b[0;34m\u001b[0m\u001b[0m\n\u001b[1;32m    551\u001b[0m         )\n",
            "\u001b[0;32m/usr/local/lib/python3.10/dist-packages/torch/utils/checkpoint.py\u001b[0m in \u001b[0;36mpack_hook\u001b[0;34m(x)\u001b[0m\n\u001b[1;32m   1099\u001b[0m \u001b[0;32mclass\u001b[0m \u001b[0m_checkpoint_hook\u001b[0m\u001b[0;34m(\u001b[0m\u001b[0mtorch\u001b[0m\u001b[0;34m.\u001b[0m\u001b[0mautograd\u001b[0m\u001b[0;34m.\u001b[0m\u001b[0mgraph\u001b[0m\u001b[0;34m.\u001b[0m\u001b[0msaved_tensors_hooks\u001b[0m\u001b[0;34m)\u001b[0m\u001b[0;34m:\u001b[0m\u001b[0;34m\u001b[0m\u001b[0;34m\u001b[0m\u001b[0m\n\u001b[1;32m   1100\u001b[0m     \u001b[0;32mdef\u001b[0m \u001b[0m__init__\u001b[0m\u001b[0;34m(\u001b[0m\u001b[0mself\u001b[0m\u001b[0;34m,\u001b[0m \u001b[0mframe\u001b[0m\u001b[0;34m)\u001b[0m\u001b[0;34m:\u001b[0m\u001b[0;34m\u001b[0m\u001b[0;34m\u001b[0m\u001b[0m\n\u001b[0;32m-> 1101\u001b[0;31m         \u001b[0;32mdef\u001b[0m \u001b[0mpack_hook\u001b[0m\u001b[0;34m(\u001b[0m\u001b[0mx\u001b[0m\u001b[0;34m)\u001b[0m\u001b[0;34m:\u001b[0m\u001b[0;34m\u001b[0m\u001b[0;34m\u001b[0m\u001b[0m\n\u001b[0m\u001b[1;32m   1102\u001b[0m             \u001b[0;31m# See Rule 4 above\u001b[0m\u001b[0;34m\u001b[0m\u001b[0;34m\u001b[0m\u001b[0m\n\u001b[1;32m   1103\u001b[0m             \u001b[0mholder\u001b[0m \u001b[0;34m=\u001b[0m \u001b[0m_Holder\u001b[0m\u001b[0;34m(\u001b[0m\u001b[0;34m)\u001b[0m\u001b[0;34m\u001b[0m\u001b[0;34m\u001b[0m\u001b[0m\n",
            "\u001b[0;31mKeyboardInterrupt\u001b[0m: "
          ]
        }
      ],
      "source": [
        "num_grad_accum = 2 # обновляем параметры каждые 2 шага\n",
        "\n",
        "train_loop(cm_unet, pipe, train_dataloader, optimizer, ct_loss, num_grad_accum)"
      ]
    },
    {
      "cell_type": "markdown",
      "id": "8808dc13",
      "metadata": {
        "id": "8808dc13"
      },
      "source": [
        "## Задание 5\n",
        "\n",
        "### Генерация с помощью обученной консистенси модели\n",
        "\n",
        "Настало время погенерировать картинки с помощью нашей модели.\n",
        "Напомним, что мы не можем для консистенси моделей использовать DDIM и другие классические солверы для диффузии.\n",
        "Нам нужен специальный сэмплер для CM, который схематично изображен на картинке ниже:\n",
        "\n",
        "<div>\n",
        "<img src=\"https://i.postimg.cc/66bWLvnh/cd-sampling.jpg\" width=\"600\"/>\n",
        "</div>\n",
        "\n",
        "Чуть более формально:\n",
        "\n",
        "$x_{t_n} \\sim {N}(0, I)$\n",
        "\n",
        "$for\\ t_i \\in [t_n, ..., t_1]:$\n",
        "\n",
        "* $\\epsilon \\leftarrow unet(x_{t_i})$\n",
        "\n",
        "* $x_0 \\leftarrow DDIM(\\epsilon, x_{t_i}, t_i, 0)$\n",
        "\n",
        "* $x_{t_{i-1}} \\leftarrow q(x_{t_{i-1}} | x_0)$\n",
        "\n",
        "\n",
        "**Classifier-free guidance (CFG)**\n",
        "\n",
        "Также вам надо реализовать поддержку CFG в CM сэмплирование. Вспомним формулу:\n",
        "\n",
        "$\\epsilon_w = {\\color{blue}{\\epsilon_{uncond}}} + w \\cdot (\\epsilon_{cond} - \\epsilon_{uncond})$, где $w \\geq 1$\n",
        "\n",
        "**Обратим внимание**, что режим \"без гайденса\" соотвествует $w = 1$, что немного контринтуитивно, но в большинстве реализаций будет встречаться именно такой вид этой формулы."
      ]
    },
    {
      "cell_type": "code",
      "execution_count": null,
      "id": "6f1c47c2",
      "metadata": {
        "id": "6f1c47c2"
      },
      "outputs": [],
      "source": [
        "@torch.no_grad()\n",
        "def consistency_sampling(\n",
        "    pipe,\n",
        "    prompt,\n",
        "    num_inference_steps=4,\n",
        "    generator=None,\n",
        "    num_images_per_prompt=4,\n",
        "    guidance_scale=1\n",
        "):\n",
        "    if prompt is not None and isinstance(prompt, str):\n",
        "        batch_size = 1\n",
        "    elif prompt is not None and isinstance(prompt, list):\n",
        "        batch_size = len(prompt)\n",
        "\n",
        "    device = pipe._execution_device\n",
        "\n",
        "    # Извлекаем эмбеды из текстовых промптов. Реализуйте вызов pipe.encode_prompt\n",
        "    do_classifier_free_guidance = guidance_scale > 0\n",
        "    prompt_embeds, null_prompt_embeds = <YOUR CODE HERE>\n",
        "    assert prompt_embeds.dtype == null_prompt_embeds.dtype == torch.float16\n",
        "\n",
        "    # Настраиваем параметры scheduler-a\n",
        "    assert pipe.scheduler.config['timestep_spacing'] == 'trailing'\n",
        "    pipe.scheduler.set_timesteps(num_inference_steps)\n",
        "\n",
        "    # Создаем батч латентов из N(0,I)\n",
        "    latents = <YOUR CODE HERE>\n",
        "\n",
        "    for i, t in enumerate(tqdm(pipe.scheduler.timesteps)):\n",
        "        t = torch.tensor([t] * len(latents)).to(device)\n",
        "        zero_t = torch.tensor([0] * len(latents)).to(device)\n",
        "\n",
        "        cond_noise_pred = <YOUR CODE HERE>\n",
        "\n",
        "        if do_classifier_free_guidance:\n",
        "            uncond_noise_pred = <YOUR CODE HERE>\n",
        "            noise_pred = <YOUR CODE HERE>\n",
        "        else:\n",
        "            noise_pred = cond_noise_pred\n",
        "\n",
        "        # Получаем x_0 оценку из x_t\n",
        "        x_0 = <YOUR CODE HERE>\n",
        "\n",
        "        if i + 1 < num_inference_steps:\n",
        "            # Переход на следующий шаг\n",
        "            s = pipe.scheduler.timesteps[i+1]\n",
        "            s = torch.tensor([s] * len(latents)).to(device)\n",
        "\n",
        "            latents = <YOUR CODE HERE>\n",
        "        else:\n",
        "            # Последний шаг\n",
        "            latents = x_0\n",
        "\n",
        "        latents = latents.half()\n",
        "\n",
        "    image = pipe.vae.decode(latents / pipe.vae.config.scaling_factor, return_dict=False)[0]\n",
        "    do_denormalize = [True] * image.shape[0]\n",
        "    image = pipe.image_processor.postprocess(image, output_type=\"pil\", do_denormalize=do_denormalize)\n",
        "    return image"
      ]
    },
    {
      "cell_type": "markdown",
      "id": "57927112",
      "metadata": {
        "id": "57927112"
      },
      "source": [
        "Попробуем сгененировать что-то нашей моделью. Можно поиграться с разными сидами и гайденс скейлами.\n",
        "\n",
        "Референс, что примерно должно получиться на этом этапе для guidance_scale=2. Как видите, картинки стали почетче, но пока все еще так себе.\n",
        "\n",
        "![img](https://i.postimg.cc/2jctrptY/ct-images.png)\n"
      ]
    },
    {
      "cell_type": "code",
      "execution_count": null,
      "id": "cf2dc5a8",
      "metadata": {
        "id": "cf2dc5a8"
      },
      "outputs": [],
      "source": [
        "pipe.unet = cm_unet.eval().to(torch.float16)\n",
        "assert cm_unet.active_adapter == 'ct'\n",
        "\n",
        "generator = torch.Generator(device=\"cuda\").manual_seed(1)\n",
        "guidance_scale = 3\n",
        "\n",
        "# Заменяем генерацию пайплайном на наше сэмплирование.\n",
        "images = <YOUR CODE HERE>\n",
        "\n",
        "visualize_images(images)"
      ]
    },
    {
      "cell_type": "markdown",
      "id": "11670976",
      "metadata": {
        "id": "11670976"
      },
      "source": [
        "# Consistency Distillation\n",
        "\n",
        "## Задание №6\n",
        "\n",
        "\n",
        "Теперь давайте попробуем перейти к постановке дистилляции, где шаг из $x_t$ в $x_s$ будет делаться не аналитически, а c помощью модели учителя.  \n",
        "\n",
        "$\\mathbf{x}_t = q(\\mathbf{x}_t | \\mathbf{x}_0)$\n",
        "\n",
        "$\\mathbf{x}_s = DDIM(\\epsilon_\\theta(\\mathbf{x}_t, t), \\mathbf{x}_t, t, s)$\n",
        "\n",
        "**Замечание:**\n",
        "В text-to-image генерации *classifier-free guidance (CFG)* играет очень важную роль для получения хорошего качества с помощью диффузии.\n",
        "CFG меняет траектории ODE и раз нам он важен, то давайте и дистиллировать траектории с CFG.\n",
        "\n",
        "Поэтому для получения точки $\\mathbf{x}_{s}$ мы будем использовать шаг учителя с CFG. Это важное отличие от CT сеттинга - там мы не можем моделировать гайденс."
      ]
    },
    {
      "cell_type": "code",
      "execution_count": 36,
      "id": "98399cfb",
      "metadata": {
        "id": "98399cfb"
      },
      "outputs": [],
      "source": [
        "unet = unet.to(torch.float32)\n",
        "unet.train()\n",
        "assert unet.dtype == torch.float32\n",
        "\n",
        "# Добавляем новые LoRA адаптеры для CD модели\n",
        "cm_unet.add_adapter(\"cd\", lora_config)\n",
        "cm_unet.set_adapter(\"cd\")\n",
        "\n",
        "# Пересоздаем оптимизатор\n",
        "optimizer = torch.optim.AdamW(cm_unet.parameters(), lr=1e-4)"
      ]
    },
    {
      "cell_type": "code",
      "execution_count": 37,
      "id": "67eda898",
      "metadata": {
        "id": "67eda898",
        "outputId": "cfe75bb0-2892-46c5-d746-b44772694f42",
        "colab": {
          "base_uri": "https://localhost:8080/",
          "height": 108
        }
      },
      "outputs": [
        {
          "output_type": "error",
          "ename": "SyntaxError",
          "evalue": "invalid syntax (<ipython-input-37-8f70bb2d8ca2>, line 11)",
          "traceback": [
            "\u001b[0;36m  File \u001b[0;32m\"<ipython-input-37-8f70bb2d8ca2>\"\u001b[0;36m, line \u001b[0;32m11\u001b[0m\n\u001b[0;31m    cond_noise_pred = <YOUR CODE HERE>\u001b[0m\n\u001b[0m                      ^\u001b[0m\n\u001b[0;31mSyntaxError\u001b[0m\u001b[0;31m:\u001b[0m invalid syntax\n"
          ]
        }
      ],
      "source": [
        "@torch.no_grad()\n",
        "def get_xs_from_xt_with_teacher(\n",
        "    x_0, x_t, t, s, # Не все эти аргументы могут быть вам нужны\n",
        "    scheduler,\n",
        "    prompt_embeds,\n",
        "    teacher_unet,\n",
        "    guidance_scale,\n",
        "    **kwargs\n",
        "):\n",
        "    # Делаем предсказание учителем в кондишион случае: подаем эмбеды текста\n",
        "    cond_noise_pred = <YOUR CODE HERE>\n",
        "\n",
        "    # Для CFG нам нужно делать предсказания в unconditional случае.\n",
        "    # Для T2I моделей, мы будем это моделировать предсказаниями для пустого промпта \"\"\n",
        "    # Извлечем эмбеды из пустого промпта и размножить их до размера батча\n",
        "    uncond_input_ids = pipe.tokenizer(\n",
        "        [\"\"], return_tensors=\"pt\", padding=\"max_length\", max_length=77\n",
        "    ).input_ids.to(\"cuda\")\n",
        "\n",
        "    uncond_prompt_embeds = pipe.text_encoder(uncond_input_ids)[0].expand(\n",
        "        *prompt_embeds.shape\n",
        "    )\n",
        "\n",
        "    # Затем прогоняем модель для пустых промптов\n",
        "    uncond_noise_pred = <YOUR CODE HERE>\n",
        "\n",
        "    # Применяем CFG формулу и получаем итоговый предикт учителя\n",
        "    noise_pred = <YOUR CODE HERE>\n",
        "\n",
        "    # Получаем x_s из x_t\n",
        "    x_s = <YOUR CODE HERE>\n",
        "    return x_s\n",
        "\n",
        "\n",
        "# Сразу зададим внутрь модель учителя и guidance_scale\n",
        "get_xs_from_xt_with_teacher = functools.partial(\n",
        "    get_xs_from_xt_with_teacher,\n",
        "    teacher_unet=teacher_unet,\n",
        "    guidance_scale=7.5\n",
        ")"
      ]
    },
    {
      "cell_type": "markdown",
      "id": "765f39be",
      "metadata": {
        "id": "765f39be"
      },
      "source": [
        "Еще, как показано в работе [Improved Techniques for Training Consistency Models](https://arxiv.org/pdf/2310.14189).\n",
        "L2 лосс не самый оптимальный выбор для консистенси моделей.\n",
        "Давайте в CD обучении также заменим MSE лосс на pseudo-huber лосс из статьи."
      ]
    },
    {
      "cell_type": "code",
      "execution_count": 38,
      "id": "878a5bac",
      "metadata": {
        "id": "878a5bac",
        "outputId": "afaad365-e748-4b11-9ce0-a0e7a87b8046",
        "colab": {
          "base_uri": "https://localhost:8080/",
          "height": 108
        }
      },
      "outputs": [
        {
          "output_type": "error",
          "ename": "SyntaxError",
          "evalue": "invalid syntax (<ipython-input-38-4ec19b8273e4>, line 6)",
          "traceback": [
            "\u001b[0;36m  File \u001b[0;32m\"<ipython-input-38-4ec19b8273e4>\"\u001b[0;36m, line \u001b[0;32m6\u001b[0m\n\u001b[0;31m    loss = <YOUR CODE HERE>\u001b[0m\n\u001b[0m           ^\u001b[0m\n\u001b[0;31mSyntaxError\u001b[0m\u001b[0;31m:\u001b[0m invalid syntax\n"
          ]
        }
      ],
      "source": [
        "def pseudo_huber_loss(\n",
        "    x: torch.Tensor,\n",
        "    y: torch.Tensor,\n",
        "    c=0.001\n",
        "):\n",
        "    loss = <YOUR CODE HERE>\n",
        "    return loss"
      ]
    },
    {
      "cell_type": "code",
      "execution_count": 39,
      "id": "12855c88",
      "metadata": {
        "id": "12855c88",
        "outputId": "631f5654-d432-4526-c48e-bccd14158571",
        "colab": {
          "base_uri": "https://localhost:8080/",
          "height": 216
        }
      },
      "outputs": [
        {
          "output_type": "error",
          "ename": "NameError",
          "evalue": "name 'pseudo_huber_loss' is not defined",
          "traceback": [
            "\u001b[0;31m---------------------------------------------------------------------------\u001b[0m",
            "\u001b[0;31mNameError\u001b[0m                                 Traceback (most recent call last)",
            "\u001b[0;32m<ipython-input-39-81564ca03e72>\u001b[0m in \u001b[0;36m<cell line: 1>\u001b[0;34m()\u001b[0m\n\u001b[1;32m      2\u001b[0m     \u001b[0mcm_loss_template\u001b[0m\u001b[0;34m,\u001b[0m\u001b[0;34m\u001b[0m\u001b[0;34m\u001b[0m\u001b[0m\n\u001b[1;32m      3\u001b[0m \u001b[0;34m\u001b[0m\u001b[0m\n\u001b[0;32m----> 4\u001b[0;31m     \u001b[0mloss_fn\u001b[0m\u001b[0;34m=\u001b[0m\u001b[0mpseudo_huber_loss\u001b[0m\u001b[0;34m,\u001b[0m\u001b[0;34m\u001b[0m\u001b[0;34m\u001b[0m\u001b[0m\n\u001b[0m\u001b[1;32m      5\u001b[0m     \u001b[0mget_boundary_timesteps\u001b[0m\u001b[0;34m=\u001b[0m\u001b[0mget_zero_boundary_timesteps\u001b[0m\u001b[0;34m,\u001b[0m\u001b[0;34m\u001b[0m\u001b[0;34m\u001b[0m\u001b[0m\n\u001b[1;32m      6\u001b[0m     \u001b[0mget_xs_from_xt\u001b[0m\u001b[0;34m=\u001b[0m\u001b[0mget_xs_from_xt_with_teacher\u001b[0m\u001b[0;34m\u001b[0m\u001b[0;34m\u001b[0m\u001b[0m\n",
            "\u001b[0;31mNameError\u001b[0m: name 'pseudo_huber_loss' is not defined"
          ]
        }
      ],
      "source": [
        "cd_loss = functools.partial(\n",
        "    cm_loss_template,\n",
        "\n",
        "    loss_fn=pseudo_huber_loss,\n",
        "    get_boundary_timesteps=get_zero_boundary_timesteps,\n",
        "    get_xs_from_xt=get_xs_from_xt_with_teacher\n",
        ")\n",
        "\n",
        "assert cm_unet.active_adapter == 'cd'"
      ]
    },
    {
      "cell_type": "markdown",
      "id": "79db78ad",
      "metadata": {
        "id": "79db78ad"
      },
      "source": [
        "**Теперь обучим модель в CD режиме**"
      ]
    },
    {
      "cell_type": "code",
      "execution_count": null,
      "id": "a3035cf7",
      "metadata": {
        "id": "a3035cf7"
      },
      "outputs": [],
      "source": [
        "num_grad_accum = 2 # обновляем параметры каждые 2 шага\n",
        "\n",
        "train_loop(cm_unet, pipe, train_dataloader, optimizer, cd_loss, num_grad_accum)"
      ]
    },
    {
      "cell_type": "markdown",
      "id": "971622aa",
      "metadata": {
        "id": "971622aa"
      },
      "source": [
        "### Снова сэмплируем\n",
        "\n",
        "Обратим внимание, что тут мы сэмпилруем без гайденса, потому что мы его уже частично прокинули в модель, когда делали шаг учителя с CFG.\n",
        "\n",
        "Снова для референса приводим картинки на этом этапе:\n",
        "\n",
        "![img](https://i.postimg.cc/mgrsxVfW/download-1.png)\n",
        "\n",
        "**Ваши картинки не обязаны совпадать: у вас могут быть немного менее/более качественные. Небольшая разница по качеству на оценку не влиет.**"
      ]
    },
    {
      "cell_type": "code",
      "execution_count": 40,
      "id": "46e13eb6",
      "metadata": {
        "id": "46e13eb6",
        "outputId": "e4fce173-19a6-4091-d602-b1ad4e9f36fa",
        "colab": {
          "base_uri": "https://localhost:8080/",
          "height": 108
        }
      },
      "outputs": [
        {
          "output_type": "error",
          "ename": "SyntaxError",
          "evalue": "invalid syntax (<ipython-input-40-4f5eade5870e>, line 8)",
          "traceback": [
            "\u001b[0;36m  File \u001b[0;32m\"<ipython-input-40-4f5eade5870e>\"\u001b[0;36m, line \u001b[0;32m8\u001b[0m\n\u001b[0;31m    images = <YOUR CODE HERE>\u001b[0m\n\u001b[0m             ^\u001b[0m\n\u001b[0;31mSyntaxError\u001b[0m\u001b[0;31m:\u001b[0m invalid syntax\n"
          ]
        }
      ],
      "source": [
        "# Подставляем нашу новую обученную модель в пайплайн\n",
        "pipe.unet = cm_unet.eval().to(torch.float16)\n",
        "assert cm_unet.active_adapter == 'cd'\n",
        "\n",
        "generator = torch.Generator(device=\"cuda\").manual_seed(0)\n",
        "guidance_scale = 0\n",
        "\n",
        "images = <YOUR CODE HERE>\n",
        "\n",
        "visualize_images(images)"
      ]
    },
    {
      "cell_type": "markdown",
      "id": "30be7c1e",
      "metadata": {
        "id": "30be7c1e"
      },
      "source": [
        "#### Давайте посмотрим на картинки для других промптов\n"
      ]
    },
    {
      "cell_type": "code",
      "execution_count": null,
      "id": "4bae76af",
      "metadata": {
        "id": "4bae76af"
      },
      "outputs": [],
      "source": [
        "validation_prompts = [\n",
        "    \"A sad puppy with large eyes\",\n",
        "    \"Astronaut in a jungle, cold color palette, muted colors, detailed, 8k\",\n",
        "    \"A photo of beautiful mountain with realistic sunset and blue lake, highly detailed, masterpiece\",\n",
        "    \"A girl with pale blue hair and a cami tank top\",\n",
        "    \"A lighthouse in a giant wave, origami style\",\n",
        "    \"belle epoque, christmas, red house in the forest, photo realistic, 8k\",\n",
        "    \"A small cactus with a happy face in the Sahara desert\",\n",
        "    \"Green commercial building with refrigerator and refrigeration units outside\",\n",
        "]\n",
        "\n",
        "for prompt in validation_prompts:\n",
        "    generator = torch.Generator(device=\"cuda\").manual_seed(0)\n",
        "\n",
        "    images = <YOUR CODE HERE>\n",
        "\n",
        "    visualize_images(images)"
      ]
    },
    {
      "cell_type": "markdown",
      "id": "9294acc5",
      "metadata": {
        "id": "9294acc5"
      },
      "source": [
        "# Multi-boundary Сonsistency Distillation\n",
        "<div>\n",
        "<img src=https://i.postimg.cc/tTzCv476/multi-cd.jpg width=600>\n",
        "<div>\n",
        "\n",
        "   В конце мы рассмотрим недавнюю модификацию CD, *Multi-boundary CD*, где интегрируем не всю траекторию сразу и потом сэмплируем с возвращением назад, а разбиваем траектории на $K$ отрезков и применяет CD внутри каждого отрезка независимо. Например, на картинке выше у нас два отрезка: зеленым и красным выделены две граничные точки.\n",
        "Для классического CD, рассмотренного ранее, у нас только одна граничная точка в $t = 0$\n",
        "    \n",
        "**Обратим внимание**, что сэмплирование становится детерминистичным и можно снова использовать DDIM солвер, где число шагов равно числу интервалов $K$, на которые мы разбили траектории во время обучения.\n",
        "\n",
        "Этот метод гораздо лучше работает чем обычный CD, потому что решать задачу CD на отрезках, а не на всей траектории, гораздо проще. В текущем задании мы разобьем траекторию на $K=4$ отрезка.\n",
        "\n",
        "Подробнее почитать можно в этой [статье](https://arxiv.org/pdf/2403.06807)."
      ]
    },
    {
      "cell_type": "markdown",
      "id": "95f05839",
      "metadata": {
        "id": "95f05839"
      },
      "source": [
        "## Задание №7 (0.25 балла, сдается в контесте)\n",
        "\n",
        "Ниже реализуйте функцию, которая для $K=4$ отрезков будет сопоставлять таймстепам соответствующие граничные точки.\n",
        "\n",
        "Например, для $K=2$ отрезков граничные точки будут: [0, 499]\n",
        "\n",
        "$0 \\leq t < 499$ -> граничная точка - $0$\n",
        "\n",
        "$499 \\leq t < 999$ -> граничная точка - $499$\n",
        "\n",
        "**Замечание:** помним, что интервал между $t$ и $s$ - 20 шагов.\n"
      ]
    },
    {
      "cell_type": "code",
      "execution_count": null,
      "id": "c7d2dbb2",
      "metadata": {
        "id": "c7d2dbb2"
      },
      "outputs": [],
      "source": [
        "def get_multi_boundary_timesteps(\n",
        "    timesteps,\n",
        "    num_boundaries=4,\n",
        "    num_timesteps=1000,\n",
        "):\n",
        "    \"\"\"\n",
        "    Для батча таймстепов определяем соответствующие граничные точки.\n",
        "    params:\n",
        "        timesteps: torch.Tensor(batch_size, device='cuda')\n",
        "    returns:\n",
        "        boundary_timesteps: torch.Tensor(batch_size, device='cuda')\n",
        "    \"\"\"\n",
        "    # Здесь важно повыводить timesteps и boundary_timesteps перед обучением,\n",
        "    # чтобы не перелетать граничные точки и при этом иногда попадать в них.\n",
        "\n",
        "    <YOUR CODE HERE>\n",
        "    return boundary_timesteps"
      ]
    },
    {
      "cell_type": "code",
      "execution_count": null,
      "id": "c4c1c0eb",
      "metadata": {
        "id": "c4c1c0eb"
      },
      "outputs": [],
      "source": [
        "multi_cd_loss = functools.partial(\n",
        "    cm_loss_template,\n",
        "\n",
        "    loss_fn=pseudo_huber_loss,\n",
        "    get_boundary_timesteps=get_multi_boundary_timesteps,\n",
        "    get_xs_from_xt=get_xs_from_xt_with_teacher\n",
        ")\n",
        "assert cm_unet.active_adapter == 'multi-cd'"
      ]
    },
    {
      "cell_type": "markdown",
      "id": "3d86175a",
      "metadata": {
        "id": "3d86175a"
      },
      "source": [
        "**Теперь обучим  Multi-boundary CD модель**"
      ]
    },
    {
      "cell_type": "code",
      "execution_count": null,
      "id": "aded4086",
      "metadata": {
        "id": "aded4086"
      },
      "outputs": [],
      "source": [
        "num_grad_accum = 2 # обновляем параметры каждые 2 шага\n",
        "\n",
        "train_loop(cm_unet, pipe, train_dataloader, optimizer, multi_cd_loss, num_grad_accum)"
      ]
    },
    {
      "cell_type": "markdown",
      "id": "2e28f872",
      "metadata": {
        "id": "2e28f872"
      },
      "source": [
        "### И в последний раз сэмплируем\n",
        "\n",
        "**Важно:** теперь у нас появляется возможно сэмплировать детерминистично с помощью оригинального солвера DDIM за 4 шага. Так что возвращаем сэмплирование исходным pipe-ом.\n",
        "\n",
        "Ниже прикрепляем референс и напомним, что у вас картинки могут отличаться и быть чуть хуже/лучше.\n",
        "![img](https://i.postimg.cc/gjYzQ0n2/download-2.png)"
      ]
    },
    {
      "cell_type": "code",
      "execution_count": null,
      "id": "90aa9bcc",
      "metadata": {
        "id": "90aa9bcc"
      },
      "outputs": [],
      "source": [
        "pipe.unet = cm_unet.eval().to(torch.float16)\n",
        "assert cm_unet.active_adapter == 'multi-cd'\n",
        "\n",
        "guidance_scale = 1\n",
        "\n",
        "for prompt in validation_prompts:\n",
        "    generator = torch.Generator(device=\"cuda\").manual_seed(1)\n",
        "\n",
        "    images = <YOUR CODE HERE>\n",
        "\n",
        "    visualize_images(images)"
      ]
    },
    {
      "cell_type": "markdown",
      "id": "403e782d",
      "metadata": {
        "id": "403e782d"
      },
      "source": [
        "## Задание №8\n",
        "\n",
        "Все, что осталось сделать - это загрузить ваши обученные модельки на huggingface_hub.\n",
        "Это очень популярный и удобный способ для хранения моделей, которые легко можно загружать и подставлять в модель.\n",
        "Другими словами GitHub для моделей и датасетов.\n",
        "\n",
        "1) Создайте аккаунт на [huggingface.co](huggingface.co)\n",
        "\n",
        "2) Получите свой HF токен, который можно получить здесь: https://huggingface.co/settings/tokens\n",
        "\n",
        "3) Создайте репозиторий для ваших моделями https://huggingface.co/new\n",
        "\n",
        "**Важно: перед отправкой нотбука на проверку, не забудьте удалить свой HF токен!**"
      ]
    },
    {
      "cell_type": "code",
      "execution_count": null,
      "id": "7c8e08bf",
      "metadata": {
        "id": "7c8e08bf"
      },
      "outputs": [],
      "source": [
        "cm_unet.push_to_hub(\n",
        "    <YOUR REPO NAME HERE>, # \"<username>/<repo-name>\"\n",
        "    token=<YOUR HF TOKEN HERE>\n",
        ")"
      ]
    },
    {
      "cell_type": "markdown",
      "id": "214be7df",
      "metadata": {
        "id": "214be7df"
      },
      "source": [
        "Пример, как должен выглядеть результат выполнения команды: https://huggingface.co/dbaranchuk/cv-week-final-task-example\n",
        "\n",
        "Давайте проверим, что загрузка модели корректно работает."
      ]
    },
    {
      "cell_type": "code",
      "execution_count": null,
      "id": "b9caee95",
      "metadata": {
        "id": "b9caee95"
      },
      "outputs": [],
      "source": [
        "from peft import PeftModel\n",
        "\n",
        "loaded_cm_unet = PeftModel.from_pretrained(\n",
        "    unet,\n",
        "    <YOUR REPO NAME HERE>,\n",
        "    token=<YOUR HF TOKEN HERE>,\n",
        "    subfolder='multi-cd',\n",
        "    adapter_name=\"multi-cd\",\n",
        ")"
      ]
    },
    {
      "cell_type": "code",
      "execution_count": null,
      "id": "ad678713",
      "metadata": {
        "id": "ad678713"
      },
      "outputs": [],
      "source": [
        "pipe.unet = loaded_cm_unet.eval().to(torch.float16)\n",
        "assert loaded_cm_unet.active_adapter == 'multi-cd'\n",
        "\n",
        "guidance_scale = 1\n",
        "\n",
        "for prompt in validation_prompts:\n",
        "    generator = torch.Generator(device=\"cuda\").manual_seed(1)\n",
        "\n",
        "    images = <YOUR CODE HERE>\n",
        "кст\n",
        "    visualize_images(images)"
      ]
    },
    {
      "cell_type": "markdown",
      "id": "508112b9",
      "metadata": {
        "id": "508112b9"
      },
      "source": [
        "**На этом все! Ура!**\n",
        "\n",
        "<div>\n",
        "<img src=\"https://i.postimg.cc/jq8F6Yvk/photo-2024-11-27-21-57-13.jpg\" width=400>\n",
        "<div>"
      ]
    },
    {
      "cell_type": "markdown",
      "id": "7582f3d8",
      "metadata": {
        "id": "7582f3d8"
      },
      "source": [
        "### P.S. Некоторые примеры плохих генераций, которые могут возникать при выполнении задания\n",
        "\n",
        "#### Неправильный сэмплинг\n",
        "\n",
        "![img](https://i.postimg.cc/TYM2vR4M/photo-2024-11-29-02-14-50.jpg)\n",
        "\n",
        "![img](https://i.postimg.cc/XYnVXsWs/photo-2024-11-29-02-16-00.jpg)\n",
        "\n",
        "#### Ошибки в обучении\n",
        "\n",
        "![img](https://i.postimg.cc/XJfHZk4g/photo-2024-11-29-02-35-05.jpg)\n",
        "![img](https://i.postimg.cc/RF5pVD5F/photo-2024-11-29-02-24-38.jpg)\n",
        "\n",
        "#### Необученная модель\n",
        "\n",
        "![img](https://i.postimg.cc/8zwTvLPN/photo-2024-11-29-01-58-36.jpg)\n"
      ]
    },
    {
      "cell_type": "code",
      "execution_count": null,
      "id": "933b6b91",
      "metadata": {
        "id": "933b6b91"
      },
      "outputs": [],
      "source": []
    }
  ],
  "metadata": {
    "accelerator": "GPU",
    "colab": {
      "gpuType": "T4",
      "provenance": []
    },
    "kernelspec": {
      "display_name": "Python 3 (ipykernel)",
      "language": "python",
      "name": "python3"
    },
    "language_info": {
      "codemirror_mode": {
        "name": "ipython",
        "version": 3
      },
      "file_extension": ".py",
      "mimetype": "text/x-python",
      "name": "python",
      "nbconvert_exporter": "python",
      "pygments_lexer": "ipython3",
      "version": "3.10.15"
    },
    "widgets": {
      "application/vnd.jupyter.widget-state+json": {
        "9e6e5db9551840acb6cdf11309fb2974": {
          "model_module": "@jupyter-widgets/controls",
          "model_name": "HBoxModel",
          "model_module_version": "1.5.0",
          "state": {
            "_dom_classes": [],
            "_model_module": "@jupyter-widgets/controls",
            "_model_module_version": "1.5.0",
            "_model_name": "HBoxModel",
            "_view_count": null,
            "_view_module": "@jupyter-widgets/controls",
            "_view_module_version": "1.5.0",
            "_view_name": "HBoxView",
            "box_style": "",
            "children": [
              "IPY_MODEL_b889e8cf31eb4f819161439a35f2bb7e",
              "IPY_MODEL_fee34c14a2bc4e92b6783c47185cda17",
              "IPY_MODEL_bdd1e792f0ae45a8a770c72a2ef963f1"
            ],
            "layout": "IPY_MODEL_276bed18dd4544309e866bc457797709"
          }
        },
        "b889e8cf31eb4f819161439a35f2bb7e": {
          "model_module": "@jupyter-widgets/controls",
          "model_name": "HTMLModel",
          "model_module_version": "1.5.0",
          "state": {
            "_dom_classes": [],
            "_model_module": "@jupyter-widgets/controls",
            "_model_module_version": "1.5.0",
            "_model_name": "HTMLModel",
            "_view_count": null,
            "_view_module": "@jupyter-widgets/controls",
            "_view_module_version": "1.5.0",
            "_view_name": "HTMLView",
            "description": "",
            "description_tooltip": null,
            "layout": "IPY_MODEL_64a3d28731b74c35b55170593fc4a400",
            "placeholder": "​",
            "style": "IPY_MODEL_c7f8272fd1054334947dba562fc54cfe",
            "value": "Loading pipeline components...: 100%"
          }
        },
        "fee34c14a2bc4e92b6783c47185cda17": {
          "model_module": "@jupyter-widgets/controls",
          "model_name": "FloatProgressModel",
          "model_module_version": "1.5.0",
          "state": {
            "_dom_classes": [],
            "_model_module": "@jupyter-widgets/controls",
            "_model_module_version": "1.5.0",
            "_model_name": "FloatProgressModel",
            "_view_count": null,
            "_view_module": "@jupyter-widgets/controls",
            "_view_module_version": "1.5.0",
            "_view_name": "ProgressView",
            "bar_style": "success",
            "description": "",
            "description_tooltip": null,
            "layout": "IPY_MODEL_a1839b5fc8464ee8a975f9037599ae8c",
            "max": 7,
            "min": 0,
            "orientation": "horizontal",
            "style": "IPY_MODEL_cb6b386ec4ac41519ae71b3e715d308f",
            "value": 7
          }
        },
        "bdd1e792f0ae45a8a770c72a2ef963f1": {
          "model_module": "@jupyter-widgets/controls",
          "model_name": "HTMLModel",
          "model_module_version": "1.5.0",
          "state": {
            "_dom_classes": [],
            "_model_module": "@jupyter-widgets/controls",
            "_model_module_version": "1.5.0",
            "_model_name": "HTMLModel",
            "_view_count": null,
            "_view_module": "@jupyter-widgets/controls",
            "_view_module_version": "1.5.0",
            "_view_name": "HTMLView",
            "description": "",
            "description_tooltip": null,
            "layout": "IPY_MODEL_ce1ae26c29764b2bbf3a554cf5d9ad6c",
            "placeholder": "​",
            "style": "IPY_MODEL_2c6447f7e4a8453882759fd99c0d217f",
            "value": " 7/7 [00:20&lt;00:00,  3.00s/it]"
          }
        },
        "276bed18dd4544309e866bc457797709": {
          "model_module": "@jupyter-widgets/base",
          "model_name": "LayoutModel",
          "model_module_version": "1.2.0",
          "state": {
            "_model_module": "@jupyter-widgets/base",
            "_model_module_version": "1.2.0",
            "_model_name": "LayoutModel",
            "_view_count": null,
            "_view_module": "@jupyter-widgets/base",
            "_view_module_version": "1.2.0",
            "_view_name": "LayoutView",
            "align_content": null,
            "align_items": null,
            "align_self": null,
            "border": null,
            "bottom": null,
            "display": null,
            "flex": null,
            "flex_flow": null,
            "grid_area": null,
            "grid_auto_columns": null,
            "grid_auto_flow": null,
            "grid_auto_rows": null,
            "grid_column": null,
            "grid_gap": null,
            "grid_row": null,
            "grid_template_areas": null,
            "grid_template_columns": null,
            "grid_template_rows": null,
            "height": null,
            "justify_content": null,
            "justify_items": null,
            "left": null,
            "margin": null,
            "max_height": null,
            "max_width": null,
            "min_height": null,
            "min_width": null,
            "object_fit": null,
            "object_position": null,
            "order": null,
            "overflow": null,
            "overflow_x": null,
            "overflow_y": null,
            "padding": null,
            "right": null,
            "top": null,
            "visibility": null,
            "width": null
          }
        },
        "64a3d28731b74c35b55170593fc4a400": {
          "model_module": "@jupyter-widgets/base",
          "model_name": "LayoutModel",
          "model_module_version": "1.2.0",
          "state": {
            "_model_module": "@jupyter-widgets/base",
            "_model_module_version": "1.2.0",
            "_model_name": "LayoutModel",
            "_view_count": null,
            "_view_module": "@jupyter-widgets/base",
            "_view_module_version": "1.2.0",
            "_view_name": "LayoutView",
            "align_content": null,
            "align_items": null,
            "align_self": null,
            "border": null,
            "bottom": null,
            "display": null,
            "flex": null,
            "flex_flow": null,
            "grid_area": null,
            "grid_auto_columns": null,
            "grid_auto_flow": null,
            "grid_auto_rows": null,
            "grid_column": null,
            "grid_gap": null,
            "grid_row": null,
            "grid_template_areas": null,
            "grid_template_columns": null,
            "grid_template_rows": null,
            "height": null,
            "justify_content": null,
            "justify_items": null,
            "left": null,
            "margin": null,
            "max_height": null,
            "max_width": null,
            "min_height": null,
            "min_width": null,
            "object_fit": null,
            "object_position": null,
            "order": null,
            "overflow": null,
            "overflow_x": null,
            "overflow_y": null,
            "padding": null,
            "right": null,
            "top": null,
            "visibility": null,
            "width": null
          }
        },
        "c7f8272fd1054334947dba562fc54cfe": {
          "model_module": "@jupyter-widgets/controls",
          "model_name": "DescriptionStyleModel",
          "model_module_version": "1.5.0",
          "state": {
            "_model_module": "@jupyter-widgets/controls",
            "_model_module_version": "1.5.0",
            "_model_name": "DescriptionStyleModel",
            "_view_count": null,
            "_view_module": "@jupyter-widgets/base",
            "_view_module_version": "1.2.0",
            "_view_name": "StyleView",
            "description_width": ""
          }
        },
        "a1839b5fc8464ee8a975f9037599ae8c": {
          "model_module": "@jupyter-widgets/base",
          "model_name": "LayoutModel",
          "model_module_version": "1.2.0",
          "state": {
            "_model_module": "@jupyter-widgets/base",
            "_model_module_version": "1.2.0",
            "_model_name": "LayoutModel",
            "_view_count": null,
            "_view_module": "@jupyter-widgets/base",
            "_view_module_version": "1.2.0",
            "_view_name": "LayoutView",
            "align_content": null,
            "align_items": null,
            "align_self": null,
            "border": null,
            "bottom": null,
            "display": null,
            "flex": null,
            "flex_flow": null,
            "grid_area": null,
            "grid_auto_columns": null,
            "grid_auto_flow": null,
            "grid_auto_rows": null,
            "grid_column": null,
            "grid_gap": null,
            "grid_row": null,
            "grid_template_areas": null,
            "grid_template_columns": null,
            "grid_template_rows": null,
            "height": null,
            "justify_content": null,
            "justify_items": null,
            "left": null,
            "margin": null,
            "max_height": null,
            "max_width": null,
            "min_height": null,
            "min_width": null,
            "object_fit": null,
            "object_position": null,
            "order": null,
            "overflow": null,
            "overflow_x": null,
            "overflow_y": null,
            "padding": null,
            "right": null,
            "top": null,
            "visibility": null,
            "width": null
          }
        },
        "cb6b386ec4ac41519ae71b3e715d308f": {
          "model_module": "@jupyter-widgets/controls",
          "model_name": "ProgressStyleModel",
          "model_module_version": "1.5.0",
          "state": {
            "_model_module": "@jupyter-widgets/controls",
            "_model_module_version": "1.5.0",
            "_model_name": "ProgressStyleModel",
            "_view_count": null,
            "_view_module": "@jupyter-widgets/base",
            "_view_module_version": "1.2.0",
            "_view_name": "StyleView",
            "bar_color": null,
            "description_width": ""
          }
        },
        "ce1ae26c29764b2bbf3a554cf5d9ad6c": {
          "model_module": "@jupyter-widgets/base",
          "model_name": "LayoutModel",
          "model_module_version": "1.2.0",
          "state": {
            "_model_module": "@jupyter-widgets/base",
            "_model_module_version": "1.2.0",
            "_model_name": "LayoutModel",
            "_view_count": null,
            "_view_module": "@jupyter-widgets/base",
            "_view_module_version": "1.2.0",
            "_view_name": "LayoutView",
            "align_content": null,
            "align_items": null,
            "align_self": null,
            "border": null,
            "bottom": null,
            "display": null,
            "flex": null,
            "flex_flow": null,
            "grid_area": null,
            "grid_auto_columns": null,
            "grid_auto_flow": null,
            "grid_auto_rows": null,
            "grid_column": null,
            "grid_gap": null,
            "grid_row": null,
            "grid_template_areas": null,
            "grid_template_columns": null,
            "grid_template_rows": null,
            "height": null,
            "justify_content": null,
            "justify_items": null,
            "left": null,
            "margin": null,
            "max_height": null,
            "max_width": null,
            "min_height": null,
            "min_width": null,
            "object_fit": null,
            "object_position": null,
            "order": null,
            "overflow": null,
            "overflow_x": null,
            "overflow_y": null,
            "padding": null,
            "right": null,
            "top": null,
            "visibility": null,
            "width": null
          }
        },
        "2c6447f7e4a8453882759fd99c0d217f": {
          "model_module": "@jupyter-widgets/controls",
          "model_name": "DescriptionStyleModel",
          "model_module_version": "1.5.0",
          "state": {
            "_model_module": "@jupyter-widgets/controls",
            "_model_module_version": "1.5.0",
            "_model_name": "DescriptionStyleModel",
            "_view_count": null,
            "_view_module": "@jupyter-widgets/base",
            "_view_module_version": "1.2.0",
            "_view_name": "StyleView",
            "description_width": ""
          }
        },
        "e97445ae4577494d85bb924e58448b54": {
          "model_module": "@jupyter-widgets/controls",
          "model_name": "HBoxModel",
          "model_module_version": "1.5.0",
          "state": {
            "_dom_classes": [],
            "_model_module": "@jupyter-widgets/controls",
            "_model_module_version": "1.5.0",
            "_model_name": "HBoxModel",
            "_view_count": null,
            "_view_module": "@jupyter-widgets/controls",
            "_view_module_version": "1.5.0",
            "_view_name": "HBoxView",
            "box_style": "",
            "children": [
              "IPY_MODEL_bb773997f9cd43b9bea87393d8ec6354",
              "IPY_MODEL_7c23f2433a754325b3705ea7f5ece5ac",
              "IPY_MODEL_a6b4eb712cd14383bd71cb97cf47233b"
            ],
            "layout": "IPY_MODEL_ef390eb1731a4631bb7b04c2569c0e37"
          }
        },
        "bb773997f9cd43b9bea87393d8ec6354": {
          "model_module": "@jupyter-widgets/controls",
          "model_name": "HTMLModel",
          "model_module_version": "1.5.0",
          "state": {
            "_dom_classes": [],
            "_model_module": "@jupyter-widgets/controls",
            "_model_module_version": "1.5.0",
            "_model_name": "HTMLModel",
            "_view_count": null,
            "_view_module": "@jupyter-widgets/controls",
            "_view_module_version": "1.5.0",
            "_view_name": "HTMLView",
            "description": "",
            "description_tooltip": null,
            "layout": "IPY_MODEL_2e718c5e7886410cb9e4f902d9566d50",
            "placeholder": "​",
            "style": "IPY_MODEL_2130f6b6fcb0417aa98f01cb49518d88",
            "value": " 41%"
          }
        },
        "7c23f2433a754325b3705ea7f5ece5ac": {
          "model_module": "@jupyter-widgets/controls",
          "model_name": "FloatProgressModel",
          "model_module_version": "1.5.0",
          "state": {
            "_dom_classes": [],
            "_model_module": "@jupyter-widgets/controls",
            "_model_module_version": "1.5.0",
            "_model_name": "FloatProgressModel",
            "_view_count": null,
            "_view_module": "@jupyter-widgets/controls",
            "_view_module_version": "1.5.0",
            "_view_name": "ProgressView",
            "bar_style": "danger",
            "description": "",
            "description_tooltip": null,
            "layout": "IPY_MODEL_4a1e7179c9154e6ab304825b9b0a6c62",
            "max": 312,
            "min": 0,
            "orientation": "horizontal",
            "style": "IPY_MODEL_25cfe8f959444a09b91ff941290e9660",
            "value": 128
          }
        },
        "a6b4eb712cd14383bd71cb97cf47233b": {
          "model_module": "@jupyter-widgets/controls",
          "model_name": "HTMLModel",
          "model_module_version": "1.5.0",
          "state": {
            "_dom_classes": [],
            "_model_module": "@jupyter-widgets/controls",
            "_model_module_version": "1.5.0",
            "_model_name": "HTMLModel",
            "_view_count": null,
            "_view_module": "@jupyter-widgets/controls",
            "_view_module_version": "1.5.0",
            "_view_name": "HTMLView",
            "description": "",
            "description_tooltip": null,
            "layout": "IPY_MODEL_35336c1418f84b1c9a1d83583189bf29",
            "placeholder": "​",
            "style": "IPY_MODEL_127f920fbe3c4f14b92d88bd1650dd05",
            "value": " 128/312 [07:46&lt;11:43,  3.82s/it]"
          }
        },
        "ef390eb1731a4631bb7b04c2569c0e37": {
          "model_module": "@jupyter-widgets/base",
          "model_name": "LayoutModel",
          "model_module_version": "1.2.0",
          "state": {
            "_model_module": "@jupyter-widgets/base",
            "_model_module_version": "1.2.0",
            "_model_name": "LayoutModel",
            "_view_count": null,
            "_view_module": "@jupyter-widgets/base",
            "_view_module_version": "1.2.0",
            "_view_name": "LayoutView",
            "align_content": null,
            "align_items": null,
            "align_self": null,
            "border": null,
            "bottom": null,
            "display": null,
            "flex": null,
            "flex_flow": null,
            "grid_area": null,
            "grid_auto_columns": null,
            "grid_auto_flow": null,
            "grid_auto_rows": null,
            "grid_column": null,
            "grid_gap": null,
            "grid_row": null,
            "grid_template_areas": null,
            "grid_template_columns": null,
            "grid_template_rows": null,
            "height": null,
            "justify_content": null,
            "justify_items": null,
            "left": null,
            "margin": null,
            "max_height": null,
            "max_width": null,
            "min_height": null,
            "min_width": null,
            "object_fit": null,
            "object_position": null,
            "order": null,
            "overflow": null,
            "overflow_x": null,
            "overflow_y": null,
            "padding": null,
            "right": null,
            "top": null,
            "visibility": null,
            "width": null
          }
        },
        "2e718c5e7886410cb9e4f902d9566d50": {
          "model_module": "@jupyter-widgets/base",
          "model_name": "LayoutModel",
          "model_module_version": "1.2.0",
          "state": {
            "_model_module": "@jupyter-widgets/base",
            "_model_module_version": "1.2.0",
            "_model_name": "LayoutModel",
            "_view_count": null,
            "_view_module": "@jupyter-widgets/base",
            "_view_module_version": "1.2.0",
            "_view_name": "LayoutView",
            "align_content": null,
            "align_items": null,
            "align_self": null,
            "border": null,
            "bottom": null,
            "display": null,
            "flex": null,
            "flex_flow": null,
            "grid_area": null,
            "grid_auto_columns": null,
            "grid_auto_flow": null,
            "grid_auto_rows": null,
            "grid_column": null,
            "grid_gap": null,
            "grid_row": null,
            "grid_template_areas": null,
            "grid_template_columns": null,
            "grid_template_rows": null,
            "height": null,
            "justify_content": null,
            "justify_items": null,
            "left": null,
            "margin": null,
            "max_height": null,
            "max_width": null,
            "min_height": null,
            "min_width": null,
            "object_fit": null,
            "object_position": null,
            "order": null,
            "overflow": null,
            "overflow_x": null,
            "overflow_y": null,
            "padding": null,
            "right": null,
            "top": null,
            "visibility": null,
            "width": null
          }
        },
        "2130f6b6fcb0417aa98f01cb49518d88": {
          "model_module": "@jupyter-widgets/controls",
          "model_name": "DescriptionStyleModel",
          "model_module_version": "1.5.0",
          "state": {
            "_model_module": "@jupyter-widgets/controls",
            "_model_module_version": "1.5.0",
            "_model_name": "DescriptionStyleModel",
            "_view_count": null,
            "_view_module": "@jupyter-widgets/base",
            "_view_module_version": "1.2.0",
            "_view_name": "StyleView",
            "description_width": ""
          }
        },
        "4a1e7179c9154e6ab304825b9b0a6c62": {
          "model_module": "@jupyter-widgets/base",
          "model_name": "LayoutModel",
          "model_module_version": "1.2.0",
          "state": {
            "_model_module": "@jupyter-widgets/base",
            "_model_module_version": "1.2.0",
            "_model_name": "LayoutModel",
            "_view_count": null,
            "_view_module": "@jupyter-widgets/base",
            "_view_module_version": "1.2.0",
            "_view_name": "LayoutView",
            "align_content": null,
            "align_items": null,
            "align_self": null,
            "border": null,
            "bottom": null,
            "display": null,
            "flex": null,
            "flex_flow": null,
            "grid_area": null,
            "grid_auto_columns": null,
            "grid_auto_flow": null,
            "grid_auto_rows": null,
            "grid_column": null,
            "grid_gap": null,
            "grid_row": null,
            "grid_template_areas": null,
            "grid_template_columns": null,
            "grid_template_rows": null,
            "height": null,
            "justify_content": null,
            "justify_items": null,
            "left": null,
            "margin": null,
            "max_height": null,
            "max_width": null,
            "min_height": null,
            "min_width": null,
            "object_fit": null,
            "object_position": null,
            "order": null,
            "overflow": null,
            "overflow_x": null,
            "overflow_y": null,
            "padding": null,
            "right": null,
            "top": null,
            "visibility": null,
            "width": null
          }
        },
        "25cfe8f959444a09b91ff941290e9660": {
          "model_module": "@jupyter-widgets/controls",
          "model_name": "ProgressStyleModel",
          "model_module_version": "1.5.0",
          "state": {
            "_model_module": "@jupyter-widgets/controls",
            "_model_module_version": "1.5.0",
            "_model_name": "ProgressStyleModel",
            "_view_count": null,
            "_view_module": "@jupyter-widgets/base",
            "_view_module_version": "1.2.0",
            "_view_name": "StyleView",
            "bar_color": null,
            "description_width": ""
          }
        },
        "35336c1418f84b1c9a1d83583189bf29": {
          "model_module": "@jupyter-widgets/base",
          "model_name": "LayoutModel",
          "model_module_version": "1.2.0",
          "state": {
            "_model_module": "@jupyter-widgets/base",
            "_model_module_version": "1.2.0",
            "_model_name": "LayoutModel",
            "_view_count": null,
            "_view_module": "@jupyter-widgets/base",
            "_view_module_version": "1.2.0",
            "_view_name": "LayoutView",
            "align_content": null,
            "align_items": null,
            "align_self": null,
            "border": null,
            "bottom": null,
            "display": null,
            "flex": null,
            "flex_flow": null,
            "grid_area": null,
            "grid_auto_columns": null,
            "grid_auto_flow": null,
            "grid_auto_rows": null,
            "grid_column": null,
            "grid_gap": null,
            "grid_row": null,
            "grid_template_areas": null,
            "grid_template_columns": null,
            "grid_template_rows": null,
            "height": null,
            "justify_content": null,
            "justify_items": null,
            "left": null,
            "margin": null,
            "max_height": null,
            "max_width": null,
            "min_height": null,
            "min_width": null,
            "object_fit": null,
            "object_position": null,
            "order": null,
            "overflow": null,
            "overflow_x": null,
            "overflow_y": null,
            "padding": null,
            "right": null,
            "top": null,
            "visibility": null,
            "width": null
          }
        },
        "127f920fbe3c4f14b92d88bd1650dd05": {
          "model_module": "@jupyter-widgets/controls",
          "model_name": "DescriptionStyleModel",
          "model_module_version": "1.5.0",
          "state": {
            "_model_module": "@jupyter-widgets/controls",
            "_model_module_version": "1.5.0",
            "_model_name": "DescriptionStyleModel",
            "_view_count": null,
            "_view_module": "@jupyter-widgets/base",
            "_view_module_version": "1.2.0",
            "_view_name": "StyleView",
            "description_width": ""
          }
        }
      }
    }
  },
  "nbformat": 4,
  "nbformat_minor": 5
}